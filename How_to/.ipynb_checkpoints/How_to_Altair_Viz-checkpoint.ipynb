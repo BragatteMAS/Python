{
 "cells": [
  {
   "cell_type": "code",
   "execution_count": 2,
   "metadata": {},
   "outputs": [],
   "source": [
    "import numpy as np\n",
    "import pandas as pd\n",
    "import altair as alt"
   ]
  },
  {
   "cell_type": "code",
   "execution_count": null,
   "metadata": {},
   "outputs": [],
   "source": [
    "cols = ['Type','Price','Distance','Date','Landsize','Regionname']\n",
    "melb = pd.read_csv(\n",
    "   \"/content/melb_data.csv\", usecols = cols, parse_dates = ['Date']\n",
    ").sample(n=1000).reset_index(drop=True)\n",
    "melb.head()"
   ]
  }
 ],
 "metadata": {
  "kernelspec": {
   "display_name": "Python 3.8.2 64-bit ('dsz': conda)",
   "language": "python",
   "name": "python38264bitdszcondaf5b1811fa9c743e9afd06fda34ac3218"
  },
  "language_info": {
   "codemirror_mode": {
    "name": "ipython",
    "version": 3
   },
   "file_extension": ".py",
   "mimetype": "text/x-python",
   "name": "python",
   "nbconvert_exporter": "python",
   "pygments_lexer": "ipython3",
   "version": "3.8.8"
  }
 },
 "nbformat": 4,
 "nbformat_minor": 4
}
