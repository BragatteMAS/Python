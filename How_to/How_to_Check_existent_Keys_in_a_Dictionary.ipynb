{
  "nbformat": 4,
  "nbformat_minor": 0,
  "metadata": {
    "colab": {
      "name": "How to Check existent Keys in a Dict.ipynb",
      "provenance": [],
      "authorship_tag": "ABX9TyPypxk2S5zMuKiGpBZtupZa",
      "include_colab_link": true
    },
    "kernelspec": {
      "name": "python3",
      "display_name": "Python 3"
    },
    "language_info": {
      "name": "python"
    }
  },
  "cells": [
    {
      "cell_type": "markdown",
      "metadata": {
        "id": "view-in-github",
        "colab_type": "text"
      },
      "source": [
        "<a href=\"https://colab.research.google.com/github/BragatteMAS/Python/blob/master/How_to/How_to_Check_existent_Keys_in_a_Dictionary.ipynb\" target=\"_parent\"><img src=\"https://colab.research.google.com/assets/colab-badge.svg\" alt=\"Open In Colab\"/></a>"
      ]
    },
    {
      "cell_type": "markdown",
      "metadata": {
        "id": "y4kQcqvDar0W"
      },
      "source": [
        "\n",
        "## Stop Using Square Brackets To Get Dictionary Items — Use .get()\n",
        "\n",
        "How to check if the ```key variable```  exist or not in the dictionary ?\n",
        "\n",
        "    Best answer for this is a None than an error.\n",
        "\n",
        "@Bragatte 202103231554 | REFactor\n"
      ]
    },
    {
      "cell_type": "markdown",
      "metadata": {
        "id": "9aUE0UCrcIBa"
      },
      "source": [
        "Say you have a dictionary that looks like this:"
      ]
    },
    {
      "cell_type": "code",
      "metadata": {
        "id": "B6p_981OaeB8"
      },
      "source": [
        "#dict\n",
        "bragatte = {\n",
        "  'age':35,\n",
        "  'gender':'male',\n",
        "  'employed':True,\n",
        "}\n"
      ],
      "execution_count": 1,
      "outputs": []
    },
    {
      "cell_type": "markdown",
      "metadata": {
        "id": "sT2MzffFcNfm"
      },
      "source": [
        "And you want to get the value for `age`. You may be accustomed to writing `bragatte['age']`. While this works in this instance, it won’t work when the value doesn’t exist.\n",
        "\n",
        "For example, attempting to access a non-existent value of 'location' will raise a KeyError:"
      ]
    },
    {
      "cell_type": "code",
      "metadata": {
        "colab": {
          "base_uri": "https://localhost:8080/",
          "height": 171
        },
        "id": "i_yCiUXUcIz_",
        "outputId": "f06da1af-14d6-485c-a33a-b6d34d0a1f9a"
      },
      "source": [
        "print(bragatte['location'])"
      ],
      "execution_count": 2,
      "outputs": [
        {
          "output_type": "error",
          "ename": "KeyError",
          "evalue": "ignored",
          "traceback": [
            "\u001b[0;31m---------------------------------------------------------------------------\u001b[0m",
            "\u001b[0;31mKeyError\u001b[0m                                  Traceback (most recent call last)",
            "\u001b[0;32m<ipython-input-2-9df0ab07968f>\u001b[0m in \u001b[0;36m<module>\u001b[0;34m()\u001b[0m\n\u001b[0;32m----> 1\u001b[0;31m \u001b[0mprint\u001b[0m\u001b[0;34m(\u001b[0m\u001b[0mbragatte\u001b[0m\u001b[0;34m[\u001b[0m\u001b[0;34m'location'\u001b[0m\u001b[0;34m]\u001b[0m\u001b[0;34m)\u001b[0m\u001b[0;34m\u001b[0m\u001b[0;34m\u001b[0m\u001b[0m\n\u001b[0m",
            "\u001b[0;31mKeyError\u001b[0m: 'location'"
          ]
        }
      ]
    },
    {
      "cell_type": "markdown",
      "metadata": {
        "id": "FDw5xScfcdV3"
      },
      "source": [
        "If you’re iterating over a list of dictionaries, this will interrupt your script. Sure, you could use a `try, except`, but why do that when you can use the `.get()` method instead?\n",
        "\n",
        "The method will simply return `None` in the event of a missing key and continue on its happy way!"
      ]
    },
    {
      "cell_type": "code",
      "metadata": {
        "colab": {
          "base_uri": "https://localhost:8080/"
        },
        "id": "i7jjXQmWcOGm",
        "outputId": "be97cc3e-ec3e-4d5b-987a-96c7244559c2"
      },
      "source": [
        "print(bragatte.get('location'))"
      ],
      "execution_count": 3,
      "outputs": [
        {
          "output_type": "stream",
          "text": [
            "None\n"
          ],
          "name": "stdout"
        }
      ]
    }
  ]
}