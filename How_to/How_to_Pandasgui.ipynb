{
 "cells": [
  {
   "cell_type": "markdown",
   "metadata": {},
   "source": [
    "# How to pandasgui"
   ]
  },
  {
   "cell_type": "code",
   "execution_count": 2,
   "metadata": {
    "collapsed": true,
    "jupyter": {
     "outputs_hidden": true
    }
   },
   "outputs": [
    {
     "name": "stdout",
     "output_type": "stream",
     "text": [
      "Collecting pandasgui\n",
      "  Using cached pandasgui-0.2.7-py3-none-any.whl\n",
      "Requirement already satisfied: dacite in /home/bragatte/anaconda3/envs/dsz/lib/python3.8/site-packages (from pandasgui) (1.6.0)\n",
      "Requirement already satisfied: PyQt5 in /home/bragatte/anaconda3/envs/dsz/lib/python3.8/site-packages (from pandasgui) (5.15.2)\n",
      "Requirement already satisfied: plotly in /home/bragatte/anaconda3/envs/dsz/lib/python3.8/site-packages (from pandasgui) (4.14.1)\n",
      "Requirement already satisfied: setuptools in /home/bragatte/.local/lib/python3.8/site-packages (from pandasgui) (50.3.2)\n",
      "Requirement already satisfied: PyQtWebEngine in /home/bragatte/anaconda3/envs/dsz/lib/python3.8/site-packages (from pandasgui) (5.15.2)\n",
      "Requirement already satisfied: PyQt5-sip in /home/bragatte/anaconda3/envs/dsz/lib/python3.8/site-packages (from pandasgui) (12.8.1)\n",
      "Requirement already satisfied: appdirs in /home/bragatte/anaconda3/envs/dsz/lib/python3.8/site-packages (from pandasgui) (1.4.4)\n",
      "Requirement already satisfied: IPython in /home/bragatte/.local/lib/python3.8/site-packages (from pandasgui) (7.19.0)\n",
      "Requirement already satisfied: pandas in /home/bragatte/.local/lib/python3.8/site-packages (from pandasgui) (1.1.4)\n",
      "Requirement already satisfied: pygments in /home/bragatte/.local/lib/python3.8/site-packages (from IPython->pandasgui) (2.7.2)\n",
      "Requirement already satisfied: backcall in /home/bragatte/.local/lib/python3.8/site-packages (from IPython->pandasgui) (0.2.0)\n",
      "Requirement already satisfied: pickleshare in /home/bragatte/.local/lib/python3.8/site-packages (from IPython->pandasgui) (0.7.5)\n",
      "Requirement already satisfied: pexpect>4.3 in /home/bragatte/.local/lib/python3.8/site-packages (from IPython->pandasgui) (4.8.0)\n",
      "Requirement already satisfied: traitlets>=4.2 in /home/bragatte/.local/lib/python3.8/site-packages (from IPython->pandasgui) (5.0.5)\n",
      "Requirement already satisfied: jedi>=0.10 in /home/bragatte/.local/lib/python3.8/site-packages (from IPython->pandasgui) (0.17.2)\n",
      "Requirement already satisfied: prompt-toolkit!=3.0.0,!=3.0.1,<3.1.0,>=2.0.0 in /home/bragatte/.local/lib/python3.8/site-packages (from IPython->pandasgui) (3.0.8)\n",
      "Requirement already satisfied: decorator in /home/bragatte/.local/lib/python3.8/site-packages (from IPython->pandasgui) (4.4.2)\n",
      "Requirement already satisfied: parso<0.8.0,>=0.7.0 in /home/bragatte/anaconda3/envs/dsz/lib/python3.8/site-packages (from jedi>=0.10->IPython->pandasgui) (0.7.0)\n",
      "Requirement already satisfied: ptyprocess>=0.5 in /home/bragatte/.local/lib/python3.8/site-packages (from pexpect>4.3->IPython->pandasgui) (0.6.0)\n",
      "Requirement already satisfied: wcwidth in /home/bragatte/.local/lib/python3.8/site-packages (from prompt-toolkit!=3.0.0,!=3.0.1,<3.1.0,>=2.0.0->IPython->pandasgui) (0.2.5)\n",
      "Requirement already satisfied: ipython-genutils in /home/bragatte/.local/lib/python3.8/site-packages (from traitlets>=4.2->IPython->pandasgui) (0.2.0)\n",
      "Requirement already satisfied: python-dateutil>=2.7.3 in /home/bragatte/.local/lib/python3.8/site-packages (from pandas->pandasgui) (2.8.1)\n",
      "Requirement already satisfied: pytz>=2017.2 in /home/bragatte/anaconda3/envs/dsz/lib/python3.8/site-packages (from pandas->pandasgui) (2020.5)\n",
      "Requirement already satisfied: numpy>=1.15.4 in /home/bragatte/.local/lib/python3.8/site-packages (from pandas->pandasgui) (1.19.4)\n",
      "Requirement already satisfied: six>=1.5 in /home/bragatte/anaconda3/envs/dsz/lib/python3.8/site-packages (from python-dateutil>=2.7.3->pandas->pandasgui) (1.15.0)\n",
      "Requirement already satisfied: retrying>=1.3.3 in /home/bragatte/anaconda3/envs/dsz/lib/python3.8/site-packages (from plotly->pandasgui) (1.3.3)\n",
      "Collecting pynput\n",
      "  Using cached pynput-1.7.2-py2.py3-none-any.whl (99 kB)\n",
      "Requirement already satisfied: python-xlib>=0.17 in /home/bragatte/anaconda3/envs/dsz/lib/python3.8/site-packages (from pynput->pandasgui) (0.29)\n",
      "Collecting evdev>=1.3\n",
      "  Using cached evdev-1.4.0-cp38-cp38-linux_x86_64.whl\n",
      "Installing collected packages: evdev, pynput, pandasgui\n",
      "Successfully installed evdev-1.4.0 pandasgui-0.2.7 pynput-1.7.2\n"
     ]
    }
   ],
   "source": [
    "!pip install pandasgui"
   ]
  },
  {
   "cell_type": "markdown",
   "metadata": {},
   "source": [
    "## Import libraries"
   ]
  },
  {
   "cell_type": "code",
   "execution_count": 3,
   "metadata": {},
   "outputs": [],
   "source": [
    "import pandas as pd\n",
    "import pandasgui as show"
   ]
  },
  {
   "cell_type": "code",
   "execution_count": 5,
   "metadata": {
    "collapsed": true,
    "jupyter": {
     "outputs_hidden": true
    }
   },
   "outputs": [
    {
     "data": {
      "text/plain": [
       "<pandasgui.gui.PandasGui at 0x7f5fe47740d0>"
      ]
     },
     "execution_count": 5,
     "metadata": {},
     "output_type": "execute_result"
    },
    {
     "name": "stderr",
     "output_type": "stream",
     "text": [
      "PandasGUI ERROR — pandasgui.store — name 'sepal_lengh' is not defined\n",
      "Traceback (most recent call last):\n",
      "  File \"/home/bragatte/.local/lib/python3.8/site-packages/pandas/core/computation/scope.py\", line 188, in resolve\n",
      "    return self.resolvers[key]\n",
      "  File \"/home/bragatte/anaconda3/envs/dsz/lib/python3.8/collections/__init__.py\", line 898, in __getitem__\n",
      "    return self.__missing__(key)            # support subclasses that define __missing__\n",
      "  File \"/home/bragatte/anaconda3/envs/dsz/lib/python3.8/collections/__init__.py\", line 890, in __missing__\n",
      "    raise KeyError(key)\n",
      "KeyError: 'sepal_lengh'\n",
      "\n",
      "During handling of the above exception, another exception occurred:\n",
      "\n",
      "Traceback (most recent call last):\n",
      "  File \"/home/bragatte/.local/lib/python3.8/site-packages/pandas/core/computation/scope.py\", line 199, in resolve\n",
      "    return self.temps[key]\n",
      "KeyError: 'sepal_lengh'\n",
      "\n",
      "The above exception was the direct cause of the following exception:\n",
      "\n",
      "Traceback (most recent call last):\n",
      "  File \"/home/bragatte/anaconda3/envs/dsz/lib/python3.8/site-packages/pandasgui/store.py\", line 234, in apply_filters\n",
      "    df = df.query(filt.expr)\n",
      "  File \"/home/bragatte/.local/lib/python3.8/site-packages/pandas/core/frame.py\", line 3345, in query\n",
      "    res = self.eval(expr, **kwargs)\n",
      "  File \"/home/bragatte/.local/lib/python3.8/site-packages/pandas/core/frame.py\", line 3475, in eval\n",
      "    return _eval(expr, inplace=inplace, **kwargs)\n",
      "  File \"/home/bragatte/.local/lib/python3.8/site-packages/pandas/core/computation/eval.py\", line 341, in eval\n",
      "    parsed_expr = Expr(expr, engine=engine, parser=parser, env=env)\n",
      "  File \"/home/bragatte/.local/lib/python3.8/site-packages/pandas/core/computation/expr.py\", line 787, in __init__\n",
      "    self.terms = self.parse()\n",
      "  File \"/home/bragatte/.local/lib/python3.8/site-packages/pandas/core/computation/expr.py\", line 806, in parse\n",
      "    return self._visitor.visit(self.expr)\n",
      "  File \"/home/bragatte/.local/lib/python3.8/site-packages/pandas/core/computation/expr.py\", line 398, in visit\n",
      "    return visitor(node, **kwargs)\n",
      "  File \"/home/bragatte/.local/lib/python3.8/site-packages/pandas/core/computation/expr.py\", line 404, in visit_Module\n",
      "    return self.visit(expr, **kwargs)\n",
      "  File \"/home/bragatte/.local/lib/python3.8/site-packages/pandas/core/computation/expr.py\", line 398, in visit\n",
      "    return visitor(node, **kwargs)\n",
      "  File \"/home/bragatte/.local/lib/python3.8/site-packages/pandas/core/computation/expr.py\", line 407, in visit_Expr\n",
      "    return self.visit(node.value, **kwargs)\n",
      "  File \"/home/bragatte/.local/lib/python3.8/site-packages/pandas/core/computation/expr.py\", line 398, in visit\n",
      "    return visitor(node, **kwargs)\n",
      "  File \"/home/bragatte/.local/lib/python3.8/site-packages/pandas/core/computation/expr.py\", line 699, in visit_Compare\n",
      "    return self.visit(binop)\n",
      "  File \"/home/bragatte/.local/lib/python3.8/site-packages/pandas/core/computation/expr.py\", line 398, in visit\n",
      "    return visitor(node, **kwargs)\n",
      "  File \"/home/bragatte/.local/lib/python3.8/site-packages/pandas/core/computation/expr.py\", line 520, in visit_BinOp\n",
      "    op, op_class, left, right = self._maybe_transform_eq_ne(node)\n",
      "  File \"/home/bragatte/.local/lib/python3.8/site-packages/pandas/core/computation/expr.py\", line 439, in _maybe_transform_eq_ne\n",
      "    left = self.visit(node.left, side=\"left\")\n",
      "  File \"/home/bragatte/.local/lib/python3.8/site-packages/pandas/core/computation/expr.py\", line 398, in visit\n",
      "    return visitor(node, **kwargs)\n",
      "  File \"/home/bragatte/.local/lib/python3.8/site-packages/pandas/core/computation/expr.py\", line 533, in visit_Name\n",
      "    return self.term_type(node.id, self.env, **kwargs)\n",
      "  File \"/home/bragatte/.local/lib/python3.8/site-packages/pandas/core/computation/ops.py\", line 84, in __init__\n",
      "    self._value = self._resolve_name()\n",
      "  File \"/home/bragatte/.local/lib/python3.8/site-packages/pandas/core/computation/ops.py\", line 101, in _resolve_name\n",
      "    res = self.env.resolve(self.local_name, is_local=self.is_local)\n",
      "  File \"/home/bragatte/.local/lib/python3.8/site-packages/pandas/core/computation/scope.py\", line 204, in resolve\n",
      "    raise UndefinedVariableError(key, is_local) from err\n",
      "pandas.core.computation.ops.UndefinedVariableError: name 'sepal_lengh' is not defined\n"
     ]
    }
   ],
   "source": [
    "from pandasgui import show\n",
    "from pandasgui.datasets import all_datasets\n",
    "show(**all_datasetsts)"
   ]
  },
  {
   "cell_type": "markdown",
   "metadata": {},
   "source": [
    "After that the Pandasgui interface will open to edit.\n",
    "\n",
    "[PandasGui documentatio](https://pypi.org/project/pandasgui/)"
   ]
  },
  {
   "cell_type": "markdown",
   "metadata": {},
   "source": [
    "[Ref](https://www.youtube.com/watch?v=F8mSlETrcl8&t=198s)"
   ]
  }
 ],
 "metadata": {
  "kernelspec": {
   "display_name": "Python 3",
   "language": "python",
   "name": "python3"
  },
  "language_info": {
   "codemirror_mode": {
    "name": "ipython",
    "version": 3
   },
   "file_extension": ".py",
   "mimetype": "text/x-python",
   "name": "python",
   "nbconvert_exporter": "python",
   "pygments_lexer": "ipython3",
   "version": "3.8.5"
  }
 },
 "nbformat": 4,
 "nbformat_minor": 4
}
