{
  "nbformat": 4,
  "nbformat_minor": 0,
  "metadata": {
    "colab": {
      "name": "10_How_to_dropna_especific.ipynb",
      "provenance": [],
      "collapsed_sections": [],
      "authorship_tag": "ABX9TyO+RTHaPU1YgTHYrdk3beK4",
      "include_colab_link": true
    },
    "kernelspec": {
      "name": "python3",
      "display_name": "Python 3"
    }
  },
  "cells": [
    {
      "cell_type": "markdown",
      "metadata": {
        "id": "view-in-github",
        "colab_type": "text"
      },
      "source": [
        "<a href=\"https://colab.research.google.com/github/BragatteMAS/Python_Learning/blob/master/100daysofcode/10_How_to_dropna_especific.ipynb\" target=\"_parent\"><img src=\"https://colab.research.google.com/assets/colab-badge.svg\" alt=\"Open In Colab\"/></a>"
      ]
    },
    {
      "cell_type": "markdown",
      "metadata": {
        "id": "TrkGs1MzvGDL"
      },
      "source": [
        "'''\n",
        "100daysofcode\n",
        "\"How to dropNA especific data\"\n",
        "create by  @bragatte ^202101251511\n",
        "Day 10\n",
        "[Ref](https://www.youtube.com/watch?v=Itin6sBj49k)\n",
        "'''"
      ]
    },
    {
      "cell_type": "code",
      "metadata": {
        "id": "yy64QZWKurB3"
      },
      "source": [
        "import pandas as pd"
      ],
      "execution_count": 1,
      "outputs": []
    },
    {
      "cell_type": "code",
      "metadata": {
        "id": "pi4WEP04vFuu"
      },
      "source": [
        "enem_SP_2019 = pd.read_csv('')"
      ],
      "execution_count": null,
      "outputs": []
    },
    {
      "cell_type": "code",
      "metadata": {
        "id": "8Ur-jds2vFsZ"
      },
      "source": [
        "enem_SP_2019.head()"
      ],
      "execution_count": null,
      "outputs": []
    },
    {
      "cell_type": "code",
      "metadata": {
        "id": "2hv5u9CkvFpv"
      },
      "source": [
        "enem_SP_2019.columns.values #check columns names"
      ],
      "execution_count": null,
      "outputs": []
    },
    {
      "cell_type": "code",
      "metadata": {
        "id": "WK6EreaTvFnI"
      },
      "source": [
        "enem_SP_2019.info() #check number of rows"
      ],
      "execution_count": null,
      "outputs": []
    },
    {
      "cell_type": "code",
      "metadata": {
        "id": "viO4bWQsvFkd"
      },
      "source": [
        "enem_SP_2019.dropNA() #All rows with blanks"
      ],
      "execution_count": null,
      "outputs": []
    },
    {
      "cell_type": "code",
      "metadata": {
        "id": "J77hw25QvFiB"
      },
      "source": [
        "enem_SP_2019.info() #diff number of rows"
      ],
      "execution_count": null,
      "outputs": []
    },
    {
      "cell_type": "code",
      "metadata": {
        "id": "T-3X-yLwvFfg"
      },
      "source": [
        "enem_SP_2019.isna() #check with true or false if line is NA"
      ],
      "execution_count": null,
      "outputs": []
    },
    {
      "cell_type": "code",
      "metadata": {
        "id": "pXjcIJFmvFdE"
      },
      "source": [
        "enem_SP_2019.isna().sum().sort_values(ascending=False).head(40) #show in the columns the number of is NA"
      ],
      "execution_count": null,
      "outputs": []
    },
    {
      "cell_type": "code",
      "metadata": {
        "id": "YLwTuS8evFac"
      },
      "source": [
        "enem_SP_2019.dropna(subset=[], inplace=True) #all columns of interest inside subset"
      ],
      "execution_count": null,
      "outputs": []
    },
    {
      "cell_type": "code",
      "metadata": {
        "id": "DM_1UB1PvFXz"
      },
      "source": [
        "enem_SP_2019.isna().sum().sort_values(ascending=False).head(15) #check the result of dropna subset"
      ],
      "execution_count": null,
      "outputs": []
    },
    {
      "cell_type": "code",
      "metadata": {
        "id": "g_x0URJJvFVO"
      },
      "source": [
        "selected_columns = [] #paste here all columns after dropna subset"
      ],
      "execution_count": null,
      "outputs": []
    },
    {
      "cell_type": "code",
      "metadata": {
        "id": "ZdyuHew-vFSw"
      },
      "source": [
        "enem_SP_2019[selected_columns]"
      ],
      "execution_count": null,
      "outputs": []
    }
  ]
}