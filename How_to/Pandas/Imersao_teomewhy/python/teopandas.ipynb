{
 "cells": [
  {
   "cell_type": "markdown",
   "metadata": {},
   "source": [
    "## String"
   ]
  },
  {
   "cell_type": "code",
   "execution_count": 2,
   "metadata": {},
   "outputs": [
    {
     "name": "stdout",
     "output_type": "stream",
     "text": [
      "Marcelo Bragatte\n"
     ]
    }
   ],
   "source": [
    "nome = \"Marcelo Bragatte\"\n",
    "print(nome)"
   ]
  },
  {
   "cell_type": "code",
   "execution_count": 3,
   "metadata": {},
   "outputs": [
    {
     "data": {
      "text/plain": [
       "'MARCELO BRAGATTE'"
      ]
     },
     "execution_count": 3,
     "metadata": {},
     "output_type": "execute_result"
    }
   ],
   "source": [
    "nome.upper()"
   ]
  },
  {
   "cell_type": "code",
   "execution_count": 4,
   "metadata": {},
   "outputs": [
    {
     "data": {
      "text/plain": [
       "'marcelo bragatte'"
      ]
     },
     "execution_count": 4,
     "metadata": {},
     "output_type": "execute_result"
    }
   ],
   "source": [
    "nome.lower()"
   ]
  },
  {
   "cell_type": "code",
   "execution_count": 5,
   "metadata": {},
   "outputs": [
    {
     "data": {
      "text/plain": [
       "'Braga'"
      ]
     },
     "execution_count": 5,
     "metadata": {},
     "output_type": "execute_result"
    }
   ],
   "source": [
    "nome[8:13]"
   ]
  },
  {
   "cell_type": "code",
   "execution_count": 6,
   "metadata": {},
   "outputs": [
    {
     "data": {
      "text/plain": [
       "'ettagarB olecraM'"
      ]
     },
     "execution_count": 6,
     "metadata": {},
     "output_type": "execute_result"
    }
   ],
   "source": [
    "nome[::-1] # -> start; stop; step"
   ]
  },
  {
   "cell_type": "code",
   "execution_count": 7,
   "metadata": {},
   "outputs": [
    {
     "data": {
      "text/plain": [
       "'MeBa'"
      ]
     },
     "execution_count": 7,
     "metadata": {},
     "output_type": "execute_result"
    }
   ],
   "source": [
    "nome[::4] #two steps"
   ]
  },
  {
   "cell_type": "markdown",
   "metadata": {},
   "source": [
    "## Numbers"
   ]
  },
  {
   "cell_type": "code",
   "execution_count": 8,
   "metadata": {},
   "outputs": [
    {
     "data": {
      "text/plain": [
       "int"
      ]
     },
     "execution_count": 8,
     "metadata": {},
     "output_type": "execute_result"
    }
   ],
   "source": [
    "type(1)"
   ]
  },
  {
   "cell_type": "code",
   "execution_count": 9,
   "metadata": {},
   "outputs": [
    {
     "data": {
      "text/plain": [
       "float"
      ]
     },
     "execution_count": 9,
     "metadata": {},
     "output_type": "execute_result"
    }
   ],
   "source": [
    "type(1.)"
   ]
  },
  {
   "cell_type": "code",
   "execution_count": 10,
   "metadata": {},
   "outputs": [
    {
     "data": {
      "text/plain": [
       "bool"
      ]
     },
     "execution_count": 10,
     "metadata": {},
     "output_type": "execute_result"
    }
   ],
   "source": [
    "type(True)"
   ]
  },
  {
   "cell_type": "code",
   "execution_count": 11,
   "metadata": {},
   "outputs": [
    {
     "name": "stdout",
     "output_type": "stream",
     "text": [
      "3.0\n",
      "8\n",
      "6\n",
      "1.5\n",
      "1\n",
      "1\n"
     ]
    }
   ],
   "source": [
    "print(1 + 1. + True) # soma\n",
    "print(2 ** 3)        # potência\n",
    "print(3 * 2)         # muiltiplicação\n",
    "print(3 / 2)         # divisão\n",
    "print( 3 % 2)        # resto da divisão\n",
    "print( 3 // 2)       # divisão inteira"
   ]
  },
  {
   "cell_type": "markdown",
   "metadata": {},
   "source": [
    "#### Listas\n",
    "* list comprehension"
   ]
  },
  {
   "cell_type": "code",
   "execution_count": 12,
   "metadata": {},
   "outputs": [],
   "source": [
    "minha_lista = [\"Bragatte\", 35, [\"Sá\", \"Doug\", \"Bebel\"], True ]"
   ]
  },
  {
   "cell_type": "code",
   "execution_count": 13,
   "metadata": {},
   "outputs": [
    {
     "data": {
      "text/plain": [
       "4"
      ]
     },
     "execution_count": 13,
     "metadata": {},
     "output_type": "execute_result"
    }
   ],
   "source": [
    "len(minha_lista) # Quantidade de elementos na lista"
   ]
  },
  {
   "cell_type": "code",
   "execution_count": 14,
   "metadata": {},
   "outputs": [
    {
     "data": {
      "text/plain": [
       "'Bragatte'"
      ]
     },
     "execution_count": 14,
     "metadata": {},
     "output_type": "execute_result"
    }
   ],
   "source": [
    "minha_lista[0] # Primeiro elemento"
   ]
  },
  {
   "cell_type": "code",
   "execution_count": 15,
   "metadata": {},
   "outputs": [
    {
     "data": {
      "text/plain": [
       "True"
      ]
     },
     "execution_count": 15,
     "metadata": {},
     "output_type": "execute_result"
    }
   ],
   "source": [
    "minha_lista[-1]"
   ]
  },
  {
   "cell_type": "code",
   "execution_count": 16,
   "metadata": {},
   "outputs": [
    {
     "data": {
      "text/plain": [
       "'Sá'"
      ]
     },
     "execution_count": 16,
     "metadata": {},
     "output_type": "execute_result"
    }
   ],
   "source": [
    "minha_lista[2][0]"
   ]
  },
  {
   "cell_type": "code",
   "execution_count": 17,
   "metadata": {},
   "outputs": [
    {
     "data": {
      "text/plain": [
       "['Bebel', 'Doug', 'Sá']"
      ]
     },
     "execution_count": 17,
     "metadata": {},
     "output_type": "execute_result"
    }
   ],
   "source": [
    "minha_lista[2][::-1]"
   ]
  },
  {
   "cell_type": "markdown",
   "metadata": {},
   "source": [
    "#### Dicionários\n"
   ]
  },
  {
   "cell_type": "code",
   "execution_count": 18,
   "metadata": {},
   "outputs": [],
   "source": [
    "dados = {\"nomes\":[\"Bragatte\", \"Sá\", \"Doug\", \"Bebel\"],\n",
    "        \"sobrenome\":[\"Bragatte\", \"Guedes\", \"Guedes_Bragatte\",\"Guedes_Bragatte\"],\n",
    "        \"idade\": [35, 37, 2, 2]}"
   ]
  },
  {
   "cell_type": "code",
   "execution_count": 19,
   "metadata": {},
   "outputs": [
    {
     "data": {
      "text/plain": [
       "'Bragatte'"
      ]
     },
     "execution_count": 19,
     "metadata": {},
     "output_type": "execute_result"
    }
   ],
   "source": [
    "dados[\"nomes\"][0]"
   ]
  },
  {
   "cell_type": "markdown",
   "metadata": {},
   "source": [
    "    Adicionando dados no dic"
   ]
  },
  {
   "cell_type": "code",
   "execution_count": 20,
   "metadata": {},
   "outputs": [],
   "source": [
    "dados[\"genero\"] = [\"M\",\"F\",\"M\",\"F\"]"
   ]
  },
  {
   "cell_type": "code",
   "execution_count": 21,
   "metadata": {},
   "outputs": [
    {
     "data": {
      "text/plain": [
       "{'nomes': ['Bragatte', 'Sá', 'Doug', 'Bebel'],\n",
       " 'sobrenome': ['Bragatte', 'Guedes', 'Guedes_Bragatte', 'Guedes_Bragatte'],\n",
       " 'idade': [35, 37, 2, 2],\n",
       " 'genero': ['M', 'F', 'M', 'F']}"
      ]
     },
     "execution_count": 21,
     "metadata": {},
     "output_type": "execute_result"
    }
   ],
   "source": [
    "dados"
   ]
  },
  {
   "cell_type": "code",
   "execution_count": 22,
   "metadata": {},
   "outputs": [
    {
     "data": {
      "text/plain": [
       "'Bragatte'"
      ]
     },
     "execution_count": 22,
     "metadata": {},
     "output_type": "execute_result"
    }
   ],
   "source": [
    "dados[\"nomes\"][0].title()"
   ]
  },
  {
   "cell_type": "markdown",
   "metadata": {},
   "source": [
    "#### If, Else, Elif"
   ]
  },
  {
   "cell_type": "code",
   "execution_count": 23,
   "metadata": {},
   "outputs": [
    {
     "name": "stdin",
     "output_type": "stream",
     "text": [
      "Entre com a sua idade 17\n"
     ]
    },
    {
     "name": "stdout",
     "output_type": "stream",
     "text": [
      "Beba leite ou suco preferencialmente.\n"
     ]
    }
   ],
   "source": [
    "idade = input(\"Entre com a sua idade\")\n",
    "idade = int(idade)\n",
    "if idade <18:\n",
    "    print(\"Beba leite ou suco preferencialmente.\")\n",
    "elif idade <= 65:\n",
    "    print(\"Beba com parcimônia e se beber não dirija.\")\n",
    "else:\n",
    "    print(\"Não ingerir bebida alcóolica com medicamentos.\")\n"
   ]
  },
  {
   "cell_type": "markdown",
   "metadata": {},
   "source": [
    "#### For & While"
   ]
  },
  {
   "cell_type": "code",
   "execution_count": 24,
   "metadata": {},
   "outputs": [
    {
     "name": "stdout",
     "output_type": "stream",
     "text": [
      "0 é par\n",
      "1 é impar\n",
      "2 é par\n",
      "3 é impar\n",
      "4 é par\n",
      "5 é impar\n",
      "6 é par\n",
      "7 é impar\n",
      "8 é par\n",
      "9 é impar\n"
     ]
    }
   ],
   "source": [
    "for i in range(10):\n",
    "    if i % 2 == 0:\n",
    "        print(i, \"é par\")\n",
    "    else:\n",
    "        print(i, \"é impar\")"
   ]
  },
  {
   "cell_type": "raw",
   "metadata": {},
   "source": [
    "while True:\n",
    "    print(\"Esse não para!\")"
   ]
  },
  {
   "cell_type": "code",
   "execution_count": 25,
   "metadata": {},
   "outputs": [
    {
     "name": "stdout",
     "output_type": "stream",
     "text": [
      "1\n",
      "2\n",
      "3\n",
      "4\n",
      "5\n",
      "6\n",
      "7\n",
      "8\n",
      "9\n",
      "10\n"
     ]
    }
   ],
   "source": [
    "i  = 1\n",
    "while True:\n",
    "    print(i)\n",
    "    if i == 10:\n",
    "        break\n",
    "    i+=1 #mesmo que i=i+1"
   ]
  },
  {
   "cell_type": "code",
   "execution_count": 26,
   "metadata": {},
   "outputs": [
    {
     "name": "stdout",
     "output_type": "stream",
     "text": [
      "1\n",
      "2\n",
      "3\n",
      "4\n",
      "5\n",
      "6\n",
      "7\n",
      "8\n",
      "9\n",
      "10\n"
     ]
    }
   ],
   "source": [
    "#alternativa  \n",
    "i = 1\n",
    "while i <= 10:\n",
    "    print(i)\n",
    "    i += 1"
   ]
  },
  {
   "cell_type": "markdown",
   "metadata": {},
   "source": [
    "#### Funções"
   ]
  },
  {
   "cell_type": "code",
   "execution_count": 27,
   "metadata": {},
   "outputs": [],
   "source": [
    "def calc_cubo(x):\n",
    "    return x ** 3"
   ]
  },
  {
   "cell_type": "code",
   "execution_count": 28,
   "metadata": {},
   "outputs": [
    {
     "data": {
      "text/plain": [
       "64"
      ]
     },
     "execution_count": 28,
     "metadata": {},
     "output_type": "execute_result"
    }
   ],
   "source": [
    "calc_cubo(4)"
   ]
  },
  {
   "cell_type": "code",
   "execution_count": 29,
   "metadata": {},
   "outputs": [],
   "source": [
    "def funcao_bivariada(x, y):\n",
    "    return 2 * x + 4 * (y ** 3)"
   ]
  },
  {
   "cell_type": "code",
   "execution_count": 30,
   "metadata": {},
   "outputs": [
    {
     "data": {
      "text/plain": [
       "276"
      ]
     },
     "execution_count": 30,
     "metadata": {},
     "output_type": "execute_result"
    }
   ],
   "source": [
    "funcao_bivariada(10, 4)"
   ]
  },
  {
   "cell_type": "markdown",
   "metadata": {},
   "source": [
    "## Finalmente, Pandas!!\n",
    "\n",
    "Fingindo um pouco a análise de dados\n",
    "\n",
    "### Comandos básicos\n",
    "\n",
    "* Importação da biblioteca\n",
    "* O que são Series e Dataframes?\n",
    "    - Criando o primeiro dataframe\n",
    "* Leitura de arquivos\n",
    "* Escrita de arquivos\n",
    "* Operações básicas de DataFrame"
   ]
  },
  {
   "cell_type": "code",
   "execution_count": 31,
   "metadata": {},
   "outputs": [],
   "source": [
    "import pandas as pd"
   ]
  },
  {
   "cell_type": "markdown",
   "metadata": {},
   "source": [
    "### Séries"
   ]
  },
  {
   "cell_type": "code",
   "execution_count": 32,
   "metadata": {},
   "outputs": [
    {
     "data": {
      "text/plain": [
       "0    Bragatte\n",
       "1          Sá\n",
       "2        Doug\n",
       "3       Bebel\n",
       "dtype: object"
      ]
     },
     "execution_count": 32,
     "metadata": {},
     "output_type": "execute_result"
    }
   ],
   "source": [
    "minha_serie = pd.Series( [\"Bragatte\", \"Sá\", \"Doug\", \"Bebel\"] )\n",
    "minha_serie"
   ]
  },
  {
   "cell_type": "code",
   "execution_count": 33,
   "metadata": {},
   "outputs": [
    {
     "data": {
      "text/plain": [
       "1       Sá\n",
       "2     Doug\n",
       "3    Bebel\n",
       "dtype: object"
      ]
     },
     "execution_count": 33,
     "metadata": {},
     "output_type": "execute_result"
    }
   ],
   "source": [
    "minha_serie[1:]"
   ]
  },
  {
   "cell_type": "code",
   "execution_count": 34,
   "metadata": {},
   "outputs": [],
   "source": [
    "minha_serie.name"
   ]
  },
  {
   "cell_type": "code",
   "execution_count": 35,
   "metadata": {},
   "outputs": [],
   "source": [
    "dados = [\"Bragatte\", \"Sá\", \"Doug\", \"Bebel\"]\n",
    "nova_serie = pd.Series(dados, name=\"nome\")"
   ]
  },
  {
   "cell_type": "code",
   "execution_count": 36,
   "metadata": {},
   "outputs": [
    {
     "data": {
      "text/plain": [
       "0    False\n",
       "1    False\n",
       "2    False\n",
       "3     True\n",
       "Name: nome, dtype: bool"
      ]
     },
     "execution_count": 36,
     "metadata": {},
     "output_type": "execute_result"
    }
   ],
   "source": [
    "nova_serie == \"Bebel\""
   ]
  },
  {
   "cell_type": "code",
   "execution_count": 37,
   "metadata": {},
   "outputs": [
    {
     "data": {
      "text/plain": [
       "0    35\n",
       "1    37\n",
       "2     2\n",
       "3     2\n",
       "dtype: int64"
      ]
     },
     "execution_count": 37,
     "metadata": {},
     "output_type": "execute_result"
    }
   ],
   "source": [
    "idade = pd.Series( [35,37,2,2] )\n",
    "idade"
   ]
  },
  {
   "cell_type": "code",
   "execution_count": 38,
   "metadata": {},
   "outputs": [
    {
     "data": {
      "text/plain": [
       "0    350\n",
       "1    370\n",
       "2     20\n",
       "3     20\n",
       "dtype: int64"
      ]
     },
     "execution_count": 38,
     "metadata": {},
     "output_type": "execute_result"
    }
   ],
   "source": [
    "idade * 10"
   ]
  },
  {
   "cell_type": "markdown",
   "metadata": {},
   "source": [
    "### Data Frames"
   ]
  },
  {
   "cell_type": "code",
   "execution_count": 39,
   "metadata": {},
   "outputs": [],
   "source": [
    "dados = {\"nomes\":[\"Bragatte\", \"Sá\", \"Doug\", \"Bebel\"],\n",
    "        \"sobrenome\":[\"Bragatte\", \"Guedes\", \"Guedes_Bragatte\",\"Guedes_Bragatte\"],\n",
    "        \"idade\": [35, 37, 2, 2]}\n",
    "df_dados = pd.DataFrame(dados)"
   ]
  },
  {
   "cell_type": "code",
   "execution_count": 40,
   "metadata": {},
   "outputs": [
    {
     "data": {
      "text/html": [
       "<div>\n",
       "<style scoped>\n",
       "    .dataframe tbody tr th:only-of-type {\n",
       "        vertical-align: middle;\n",
       "    }\n",
       "\n",
       "    .dataframe tbody tr th {\n",
       "        vertical-align: top;\n",
       "    }\n",
       "\n",
       "    .dataframe thead th {\n",
       "        text-align: right;\n",
       "    }\n",
       "</style>\n",
       "<table border=\"1\" class=\"dataframe\">\n",
       "  <thead>\n",
       "    <tr style=\"text-align: right;\">\n",
       "      <th></th>\n",
       "      <th>nomes</th>\n",
       "      <th>sobrenome</th>\n",
       "      <th>idade</th>\n",
       "    </tr>\n",
       "  </thead>\n",
       "  <tbody>\n",
       "    <tr>\n",
       "      <th>0</th>\n",
       "      <td>Bragatte</td>\n",
       "      <td>Bragatte</td>\n",
       "      <td>35</td>\n",
       "    </tr>\n",
       "    <tr>\n",
       "      <th>1</th>\n",
       "      <td>Sá</td>\n",
       "      <td>Guedes</td>\n",
       "      <td>37</td>\n",
       "    </tr>\n",
       "    <tr>\n",
       "      <th>2</th>\n",
       "      <td>Doug</td>\n",
       "      <td>Guedes_Bragatte</td>\n",
       "      <td>2</td>\n",
       "    </tr>\n",
       "    <tr>\n",
       "      <th>3</th>\n",
       "      <td>Bebel</td>\n",
       "      <td>Guedes_Bragatte</td>\n",
       "      <td>2</td>\n",
       "    </tr>\n",
       "  </tbody>\n",
       "</table>\n",
       "</div>"
      ],
      "text/plain": [
       "      nomes        sobrenome  idade\n",
       "0  Bragatte         Bragatte     35\n",
       "1        Sá           Guedes     37\n",
       "2      Doug  Guedes_Bragatte      2\n",
       "3     Bebel  Guedes_Bragatte      2"
      ]
     },
     "execution_count": 40,
     "metadata": {},
     "output_type": "execute_result"
    }
   ],
   "source": [
    "df_dados"
   ]
  },
  {
   "cell_type": "code",
   "execution_count": 41,
   "metadata": {},
   "outputs": [
    {
     "data": {
      "text/plain": [
       "['Bragatte', 'Sá', 'Doug', 'Bebel']"
      ]
     },
     "execution_count": 41,
     "metadata": {},
     "output_type": "execute_result"
    }
   ],
   "source": [
    "dados[\"nomes\"]"
   ]
  },
  {
   "cell_type": "code",
   "execution_count": 42,
   "metadata": {},
   "outputs": [
    {
     "data": {
      "text/plain": [
       "0    Bragatte\n",
       "1          Sá\n",
       "2        Doug\n",
       "3       Bebel\n",
       "Name: nomes, dtype: object"
      ]
     },
     "execution_count": 42,
     "metadata": {},
     "output_type": "execute_result"
    }
   ],
   "source": [
    "df_dados[\"nomes\"]"
   ]
  },
  {
   "cell_type": "code",
   "execution_count": 43,
   "metadata": {},
   "outputs": [
    {
     "data": {
      "text/plain": [
       "['Bragatte', 'Sá', 'Doug', 'Bebel']"
      ]
     },
     "execution_count": 43,
     "metadata": {},
     "output_type": "execute_result"
    }
   ],
   "source": [
    "#método converter série em lista\n",
    "df_dados[\"nomes\"].tolist()\n",
    "#alternativa\n",
    "#list(df_dados[\"nomes\"])"
   ]
  },
  {
   "cell_type": "markdown",
   "metadata": {},
   "source": [
    "## Importando dados"
   ]
  },
  {
   "cell_type": "markdown",
   "metadata": {},
   "source": [
    "#### Exemplo"
   ]
  },
  {
   "cell_type": "code",
   "execution_count": 44,
   "metadata": {},
   "outputs": [
    {
     "name": "stderr",
     "output_type": "stream",
     "text": [
      "/home/bragatte/.local/lib/python3.8/site-packages/IPython/core/interactiveshell.py:3146: DtypeWarning: Columns (8) have mixed types.Specify dtype option on import or set low_memory=False.\n",
      "  has_raised = await self.run_ast_nodes(code_ast.body, cell_name,\n"
     ]
    }
   ],
   "source": [
    "df_votacao = pd.read_csv(\"../dados/votacao_agg_estado.csv\")"
   ]
  },
  {
   "cell_type": "markdown",
   "metadata": {},
   "source": [
    "#### Rede"
   ]
  },
  {
   "cell_type": "code",
   "execution_count": 45,
   "metadata": {},
   "outputs": [],
   "source": [
    "df_rede = pd.read_csv(\"../dados/rede.csv\")"
   ]
  },
  {
   "cell_type": "markdown",
   "metadata": {},
   "source": [
    "### Dataframe"
   ]
  },
  {
   "cell_type": "code",
   "execution_count": 46,
   "metadata": {},
   "outputs": [
    {
     "data": {
      "text/html": [
       "<div>\n",
       "<style scoped>\n",
       "    .dataframe tbody tr th:only-of-type {\n",
       "        vertical-align: middle;\n",
       "    }\n",
       "\n",
       "    .dataframe tbody tr th {\n",
       "        vertical-align: top;\n",
       "    }\n",
       "\n",
       "    .dataframe thead th {\n",
       "        text-align: right;\n",
       "    }\n",
       "</style>\n",
       "<table border=\"1\" class=\"dataframe\">\n",
       "  <thead>\n",
       "    <tr style=\"text-align: right;\">\n",
       "      <th></th>\n",
       "      <th>ano_eleicao</th>\n",
       "      <th>descricao_eleicao</th>\n",
       "      <th>numero_turno</th>\n",
       "      <th>nome_partido</th>\n",
       "      <th>numero_partido</th>\n",
       "      <th>sigla_partido</th>\n",
       "      <th>descricao_cargo</th>\n",
       "      <th>descricao_situacao_candidatura</th>\n",
       "      <th>descricao_situacao_candidatura_superior</th>\n",
       "      <th>nome</th>\n",
       "      <th>...</th>\n",
       "      <th>total_votos_to</th>\n",
       "      <th>total_votos_pa</th>\n",
       "      <th>total_votos_ms</th>\n",
       "      <th>total_votos_pi</th>\n",
       "      <th>total_votos_ma</th>\n",
       "      <th>total_votos_df</th>\n",
       "      <th>total_votos_es</th>\n",
       "      <th>total_votos_rr</th>\n",
       "      <th>total_votos_sc</th>\n",
       "      <th>total_votos</th>\n",
       "    </tr>\n",
       "  </thead>\n",
       "  <tbody>\n",
       "    <tr>\n",
       "      <th>0</th>\n",
       "      <td>2014</td>\n",
       "      <td>ELEICAO SUPLEMENTAR GOVERNADOR AM</td>\n",
       "      <td>1</td>\n",
       "      <td>PARTIDO DEMOCRATICO TRABALHISTA</td>\n",
       "      <td>12</td>\n",
       "      <td>PDT</td>\n",
       "      <td>GOVERNADOR</td>\n",
       "      <td>DEFERIDO</td>\n",
       "      <td>APTO</td>\n",
       "      <td>AMAZONINO ARMANDO MENDES</td>\n",
       "      <td>...</td>\n",
       "      <td>0</td>\n",
       "      <td>0</td>\n",
       "      <td>0</td>\n",
       "      <td>0</td>\n",
       "      <td>0</td>\n",
       "      <td>0</td>\n",
       "      <td>0</td>\n",
       "      <td>0</td>\n",
       "      <td>0</td>\n",
       "      <td>577397</td>\n",
       "    </tr>\n",
       "    <tr>\n",
       "      <th>1</th>\n",
       "      <td>2014</td>\n",
       "      <td>ELEICAO SUPLEMENTAR GOVERNADOR AM</td>\n",
       "      <td>1</td>\n",
       "      <td>PARTIDO DO MOVIMENTO DEMOCRATICO BRASILEIRO</td>\n",
       "      <td>15</td>\n",
       "      <td>PMDB</td>\n",
       "      <td>GOVERNADOR</td>\n",
       "      <td>DEFERIDO</td>\n",
       "      <td>APTO</td>\n",
       "      <td>CARLOS EDUARDO DE SOUZA BRAGA</td>\n",
       "      <td>...</td>\n",
       "      <td>0</td>\n",
       "      <td>0</td>\n",
       "      <td>0</td>\n",
       "      <td>0</td>\n",
       "      <td>0</td>\n",
       "      <td>0</td>\n",
       "      <td>0</td>\n",
       "      <td>0</td>\n",
       "      <td>0</td>\n",
       "      <td>377680</td>\n",
       "    </tr>\n",
       "    <tr>\n",
       "      <th>2</th>\n",
       "      <td>2014</td>\n",
       "      <td>ELEICAO SUPLEMENTAR GOVERNADOR AM</td>\n",
       "      <td>1</td>\n",
       "      <td>PARTIDO DOS TRABALHADORES</td>\n",
       "      <td>13</td>\n",
       "      <td>PT</td>\n",
       "      <td>GOVERNADOR</td>\n",
       "      <td>DEFERIDO</td>\n",
       "      <td>APTO</td>\n",
       "      <td>JOSE RICARDO WENDLING</td>\n",
       "      <td>...</td>\n",
       "      <td>0</td>\n",
       "      <td>0</td>\n",
       "      <td>0</td>\n",
       "      <td>0</td>\n",
       "      <td>0</td>\n",
       "      <td>0</td>\n",
       "      <td>0</td>\n",
       "      <td>0</td>\n",
       "      <td>0</td>\n",
       "      <td>181257</td>\n",
       "    </tr>\n",
       "    <tr>\n",
       "      <th>3</th>\n",
       "      <td>2014</td>\n",
       "      <td>ELEICAO SUPLEMENTAR GOVERNADOR AM</td>\n",
       "      <td>1</td>\n",
       "      <td>PARTIDO HUMANISTA DA SOLIDARIEDADE</td>\n",
       "      <td>31</td>\n",
       "      <td>PHS</td>\n",
       "      <td>GOVERNADOR</td>\n",
       "      <td>DEFERIDO</td>\n",
       "      <td>APTO</td>\n",
       "      <td>MAURICIO WILKER DE AZEVEDO BARRETO</td>\n",
       "      <td>...</td>\n",
       "      <td>0</td>\n",
       "      <td>0</td>\n",
       "      <td>0</td>\n",
       "      <td>0</td>\n",
       "      <td>0</td>\n",
       "      <td>0</td>\n",
       "      <td>0</td>\n",
       "      <td>0</td>\n",
       "      <td>0</td>\n",
       "      <td>22623</td>\n",
       "    </tr>\n",
       "    <tr>\n",
       "      <th>4</th>\n",
       "      <td>2014</td>\n",
       "      <td>ELEICAO SUPLEMENTAR GOVERNADOR AM</td>\n",
       "      <td>1</td>\n",
       "      <td>PARTIDO PATRIA LIVRE</td>\n",
       "      <td>54</td>\n",
       "      <td>PPL</td>\n",
       "      <td>GOVERNADOR</td>\n",
       "      <td>DEFERIDO</td>\n",
       "      <td>APTO</td>\n",
       "      <td>JADELVONE NOGUEIRA DELTRUDES</td>\n",
       "      <td>...</td>\n",
       "      <td>0</td>\n",
       "      <td>0</td>\n",
       "      <td>0</td>\n",
       "      <td>0</td>\n",
       "      <td>0</td>\n",
       "      <td>0</td>\n",
       "      <td>0</td>\n",
       "      <td>0</td>\n",
       "      <td>0</td>\n",
       "      <td>3362</td>\n",
       "    </tr>\n",
       "  </tbody>\n",
       "</table>\n",
       "<p>5 rows × 43 columns</p>\n",
       "</div>"
      ],
      "text/plain": [
       "   ano_eleicao                  descricao_eleicao  numero_turno  \\\n",
       "0         2014  ELEICAO SUPLEMENTAR GOVERNADOR AM             1   \n",
       "1         2014  ELEICAO SUPLEMENTAR GOVERNADOR AM             1   \n",
       "2         2014  ELEICAO SUPLEMENTAR GOVERNADOR AM             1   \n",
       "3         2014  ELEICAO SUPLEMENTAR GOVERNADOR AM             1   \n",
       "4         2014  ELEICAO SUPLEMENTAR GOVERNADOR AM             1   \n",
       "\n",
       "                                  nome_partido  numero_partido sigla_partido  \\\n",
       "0              PARTIDO DEMOCRATICO TRABALHISTA              12           PDT   \n",
       "1  PARTIDO DO MOVIMENTO DEMOCRATICO BRASILEIRO              15          PMDB   \n",
       "2                    PARTIDO DOS TRABALHADORES              13            PT   \n",
       "3           PARTIDO HUMANISTA DA SOLIDARIEDADE              31           PHS   \n",
       "4                         PARTIDO PATRIA LIVRE              54           PPL   \n",
       "\n",
       "  descricao_cargo descricao_situacao_candidatura  \\\n",
       "0      GOVERNADOR                       DEFERIDO   \n",
       "1      GOVERNADOR                       DEFERIDO   \n",
       "2      GOVERNADOR                       DEFERIDO   \n",
       "3      GOVERNADOR                       DEFERIDO   \n",
       "4      GOVERNADOR                       DEFERIDO   \n",
       "\n",
       "  descricao_situacao_candidatura_superior                                nome  \\\n",
       "0                                    APTO            AMAZONINO ARMANDO MENDES   \n",
       "1                                    APTO       CARLOS EDUARDO DE SOUZA BRAGA   \n",
       "2                                    APTO               JOSE RICARDO WENDLING   \n",
       "3                                    APTO  MAURICIO WILKER DE AZEVEDO BARRETO   \n",
       "4                                    APTO        JADELVONE NOGUEIRA DELTRUDES   \n",
       "\n",
       "   ...  total_votos_to total_votos_pa  total_votos_ms  total_votos_pi  \\\n",
       "0  ...               0              0               0               0   \n",
       "1  ...               0              0               0               0   \n",
       "2  ...               0              0               0               0   \n",
       "3  ...               0              0               0               0   \n",
       "4  ...               0              0               0               0   \n",
       "\n",
       "   total_votos_ma  total_votos_df  total_votos_es  total_votos_rr  \\\n",
       "0               0               0               0               0   \n",
       "1               0               0               0               0   \n",
       "2               0               0               0               0   \n",
       "3               0               0               0               0   \n",
       "4               0               0               0               0   \n",
       "\n",
       "   total_votos_sc  total_votos  \n",
       "0               0       577397  \n",
       "1               0       377680  \n",
       "2               0       181257  \n",
       "3               0        22623  \n",
       "4               0         3362  \n",
       "\n",
       "[5 rows x 43 columns]"
      ]
     },
     "execution_count": 46,
     "metadata": {},
     "output_type": "execute_result"
    }
   ],
   "source": [
    "df = pd.DataFrame(df_votacao)\n",
    "df.head()"
   ]
  },
  {
   "cell_type": "raw",
   "metadata": {},
   "source": [
    "#exibir todas as linhas e colunas\n",
    "pd.set_option('display.max_rows', None)\n",
    "pd.set_option('display.max_columns', None)\n",
    "pd.set_option('display.width', None)"
   ]
  },
  {
   "cell_type": "code",
   "execution_count": 47,
   "metadata": {},
   "outputs": [
    {
     "data": {
      "text/plain": [
       "(511105, 43)"
      ]
     },
     "execution_count": 47,
     "metadata": {},
     "output_type": "execute_result"
    }
   ],
   "source": [
    "#Quantas linhas e colunas?\n",
    "df_votacao.shape"
   ]
  },
  {
   "cell_type": "code",
   "execution_count": 48,
   "metadata": {},
   "outputs": [
    {
     "data": {
      "text/plain": [
       "Index(['ano_eleicao', 'descricao_eleicao', 'numero_turno', 'nome_partido',\n",
       "       'numero_partido', 'sigla_partido', 'descricao_cargo',\n",
       "       'descricao_situacao_candidatura',\n",
       "       'descricao_situacao_candidatura_superior', 'nome', 'nome_social',\n",
       "       'nome_urna', 'numero_sequencial', 'numero_urna', 'total_votos_ac',\n",
       "       'total_votos_al', 'total_votos_am', 'total_votos_ap', 'total_votos_ba',\n",
       "       'total_votos_rj', 'total_votos_sp', 'total_votos_ce', 'total_votos_ro',\n",
       "       'total_votos_se', 'total_votos_pr', 'total_votos_mg', 'total_votos_mt',\n",
       "       'total_votos_pe', 'total_votos_pb', 'total_votos_zz', 'total_votos_go',\n",
       "       'total_votos_rs', 'total_votos_rn', 'total_votos_to', 'total_votos_pa',\n",
       "       'total_votos_ms', 'total_votos_pi', 'total_votos_ma', 'total_votos_df',\n",
       "       'total_votos_es', 'total_votos_rr', 'total_votos_sc', 'total_votos'],\n",
       "      dtype='object')"
      ]
     },
     "execution_count": 48,
     "metadata": {},
     "output_type": "execute_result"
    }
   ],
   "source": [
    "#Quais são as colunas?\n",
    "df_votacao.columns"
   ]
  },
  {
   "cell_type": "code",
   "execution_count": 49,
   "metadata": {},
   "outputs": [
    {
     "data": {
      "text/plain": [
       "['ano_eleicao',\n",
       " 'descricao_eleicao',\n",
       " 'numero_turno',\n",
       " 'nome_partido',\n",
       " 'numero_partido',\n",
       " 'sigla_partido',\n",
       " 'descricao_cargo',\n",
       " 'descricao_situacao_candidatura',\n",
       " 'descricao_situacao_candidatura_superior',\n",
       " 'nome',\n",
       " 'nome_social',\n",
       " 'nome_urna',\n",
       " 'numero_sequencial',\n",
       " 'numero_urna',\n",
       " 'total_votos_ac',\n",
       " 'total_votos_al',\n",
       " 'total_votos_am',\n",
       " 'total_votos_ap',\n",
       " 'total_votos_ba',\n",
       " 'total_votos_rj',\n",
       " 'total_votos_sp',\n",
       " 'total_votos_ce',\n",
       " 'total_votos_ro',\n",
       " 'total_votos_se',\n",
       " 'total_votos_pr',\n",
       " 'total_votos_mg',\n",
       " 'total_votos_mt',\n",
       " 'total_votos_pe',\n",
       " 'total_votos_pb',\n",
       " 'total_votos_zz',\n",
       " 'total_votos_go',\n",
       " 'total_votos_rs',\n",
       " 'total_votos_rn',\n",
       " 'total_votos_to',\n",
       " 'total_votos_pa',\n",
       " 'total_votos_ms',\n",
       " 'total_votos_pi',\n",
       " 'total_votos_ma',\n",
       " 'total_votos_df',\n",
       " 'total_votos_es',\n",
       " 'total_votos_rr',\n",
       " 'total_votos_sc',\n",
       " 'total_votos']"
      ]
     },
     "execution_count": 49,
     "metadata": {},
     "output_type": "execute_result"
    }
   ],
   "source": [
    "#visualizar colunas em lista\n",
    "df_votacao.columns.tolist()"
   ]
  },
  {
   "cell_type": "code",
   "execution_count": 50,
   "metadata": {},
   "outputs": [
    {
     "data": {
      "text/plain": [
       "RangeIndex(start=0, stop=511105, step=1)"
      ]
     },
     "execution_count": 50,
     "metadata": {},
     "output_type": "execute_result"
    }
   ],
   "source": [
    "df_votacao.index"
   ]
  },
  {
   "cell_type": "markdown",
   "metadata": {},
   "source": [
    " ### Utilitarios"
   ]
  },
  {
   "cell_type": "code",
   "execution_count": 51,
   "metadata": {},
   "outputs": [
    {
     "name": "stdout",
     "output_type": "stream",
     "text": [
      "<class 'pandas.core.frame.DataFrame'>\n",
      "RangeIndex: 511105 entries, 0 to 511104\n",
      "Data columns (total 43 columns):\n",
      " #   Column                                   Non-Null Count   Dtype  \n",
      "---  ------                                   --------------   -----  \n",
      " 0   ano_eleicao                              511105 non-null  int64  \n",
      " 1   descricao_eleicao                        511105 non-null  object \n",
      " 2   numero_turno                             511105 non-null  int64  \n",
      " 3   nome_partido                             511105 non-null  object \n",
      " 4   numero_partido                           511105 non-null  int64  \n",
      " 5   sigla_partido                            511105 non-null  object \n",
      " 6   descricao_cargo                          511105 non-null  object \n",
      " 7   descricao_situacao_candidatura           511105 non-null  object \n",
      " 8   descricao_situacao_candidatura_superior  484655 non-null  object \n",
      " 9   nome                                     511105 non-null  object \n",
      " 10  nome_social                              0 non-null       float64\n",
      " 11  nome_urna                                511095 non-null  object \n",
      " 12  numero_sequencial                        511105 non-null  int64  \n",
      " 13  numero_urna                              511105 non-null  int64  \n",
      " 14  total_votos_ac                           511105 non-null  int64  \n",
      " 15  total_votos_al                           511105 non-null  int64  \n",
      " 16  total_votos_am                           511105 non-null  int64  \n",
      " 17  total_votos_ap                           511105 non-null  int64  \n",
      " 18  total_votos_ba                           511105 non-null  int64  \n",
      " 19  total_votos_rj                           511105 non-null  int64  \n",
      " 20  total_votos_sp                           511105 non-null  int64  \n",
      " 21  total_votos_ce                           511105 non-null  int64  \n",
      " 22  total_votos_ro                           511105 non-null  int64  \n",
      " 23  total_votos_se                           511105 non-null  int64  \n",
      " 24  total_votos_pr                           511105 non-null  int64  \n",
      " 25  total_votos_mg                           511105 non-null  int64  \n",
      " 26  total_votos_mt                           511105 non-null  int64  \n",
      " 27  total_votos_pe                           511105 non-null  int64  \n",
      " 28  total_votos_pb                           511105 non-null  int64  \n",
      " 29  total_votos_zz                           511105 non-null  int64  \n",
      " 30  total_votos_go                           511105 non-null  int64  \n",
      " 31  total_votos_rs                           511105 non-null  int64  \n",
      " 32  total_votos_rn                           511105 non-null  int64  \n",
      " 33  total_votos_to                           511105 non-null  int64  \n",
      " 34  total_votos_pa                           511105 non-null  int64  \n",
      " 35  total_votos_ms                           511105 non-null  int64  \n",
      " 36  total_votos_pi                           511105 non-null  int64  \n",
      " 37  total_votos_ma                           511105 non-null  int64  \n",
      " 38  total_votos_df                           511105 non-null  int64  \n",
      " 39  total_votos_es                           511105 non-null  int64  \n",
      " 40  total_votos_rr                           511105 non-null  int64  \n",
      " 41  total_votos_sc                           511105 non-null  int64  \n",
      " 42  total_votos                              511105 non-null  int64  \n",
      "dtypes: float64(1), int64(34), object(8)\n",
      "memory usage: 167.7+ MB\n"
     ]
    }
   ],
   "source": [
    "df_votacao.info() #coluna nome_social provavelmente com algum erro"
   ]
  },
  {
   "cell_type": "code",
   "execution_count": 52,
   "metadata": {},
   "outputs": [
    {
     "name": "stdout",
     "output_type": "stream",
     "text": [
      "<class 'pandas.core.frame.DataFrame'>\n",
      "RangeIndex: 511105 entries, 0 to 511104\n",
      "Data columns (total 43 columns):\n",
      " #   Column                                   Non-Null Count   Dtype  \n",
      "---  ------                                   --------------   -----  \n",
      " 0   ano_eleicao                              511105 non-null  int64  \n",
      " 1   descricao_eleicao                        511105 non-null  object \n",
      " 2   numero_turno                             511105 non-null  int64  \n",
      " 3   nome_partido                             511105 non-null  object \n",
      " 4   numero_partido                           511105 non-null  int64  \n",
      " 5   sigla_partido                            511105 non-null  object \n",
      " 6   descricao_cargo                          511105 non-null  object \n",
      " 7   descricao_situacao_candidatura           511105 non-null  object \n",
      " 8   descricao_situacao_candidatura_superior  484655 non-null  object \n",
      " 9   nome                                     511105 non-null  object \n",
      " 10  nome_social                              0 non-null       float64\n",
      " 11  nome_urna                                511095 non-null  object \n",
      " 12  numero_sequencial                        511105 non-null  int64  \n",
      " 13  numero_urna                              511105 non-null  int64  \n",
      " 14  total_votos_ac                           511105 non-null  int64  \n",
      " 15  total_votos_al                           511105 non-null  int64  \n",
      " 16  total_votos_am                           511105 non-null  int64  \n",
      " 17  total_votos_ap                           511105 non-null  int64  \n",
      " 18  total_votos_ba                           511105 non-null  int64  \n",
      " 19  total_votos_rj                           511105 non-null  int64  \n",
      " 20  total_votos_sp                           511105 non-null  int64  \n",
      " 21  total_votos_ce                           511105 non-null  int64  \n",
      " 22  total_votos_ro                           511105 non-null  int64  \n",
      " 23  total_votos_se                           511105 non-null  int64  \n",
      " 24  total_votos_pr                           511105 non-null  int64  \n",
      " 25  total_votos_mg                           511105 non-null  int64  \n",
      " 26  total_votos_mt                           511105 non-null  int64  \n",
      " 27  total_votos_pe                           511105 non-null  int64  \n",
      " 28  total_votos_pb                           511105 non-null  int64  \n",
      " 29  total_votos_zz                           511105 non-null  int64  \n",
      " 30  total_votos_go                           511105 non-null  int64  \n",
      " 31  total_votos_rs                           511105 non-null  int64  \n",
      " 32  total_votos_rn                           511105 non-null  int64  \n",
      " 33  total_votos_to                           511105 non-null  int64  \n",
      " 34  total_votos_pa                           511105 non-null  int64  \n",
      " 35  total_votos_ms                           511105 non-null  int64  \n",
      " 36  total_votos_pi                           511105 non-null  int64  \n",
      " 37  total_votos_ma                           511105 non-null  int64  \n",
      " 38  total_votos_df                           511105 non-null  int64  \n",
      " 39  total_votos_es                           511105 non-null  int64  \n",
      " 40  total_votos_rr                           511105 non-null  int64  \n",
      " 41  total_votos_sc                           511105 non-null  int64  \n",
      " 42  total_votos                              511105 non-null  int64  \n",
      "dtypes: float64(1), int64(34), object(8)\n",
      "memory usage: 167.7+ MB\n"
     ]
    }
   ],
   "source": [
    "df_votacao.info() #mostra dados da série"
   ]
  },
  {
   "cell_type": "code",
   "execution_count": 53,
   "metadata": {},
   "outputs": [
    {
     "data": {
      "text/plain": [
       "ano_eleicao                                  int64\n",
       "descricao_eleicao                           object\n",
       "numero_turno                                 int64\n",
       "nome_partido                                object\n",
       "numero_partido                               int64\n",
       "sigla_partido                               object\n",
       "descricao_cargo                             object\n",
       "descricao_situacao_candidatura              object\n",
       "descricao_situacao_candidatura_superior     object\n",
       "nome                                        object\n",
       "nome_social                                float64\n",
       "nome_urna                                   object\n",
       "numero_sequencial                            int64\n",
       "numero_urna                                  int64\n",
       "total_votos_ac                               int64\n",
       "total_votos_al                               int64\n",
       "total_votos_am                               int64\n",
       "total_votos_ap                               int64\n",
       "total_votos_ba                               int64\n",
       "total_votos_rj                               int64\n",
       "total_votos_sp                               int64\n",
       "total_votos_ce                               int64\n",
       "total_votos_ro                               int64\n",
       "total_votos_se                               int64\n",
       "total_votos_pr                               int64\n",
       "total_votos_mg                               int64\n",
       "total_votos_mt                               int64\n",
       "total_votos_pe                               int64\n",
       "total_votos_pb                               int64\n",
       "total_votos_zz                               int64\n",
       "total_votos_go                               int64\n",
       "total_votos_rs                               int64\n",
       "total_votos_rn                               int64\n",
       "total_votos_to                               int64\n",
       "total_votos_pa                               int64\n",
       "total_votos_ms                               int64\n",
       "total_votos_pi                               int64\n",
       "total_votos_ma                               int64\n",
       "total_votos_df                               int64\n",
       "total_votos_es                               int64\n",
       "total_votos_rr                               int64\n",
       "total_votos_sc                               int64\n",
       "total_votos                                  int64\n",
       "dtype: object"
      ]
     },
     "execution_count": 53,
     "metadata": {},
     "output_type": "execute_result"
    }
   ],
   "source": [
    "df_votacao.dtypes"
   ]
  },
  {
   "cell_type": "code",
   "execution_count": 54,
   "metadata": {},
   "outputs": [
    {
     "name": "stdout",
     "output_type": "stream",
     "text": [
      "<class 'pandas.core.frame.DataFrame'>\n",
      "RangeIndex: 83 entries, 0 to 82\n",
      "Data columns (total 16 columns):\n",
      " #   Column                                                                                                                                                                                                                                                                        Non-Null Count  Dtype \n",
      "---  ------                                                                                                                                                                                                                                                                        --------------  ----- \n",
      " 0   Carimbo de data/hora                                                                                                                                                                                                                                                          83 non-null     object\n",
      " 1   Nome completo:                                                                                                                                                                                                                                                                83 non-null     object\n",
      " 2   Idade:                                                                                                                                                                                                                                                                        83 non-null     int64 \n",
      " 3   Cidade:                                                                                                                                                                                                                                                                       83 non-null     object\n",
      " 4   Estado (Sigla)                                                                                                                                                                                                                                                                83 non-null     object\n",
      " 5   Formação acadêmica:                                                                                                                                                                                                                                                           83 non-null     object\n",
      " 6   Profissão atual:                                                                                                                                                                                                                                                              83 non-null     object\n",
      " 7   Onde já trabalhou:                                                                                                                                                                                                                                                            83 non-null     object\n",
      " 8   Link currículo Lattes e/ou Linkedin:                                                                                                                                                                                                                                          83 non-null     object\n",
      " 9   WhatsApp (escreva o celular no formato (xx) x xxxx-xxxx):                                                                                                                                                                                                                     83 non-null     object\n",
      " 10  Você autoriza a publicação de seu nome nos veículos de divulgação da Rede Análise COVID-19?                                                                                                                                                                                   83 non-null     object\n",
      " 11  Você está ciente que qualquer informação sobre a estrutura, coordenação, organização e composição da Rede Análise COVID-19 SEM AUTORIZAÇÃO DOS COORDENADORES ou MEMBROS (no caso de informações individuais) acarretará no desligamento automático da Rede Análise COVID-19?  83 non-null     object\n",
      " 12  Estou ciente de todas as informações acima expostas e gostaria de ingressar na Rede Análise COVID-19                                                                                                                                                                          83 non-null     object\n",
      " 13  Unnamed: 13                                                                                                                                                                                                                                                                   4 non-null      object\n",
      " 14  Unnamed: 14                                                                                                                                                                                                                                                                   3 non-null      object\n",
      " 15  Unnamed: 15                                                                                                                                                                                                                                                                   3 non-null      object\n",
      "dtypes: int64(1), object(15)\n",
      "memory usage: 10.5+ KB\n"
     ]
    }
   ],
   "source": [
    "df_rede.info()"
   ]
  },
  {
   "cell_type": "markdown",
   "metadata": {},
   "source": [
    "### Navegar pelo DataFrame"
   ]
  },
  {
   "cell_type": "code",
   "execution_count": 55,
   "metadata": {},
   "outputs": [
    {
     "data": {
      "text/plain": [
       "pandas.core.series.Series"
      ]
     },
     "execution_count": 55,
     "metadata": {},
     "output_type": "execute_result"
    }
   ],
   "source": [
    "type(df_votacao[\"nome\"])"
   ]
  },
  {
   "cell_type": "code",
   "execution_count": 56,
   "metadata": {},
   "outputs": [
    {
     "data": {
      "text/plain": [
       "0                   AMAZONINO ARMANDO MENDES\n",
       "1              CARLOS EDUARDO DE SOUZA BRAGA\n",
       "2                      JOSE RICARDO WENDLING\n",
       "3         MAURICIO WILKER DE AZEVEDO BARRETO\n",
       "4               JADELVONE NOGUEIRA DELTRUDES\n",
       "                         ...                \n",
       "511100          MARCOS JOSE ROCHA DOS SANTOS\n",
       "511101        ANTONIO CARLOS VALADARES FILHO\n",
       "511102     JOAO ALBERTO RODRIGUES CAPIBERIBE\n",
       "511103              MARCIO LUIZ FRANCA GOMES\n",
       "511104             RODRIGO SOBRAL ROLLEMBERG\n",
       "Name: nome, Length: 511105, dtype: object"
      ]
     },
     "execution_count": 56,
     "metadata": {},
     "output_type": "execute_result"
    }
   ],
   "source": [
    "df_votacao[\"nome\"]"
   ]
  },
  {
   "cell_type": "markdown",
   "metadata": {},
   "source": [
    "### Filtros"
   ]
  },
  {
   "cell_type": "code",
   "execution_count": 57,
   "metadata": {},
   "outputs": [
    {
     "data": {
      "text/plain": [
       "'MARCOS JOSE ROCHA DOS SANTOS'"
      ]
     },
     "execution_count": 57,
     "metadata": {},
     "output_type": "execute_result"
    }
   ],
   "source": [
    "#df_votacao[\"COLUNA\"][\"INDICE\"]\n",
    "df_votacao[\"nome\"][511100]"
   ]
  },
  {
   "cell_type": "code",
   "execution_count": 58,
   "metadata": {},
   "outputs": [
    {
     "data": {
      "text/plain": [
       "'PDT'"
      ]
     },
     "execution_count": 58,
     "metadata": {},
     "output_type": "execute_result"
    }
   ],
   "source": [
    "#Navegando colunas\n",
    "df_votacao[\"sigla_partido\"][0]"
   ]
  },
  {
   "cell_type": "code",
   "execution_count": 59,
   "metadata": {},
   "outputs": [
    {
     "data": {
      "text/plain": [
       "ano_eleicao                                                             2014\n",
       "descricao_eleicao                          ELEICAO SUPLEMENTAR GOVERNADOR AM\n",
       "numero_turno                                                               1\n",
       "nome_partido                                 PARTIDO DEMOCRATICO TRABALHISTA\n",
       "numero_partido                                                            12\n",
       "sigla_partido                                                            PDT\n",
       "descricao_cargo                                                   GOVERNADOR\n",
       "descricao_situacao_candidatura                                      DEFERIDO\n",
       "descricao_situacao_candidatura_superior                                 APTO\n",
       "nome                                                AMAZONINO ARMANDO MENDES\n",
       "nome_social                                                              NaN\n",
       "nome_urna                                                   AMAZONINO MENDES\n",
       "numero_sequencial                                                40000012067\n",
       "numero_urna                                                               12\n",
       "total_votos_ac                                                             0\n",
       "total_votos_al                                                             0\n",
       "total_votos_am                                                        577397\n",
       "total_votos_ap                                                             0\n",
       "total_votos_ba                                                             0\n",
       "total_votos_rj                                                             0\n",
       "total_votos_sp                                                             0\n",
       "total_votos_ce                                                             0\n",
       "total_votos_ro                                                             0\n",
       "total_votos_se                                                             0\n",
       "total_votos_pr                                                             0\n",
       "total_votos_mg                                                             0\n",
       "total_votos_mt                                                             0\n",
       "total_votos_pe                                                             0\n",
       "total_votos_pb                                                             0\n",
       "total_votos_zz                                                             0\n",
       "total_votos_go                                                             0\n",
       "total_votos_rs                                                             0\n",
       "total_votos_rn                                                             0\n",
       "total_votos_to                                                             0\n",
       "total_votos_pa                                                             0\n",
       "total_votos_ms                                                             0\n",
       "total_votos_pi                                                             0\n",
       "total_votos_ma                                                             0\n",
       "total_votos_df                                                             0\n",
       "total_votos_es                                                             0\n",
       "total_votos_rr                                                             0\n",
       "total_votos_sc                                                             0\n",
       "total_votos                                                           577397\n",
       "Name: 0, dtype: object"
      ]
     },
     "execution_count": 59,
     "metadata": {},
     "output_type": "execute_result"
    }
   ],
   "source": [
    "#todas as infos sobre linha 0\n",
    "df_votacao.iloc[0]"
   ]
  },
  {
   "cell_type": "code",
   "execution_count": 60,
   "metadata": {},
   "outputs": [
    {
     "data": {
      "text/plain": [
       "'AMAZONINO ARMANDO MENDES'"
      ]
     },
     "execution_count": 60,
     "metadata": {},
     "output_type": "execute_result"
    }
   ],
   "source": [
    "#iloc busca [linha, coluna]\n",
    "df_votacao.iloc[0, 9]"
   ]
  },
  {
   "cell_type": "code",
   "execution_count": 61,
   "metadata": {},
   "outputs": [
    {
     "data": {
      "text/plain": [
       "'AMAZONINO ARMANDO MENDES'"
      ]
     },
     "execution_count": 61,
     "metadata": {},
     "output_type": "execute_result"
    }
   ],
   "source": [
    "#iloc busca [linha, coluna] por nome coluna\n",
    "df_votacao.iloc[0][\"nome\"]"
   ]
  },
  {
   "cell_type": "code",
   "execution_count": 66,
   "metadata": {},
   "outputs": [
    {
     "data": {
      "text/html": [
       "<div>\n",
       "<style scoped>\n",
       "    .dataframe tbody tr th:only-of-type {\n",
       "        vertical-align: middle;\n",
       "    }\n",
       "\n",
       "    .dataframe tbody tr th {\n",
       "        vertical-align: top;\n",
       "    }\n",
       "\n",
       "    .dataframe thead th {\n",
       "        text-align: right;\n",
       "    }\n",
       "</style>\n",
       "<table border=\"1\" class=\"dataframe\">\n",
       "  <thead>\n",
       "    <tr style=\"text-align: right;\">\n",
       "      <th></th>\n",
       "      <th>nomes</th>\n",
       "      <th>sobrenome</th>\n",
       "      <th>idade</th>\n",
       "    </tr>\n",
       "  </thead>\n",
       "  <tbody>\n",
       "    <tr>\n",
       "      <th>0</th>\n",
       "      <td>Bragatte</td>\n",
       "      <td>Bragatte</td>\n",
       "      <td>35</td>\n",
       "    </tr>\n",
       "    <tr>\n",
       "      <th>1</th>\n",
       "      <td>Sá</td>\n",
       "      <td>Guedes</td>\n",
       "      <td>37</td>\n",
       "    </tr>\n",
       "    <tr>\n",
       "      <th>2</th>\n",
       "      <td>Doug</td>\n",
       "      <td>Guedes_Bragatte</td>\n",
       "      <td>2</td>\n",
       "    </tr>\n",
       "    <tr>\n",
       "      <th>3</th>\n",
       "      <td>Bebel</td>\n",
       "      <td>Guedes_Bragatte</td>\n",
       "      <td>2</td>\n",
       "    </tr>\n",
       "  </tbody>\n",
       "</table>\n",
       "</div>"
      ],
      "text/plain": [
       "      nomes        sobrenome  idade\n",
       "0  Bragatte         Bragatte     35\n",
       "1        Sá           Guedes     37\n",
       "2      Doug  Guedes_Bragatte      2\n",
       "3     Bebel  Guedes_Bragatte      2"
      ]
     },
     "execution_count": 66,
     "metadata": {},
     "output_type": "execute_result"
    }
   ],
   "source": [
    "df_dados"
   ]
  },
  {
   "cell_type": "code",
   "execution_count": 76,
   "metadata": {},
   "outputs": [
    {
     "data": {
      "text/plain": [
       "0     True\n",
       "1     True\n",
       "2    False\n",
       "3    False\n",
       "Name: idade, dtype: bool"
      ]
     },
     "execution_count": 76,
     "metadata": {},
     "output_type": "execute_result"
    }
   ],
   "source": [
    "filtro_idade = df_dados[\"idade\"] >= 28\n",
    "filtro_idade"
   ]
  },
  {
   "cell_type": "code",
   "execution_count": 77,
   "metadata": {},
   "outputs": [
    {
     "data": {
      "text/html": [
       "<div>\n",
       "<style scoped>\n",
       "    .dataframe tbody tr th:only-of-type {\n",
       "        vertical-align: middle;\n",
       "    }\n",
       "\n",
       "    .dataframe tbody tr th {\n",
       "        vertical-align: top;\n",
       "    }\n",
       "\n",
       "    .dataframe thead th {\n",
       "        text-align: right;\n",
       "    }\n",
       "</style>\n",
       "<table border=\"1\" class=\"dataframe\">\n",
       "  <thead>\n",
       "    <tr style=\"text-align: right;\">\n",
       "      <th></th>\n",
       "      <th>nomes</th>\n",
       "      <th>sobrenome</th>\n",
       "      <th>idade</th>\n",
       "    </tr>\n",
       "  </thead>\n",
       "  <tbody>\n",
       "    <tr>\n",
       "      <th>0</th>\n",
       "      <td>Bragatte</td>\n",
       "      <td>Bragatte</td>\n",
       "      <td>35</td>\n",
       "    </tr>\n",
       "    <tr>\n",
       "      <th>1</th>\n",
       "      <td>Sá</td>\n",
       "      <td>Guedes</td>\n",
       "      <td>37</td>\n",
       "    </tr>\n",
       "  </tbody>\n",
       "</table>\n",
       "</div>"
      ],
      "text/plain": [
       "      nomes sobrenome  idade\n",
       "0  Bragatte  Bragatte     35\n",
       "1        Sá    Guedes     37"
      ]
     },
     "execution_count": 77,
     "metadata": {},
     "output_type": "execute_result"
    }
   ],
   "source": [
    "df_dados[filtro_idade]"
   ]
  },
  {
   "cell_type": "code",
   "execution_count": 74,
   "metadata": {},
   "outputs": [
    {
     "data": {
      "text/plain": [
       "[True, True, False, False]"
      ]
     },
     "execution_count": 74,
     "metadata": {},
     "output_type": "execute_result"
    }
   ],
   "source": [
    "filtro = [True, True, False, False]\n",
    "filtro"
   ]
  },
  {
   "cell_type": "code",
   "execution_count": 78,
   "metadata": {},
   "outputs": [
    {
     "data": {
      "text/html": [
       "<div>\n",
       "<style scoped>\n",
       "    .dataframe tbody tr th:only-of-type {\n",
       "        vertical-align: middle;\n",
       "    }\n",
       "\n",
       "    .dataframe tbody tr th {\n",
       "        vertical-align: top;\n",
       "    }\n",
       "\n",
       "    .dataframe thead th {\n",
       "        text-align: right;\n",
       "    }\n",
       "</style>\n",
       "<table border=\"1\" class=\"dataframe\">\n",
       "  <thead>\n",
       "    <tr style=\"text-align: right;\">\n",
       "      <th></th>\n",
       "      <th>nomes</th>\n",
       "      <th>sobrenome</th>\n",
       "      <th>idade</th>\n",
       "    </tr>\n",
       "  </thead>\n",
       "  <tbody>\n",
       "    <tr>\n",
       "      <th>0</th>\n",
       "      <td>Bragatte</td>\n",
       "      <td>Bragatte</td>\n",
       "      <td>35</td>\n",
       "    </tr>\n",
       "    <tr>\n",
       "      <th>1</th>\n",
       "      <td>Sá</td>\n",
       "      <td>Guedes</td>\n",
       "      <td>37</td>\n",
       "    </tr>\n",
       "  </tbody>\n",
       "</table>\n",
       "</div>"
      ],
      "text/plain": [
       "      nomes sobrenome  idade\n",
       "0  Bragatte  Bragatte     35\n",
       "1        Sá    Guedes     37"
      ]
     },
     "execution_count": 78,
     "metadata": {},
     "output_type": "execute_result"
    }
   ],
   "source": [
    "df_dados[filtro]"
   ]
  },
  {
   "cell_type": "code",
   "execution_count": 100,
   "metadata": {},
   "outputs": [
    {
     "data": {
      "text/html": [
       "<div>\n",
       "<style scoped>\n",
       "    .dataframe tbody tr th:only-of-type {\n",
       "        vertical-align: middle;\n",
       "    }\n",
       "\n",
       "    .dataframe tbody tr th {\n",
       "        vertical-align: top;\n",
       "    }\n",
       "\n",
       "    .dataframe thead th {\n",
       "        text-align: right;\n",
       "    }\n",
       "</style>\n",
       "<table border=\"1\" class=\"dataframe\">\n",
       "  <thead>\n",
       "    <tr style=\"text-align: right;\">\n",
       "      <th></th>\n",
       "      <th>nomes</th>\n",
       "      <th>sobrenome</th>\n",
       "      <th>idade</th>\n",
       "    </tr>\n",
       "  </thead>\n",
       "  <tbody>\n",
       "    <tr>\n",
       "      <th>0</th>\n",
       "      <td>Bragatte</td>\n",
       "      <td>Bragatte</td>\n",
       "      <td>35</td>\n",
       "    </tr>\n",
       "  </tbody>\n",
       "</table>\n",
       "</div>"
      ],
      "text/plain": [
       "      nomes sobrenome  idade\n",
       "0  Bragatte  Bragatte     35"
      ]
     },
     "execution_count": 100,
     "metadata": {},
     "output_type": "execute_result"
    }
   ],
   "source": [
    "df_dados[df_dados[\"sobrenome\"] == \"Bragatte\"]"
   ]
  },
  {
   "cell_type": "markdown",
   "metadata": {},
   "source": [
    "Filtros Rede"
   ]
  },
  {
   "cell_type": "code",
   "execution_count": 96,
   "metadata": {
    "jupyter": {
     "source_hidden": true
    }
   },
   "outputs": [
    {
     "data": {
      "text/plain": [
       "0     31\n",
       "1     35\n",
       "2     38\n",
       "3     38\n",
       "4     31\n",
       "      ..\n",
       "78    24\n",
       "79    25\n",
       "80    22\n",
       "81    25\n",
       "82    23\n",
       "Name: Idade:, Length: 83, dtype: int64"
      ]
     },
     "execution_count": 96,
     "metadata": {},
     "output_type": "execute_result"
    }
   ],
   "source": [
    "df_rede[\"Idade:\"]"
   ]
  },
  {
   "cell_type": "code",
   "execution_count": 99,
   "metadata": {},
   "outputs": [
    {
     "ename": "SyntaxError",
     "evalue": "invalid syntax (<ipython-input-99-b765bf26309c>, line 2)",
     "output_type": "error",
     "traceback": [
      "\u001b[0;36m  File \u001b[0;32m\"<ipython-input-99-b765bf26309c>\"\u001b[0;36m, line \u001b[0;32m2\u001b[0m\n\u001b[0;31m    age20_29 = df_rede[\"Idade:\"] <= 20 && >=29\u001b[0m\n\u001b[0m                                        ^\u001b[0m\n\u001b[0;31mSyntaxError\u001b[0m\u001b[0;31m:\u001b[0m invalid syntax\n"
     ]
    }
   ],
   "source": [
    "#age0_19 = df_rede[\"Idade:\"] >= 19 \n",
    "age20_29 = df_rede[\"Idade:\"] <= 20>=29\n"
   ]
  },
  {
   "cell_type": "code",
   "execution_count": null,
   "metadata": {},
   "outputs": [],
   "source": []
  },
  {
   "cell_type": "code",
   "execution_count": null,
   "metadata": {},
   "outputs": [],
   "source": []
  }
 ],
 "metadata": {
  "kernelspec": {
   "display_name": "Python 3",
   "language": "python",
   "name": "python3"
  },
  "language_info": {
   "codemirror_mode": {
    "name": "ipython",
    "version": 3
   },
   "file_extension": ".py",
   "mimetype": "text/x-python",
   "name": "python",
   "nbconvert_exporter": "python",
   "pygments_lexer": "ipython3",
   "version": "3.8.5"
  }
 },
 "nbformat": 4,
 "nbformat_minor": 4
}
