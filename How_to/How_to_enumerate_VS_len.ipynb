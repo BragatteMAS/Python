{
  "nbformat": 4,
  "nbformat_minor": 0,
  "metadata": {
    "colab": {
      "name": "How_to_enumerate_VS_len.ipynb",
      "provenance": [],
      "authorship_tag": "ABX9TyNKLNz8Sbp7Tzp8ezDyjrzW",
      "include_colab_link": true
    },
    "kernelspec": {
      "name": "python3",
      "display_name": "Python 3"
    }
  },
  "cells": [
    {
      "cell_type": "markdown",
      "metadata": {
        "id": "view-in-github",
        "colab_type": "text"
      },
      "source": [
        "<a href=\"https://colab.research.google.com/github/BragatteMAS/Python/blob/master/How_to/How_to_enumerate_VS_len.ipynb\" target=\"_parent\"><img src=\"https://colab.research.google.com/assets/colab-badge.svg\" alt=\"Open In Colab\"/></a>"
      ]
    },
    {
      "cell_type": "markdown",
      "metadata": {
        "id": "tRqxq0aeqp10"
      },
      "source": [
        "# Replace range(len()) With enumerate()\n",
        "\n",
        "There may be times when you need to iterate over a collection and keep track of the index you’re accessing. For this purpose, many people turn to iterating over `range(len(collection))`.\n",
        "\n",
        "Using the `enumerate()` function is a much more elegant and cleaner way of doing this.\n",
        "\n",
        "The `enumerate` function returns an `enumerate` object that stores each item’s index and value.\n",
        "\n",
        "This allows you to keep better track of where you are in your collection but also what value it currently has.\n",
        "\n",
        "@Bragatte 202103181108 | refactor [ref](https://betterprogramming.pub/4-ways-to-level-up-your-python-code-f148a50efeea)"
      ]
    },
    {
      "cell_type": "markdown",
      "metadata": {
        "id": "hbJKM5v-q_FU"
      },
      "source": [
        "## Len e.g"
      ]
    },
    {
      "cell_type": "code",
      "metadata": {
        "colab": {
          "base_uri": "https://localhost:8080/"
        },
        "id": "4jeGgudQqeTx",
        "outputId": "fa21c1bc-522c-40c3-a456-2ce05235163a"
      },
      "source": [
        "# Define a collection, such as list:\n",
        "names = ['Bragatte', 'Sa', 'Bebel', 'Doug']\n",
        "\n",
        "# Using the range(len(collection)) method, you'd write:\n",
        "for i in range(len(names)):\n",
        "    print(i, names[i])\n"
      ],
      "execution_count": 1,
      "outputs": [
        {
          "output_type": "stream",
          "text": [
            "0 Bragatte\n",
            "1 Sa\n",
            "2 Bebel\n",
            "3 Doug\n"
          ],
          "name": "stdout"
        }
      ]
    },
    {
      "cell_type": "markdown",
      "metadata": {
        "id": "mJ7PfFplr86E"
      },
      "source": [
        "## Enumerate e.g"
      ]
    },
    {
      "cell_type": "code",
      "metadata": {
        "colab": {
          "base_uri": "https://localhost:8080/"
        },
        "id": "jmAmwkUbrheW",
        "outputId": "378f0685-d095-4ae4-ae76-11d77b72b2b0"
      },
      "source": [
        "# Using enumerate, you can define this by writing:\n",
        "for idx, name in enumerate(names):\n",
        "    print(idx, name)"
      ],
      "execution_count": 2,
      "outputs": [
        {
          "output_type": "stream",
          "text": [
            "0 Bragatte\n",
            "1 Sa\n",
            "2 Bebel\n",
            "3 Doug\n"
          ],
          "name": "stdout"
        }
      ]
    },
    {
      "cell_type": "markdown",
      "metadata": {
        "id": "dH4VjylLrx40"
      },
      "source": [
        "        As a bonus, if you wanted your enumerate object to begin somewhere other than 0, you could simply pass your starting value into the start= parameter. Say we wanted this to start at 1. You could simply write:"
      ]
    },
    {
      "cell_type": "code",
      "metadata": {
        "colab": {
          "base_uri": "https://localhost:8080/"
        },
        "id": "Y-yr272trzcP",
        "outputId": "9b71ac4b-5f65-48e3-fc1c-280a34872acf"
      },
      "source": [
        "# Using enumerate, you can even define the number to star:\n",
        "for idx, name in enumerate(names, start=1):\n",
        "    print(idx, name)"
      ],
      "execution_count": 3,
      "outputs": [
        {
          "output_type": "stream",
          "text": [
            "1 Bragatte\n",
            "2 Sa\n",
            "3 Bebel\n",
            "4 Doug\n"
          ],
          "name": "stdout"
        }
      ]
    }
  ]
}