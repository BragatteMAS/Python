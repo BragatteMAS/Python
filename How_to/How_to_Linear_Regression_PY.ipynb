{
  "nbformat": 4,
  "nbformat_minor": 0,
  "metadata": {
    "colab": {
      "name": "How to Linear Regression PY",
      "provenance": [],
      "collapsed_sections": [],
      "include_colab_link": true
    },
    "kernelspec": {
      "name": "python3",
      "display_name": "Python 3"
    },
    "language_info": {
      "name": "python"
    }
  },
  "cells": [
    {
      "cell_type": "markdown",
      "metadata": {
        "id": "view-in-github",
        "colab_type": "text"
      },
      "source": [
        "<a href=\"https://colab.research.google.com/github/BragatteMAS/Python/blob/master/How_to/How_to_Linear_Regression_PY.ipynb\" target=\"_parent\"><img src=\"https://colab.research.google.com/assets/colab-badge.svg\" alt=\"Open In Colab\"/></a>"
      ]
    },
    {
      "cell_type": "markdown",
      "metadata": {
        "id": "1Mj4W3V6Jc-z"
      },
      "source": [
        "# How to Linear Regression in python\n",
        "\n",
        "[REF](https://www.youtube.com/watch?v=MPkNWpwxz7M)actor\n",
        "@Bragatte 20210611"
      ]
    },
    {
      "cell_type": "code",
      "metadata": {
        "id": "llC9CrF2J5jV"
      },
      "source": [
        "import pandas as pd\n",
        "import numpy as np"
      ],
      "execution_count": null,
      "outputs": []
    },
    {
      "cell_type": "code",
      "metadata": {
        "id": "pQ56tOZNKXr6"
      },
      "source": [
        "data = pd.read_csv(\"./sample_data/california_housing_train.csv\")"
      ],
      "execution_count": null,
      "outputs": []
    },
    {
      "cell_type": "code",
      "metadata": {
        "colab": {
          "base_uri": "https://localhost:8080/",
          "height": 223
        },
        "id": "Kc-Ejb9mKekS",
        "outputId": "95dd0f27-e29a-4ee1-8e56-ca913ddc5a75"
      },
      "source": [
        "data.head()"
      ],
      "execution_count": null,
      "outputs": [
        {
          "output_type": "execute_result",
          "data": {
            "text/html": [
              "<div>\n",
              "<style scoped>\n",
              "    .dataframe tbody tr th:only-of-type {\n",
              "        vertical-align: middle;\n",
              "    }\n",
              "\n",
              "    .dataframe tbody tr th {\n",
              "        vertical-align: top;\n",
              "    }\n",
              "\n",
              "    .dataframe thead th {\n",
              "        text-align: right;\n",
              "    }\n",
              "</style>\n",
              "<table border=\"1\" class=\"dataframe\">\n",
              "  <thead>\n",
              "    <tr style=\"text-align: right;\">\n",
              "      <th></th>\n",
              "      <th>longitude</th>\n",
              "      <th>latitude</th>\n",
              "      <th>housing_median_age</th>\n",
              "      <th>total_rooms</th>\n",
              "      <th>total_bedrooms</th>\n",
              "      <th>population</th>\n",
              "      <th>households</th>\n",
              "      <th>median_income</th>\n",
              "      <th>median_house_value</th>\n",
              "    </tr>\n",
              "  </thead>\n",
              "  <tbody>\n",
              "    <tr>\n",
              "      <th>0</th>\n",
              "      <td>-114.31</td>\n",
              "      <td>34.19</td>\n",
              "      <td>15.0</td>\n",
              "      <td>5612.0</td>\n",
              "      <td>1283.0</td>\n",
              "      <td>1015.0</td>\n",
              "      <td>472.0</td>\n",
              "      <td>1.4936</td>\n",
              "      <td>66900.0</td>\n",
              "    </tr>\n",
              "    <tr>\n",
              "      <th>1</th>\n",
              "      <td>-114.47</td>\n",
              "      <td>34.40</td>\n",
              "      <td>19.0</td>\n",
              "      <td>7650.0</td>\n",
              "      <td>1901.0</td>\n",
              "      <td>1129.0</td>\n",
              "      <td>463.0</td>\n",
              "      <td>1.8200</td>\n",
              "      <td>80100.0</td>\n",
              "    </tr>\n",
              "    <tr>\n",
              "      <th>2</th>\n",
              "      <td>-114.56</td>\n",
              "      <td>33.69</td>\n",
              "      <td>17.0</td>\n",
              "      <td>720.0</td>\n",
              "      <td>174.0</td>\n",
              "      <td>333.0</td>\n",
              "      <td>117.0</td>\n",
              "      <td>1.6509</td>\n",
              "      <td>85700.0</td>\n",
              "    </tr>\n",
              "    <tr>\n",
              "      <th>3</th>\n",
              "      <td>-114.57</td>\n",
              "      <td>33.64</td>\n",
              "      <td>14.0</td>\n",
              "      <td>1501.0</td>\n",
              "      <td>337.0</td>\n",
              "      <td>515.0</td>\n",
              "      <td>226.0</td>\n",
              "      <td>3.1917</td>\n",
              "      <td>73400.0</td>\n",
              "    </tr>\n",
              "    <tr>\n",
              "      <th>4</th>\n",
              "      <td>-114.57</td>\n",
              "      <td>33.57</td>\n",
              "      <td>20.0</td>\n",
              "      <td>1454.0</td>\n",
              "      <td>326.0</td>\n",
              "      <td>624.0</td>\n",
              "      <td>262.0</td>\n",
              "      <td>1.9250</td>\n",
              "      <td>65500.0</td>\n",
              "    </tr>\n",
              "  </tbody>\n",
              "</table>\n",
              "</div>"
            ],
            "text/plain": [
              "   longitude  latitude  ...  median_income  median_house_value\n",
              "0    -114.31     34.19  ...         1.4936             66900.0\n",
              "1    -114.47     34.40  ...         1.8200             80100.0\n",
              "2    -114.56     33.69  ...         1.6509             85700.0\n",
              "3    -114.57     33.64  ...         3.1917             73400.0\n",
              "4    -114.57     33.57  ...         1.9250             65500.0\n",
              "\n",
              "[5 rows x 9 columns]"
            ]
          },
          "metadata": {
            "tags": []
          },
          "execution_count": 3
        }
      ]
    },
    {
      "cell_type": "markdown",
      "metadata": {
        "id": "KG2h5mQAKqJW"
      },
      "source": [
        "# [Statsmodels](https://www.statsmodels.org/stable/index.html)"
      ]
    },
    {
      "cell_type": "code",
      "metadata": {
        "id": "9ERbO41nKfVy"
      },
      "source": [
        "import statsmodels.api as sm\n",
        "y = 'median_house_value'"
      ],
      "execution_count": null,
      "outputs": []
    },
    {
      "cell_type": "code",
      "metadata": {
        "colab": {
          "base_uri": "https://localhost:8080/",
          "height": 417
        },
        "id": "MvBwlmVDLZ1l",
        "outputId": "ead788ab-17a4-4bb7-fcce-89ad5cb54834"
      },
      "source": [
        "data.drop([y], axis=1)"
      ],
      "execution_count": null,
      "outputs": [
        {
          "output_type": "execute_result",
          "data": {
            "text/html": [
              "<div>\n",
              "<style scoped>\n",
              "    .dataframe tbody tr th:only-of-type {\n",
              "        vertical-align: middle;\n",
              "    }\n",
              "\n",
              "    .dataframe tbody tr th {\n",
              "        vertical-align: top;\n",
              "    }\n",
              "\n",
              "    .dataframe thead th {\n",
              "        text-align: right;\n",
              "    }\n",
              "</style>\n",
              "<table border=\"1\" class=\"dataframe\">\n",
              "  <thead>\n",
              "    <tr style=\"text-align: right;\">\n",
              "      <th></th>\n",
              "      <th>longitude</th>\n",
              "      <th>latitude</th>\n",
              "      <th>housing_median_age</th>\n",
              "      <th>total_rooms</th>\n",
              "      <th>total_bedrooms</th>\n",
              "      <th>population</th>\n",
              "      <th>households</th>\n",
              "      <th>median_income</th>\n",
              "    </tr>\n",
              "  </thead>\n",
              "  <tbody>\n",
              "    <tr>\n",
              "      <th>0</th>\n",
              "      <td>-114.31</td>\n",
              "      <td>34.19</td>\n",
              "      <td>15.0</td>\n",
              "      <td>5612.0</td>\n",
              "      <td>1283.0</td>\n",
              "      <td>1015.0</td>\n",
              "      <td>472.0</td>\n",
              "      <td>1.4936</td>\n",
              "    </tr>\n",
              "    <tr>\n",
              "      <th>1</th>\n",
              "      <td>-114.47</td>\n",
              "      <td>34.40</td>\n",
              "      <td>19.0</td>\n",
              "      <td>7650.0</td>\n",
              "      <td>1901.0</td>\n",
              "      <td>1129.0</td>\n",
              "      <td>463.0</td>\n",
              "      <td>1.8200</td>\n",
              "    </tr>\n",
              "    <tr>\n",
              "      <th>2</th>\n",
              "      <td>-114.56</td>\n",
              "      <td>33.69</td>\n",
              "      <td>17.0</td>\n",
              "      <td>720.0</td>\n",
              "      <td>174.0</td>\n",
              "      <td>333.0</td>\n",
              "      <td>117.0</td>\n",
              "      <td>1.6509</td>\n",
              "    </tr>\n",
              "    <tr>\n",
              "      <th>3</th>\n",
              "      <td>-114.57</td>\n",
              "      <td>33.64</td>\n",
              "      <td>14.0</td>\n",
              "      <td>1501.0</td>\n",
              "      <td>337.0</td>\n",
              "      <td>515.0</td>\n",
              "      <td>226.0</td>\n",
              "      <td>3.1917</td>\n",
              "    </tr>\n",
              "    <tr>\n",
              "      <th>4</th>\n",
              "      <td>-114.57</td>\n",
              "      <td>33.57</td>\n",
              "      <td>20.0</td>\n",
              "      <td>1454.0</td>\n",
              "      <td>326.0</td>\n",
              "      <td>624.0</td>\n",
              "      <td>262.0</td>\n",
              "      <td>1.9250</td>\n",
              "    </tr>\n",
              "    <tr>\n",
              "      <th>...</th>\n",
              "      <td>...</td>\n",
              "      <td>...</td>\n",
              "      <td>...</td>\n",
              "      <td>...</td>\n",
              "      <td>...</td>\n",
              "      <td>...</td>\n",
              "      <td>...</td>\n",
              "      <td>...</td>\n",
              "    </tr>\n",
              "    <tr>\n",
              "      <th>16995</th>\n",
              "      <td>-124.26</td>\n",
              "      <td>40.58</td>\n",
              "      <td>52.0</td>\n",
              "      <td>2217.0</td>\n",
              "      <td>394.0</td>\n",
              "      <td>907.0</td>\n",
              "      <td>369.0</td>\n",
              "      <td>2.3571</td>\n",
              "    </tr>\n",
              "    <tr>\n",
              "      <th>16996</th>\n",
              "      <td>-124.27</td>\n",
              "      <td>40.69</td>\n",
              "      <td>36.0</td>\n",
              "      <td>2349.0</td>\n",
              "      <td>528.0</td>\n",
              "      <td>1194.0</td>\n",
              "      <td>465.0</td>\n",
              "      <td>2.5179</td>\n",
              "    </tr>\n",
              "    <tr>\n",
              "      <th>16997</th>\n",
              "      <td>-124.30</td>\n",
              "      <td>41.84</td>\n",
              "      <td>17.0</td>\n",
              "      <td>2677.0</td>\n",
              "      <td>531.0</td>\n",
              "      <td>1244.0</td>\n",
              "      <td>456.0</td>\n",
              "      <td>3.0313</td>\n",
              "    </tr>\n",
              "    <tr>\n",
              "      <th>16998</th>\n",
              "      <td>-124.30</td>\n",
              "      <td>41.80</td>\n",
              "      <td>19.0</td>\n",
              "      <td>2672.0</td>\n",
              "      <td>552.0</td>\n",
              "      <td>1298.0</td>\n",
              "      <td>478.0</td>\n",
              "      <td>1.9797</td>\n",
              "    </tr>\n",
              "    <tr>\n",
              "      <th>16999</th>\n",
              "      <td>-124.35</td>\n",
              "      <td>40.54</td>\n",
              "      <td>52.0</td>\n",
              "      <td>1820.0</td>\n",
              "      <td>300.0</td>\n",
              "      <td>806.0</td>\n",
              "      <td>270.0</td>\n",
              "      <td>3.0147</td>\n",
              "    </tr>\n",
              "  </tbody>\n",
              "</table>\n",
              "<p>17000 rows × 8 columns</p>\n",
              "</div>"
            ],
            "text/plain": [
              "       longitude  latitude  ...  households  median_income\n",
              "0        -114.31     34.19  ...       472.0         1.4936\n",
              "1        -114.47     34.40  ...       463.0         1.8200\n",
              "2        -114.56     33.69  ...       117.0         1.6509\n",
              "3        -114.57     33.64  ...       226.0         3.1917\n",
              "4        -114.57     33.57  ...       262.0         1.9250\n",
              "...          ...       ...  ...         ...            ...\n",
              "16995    -124.26     40.58  ...       369.0         2.3571\n",
              "16996    -124.27     40.69  ...       465.0         2.5179\n",
              "16997    -124.30     41.84  ...       456.0         3.0313\n",
              "16998    -124.30     41.80  ...       478.0         1.9797\n",
              "16999    -124.35     40.54  ...       270.0         3.0147\n",
              "\n",
              "[17000 rows x 8 columns]"
            ]
          },
          "metadata": {
            "tags": []
          },
          "execution_count": 7
        }
      ]
    },
    {
      "cell_type": "code",
      "metadata": {
        "colab": {
          "base_uri": "https://localhost:8080/"
        },
        "id": "NdmSozVAK1T1",
        "outputId": "c8c036d7-af05-4529-d2bf-3cb5e631c966"
      },
      "source": [
        "modelo = sm.OLS(data[y], data.drop([y], axis=1))\n",
        "res = modelo.fit()\n",
        "print(res.summary())"
      ],
      "execution_count": null,
      "outputs": [
        {
          "output_type": "stream",
          "text": [
            "                                 OLS Regression Results                                \n",
            "=======================================================================================\n",
            "Dep. Variable:     median_house_value   R-squared (uncentered):                   0.901\n",
            "Model:                            OLS   Adj. R-squared (uncentered):              0.901\n",
            "Method:                 Least Squares   F-statistic:                          1.927e+04\n",
            "Date:                Thu, 10 Jun 2021   Prob (F-statistic):                        0.00\n",
            "Time:                        18:31:53   Log-Likelihood:                     -2.1492e+05\n",
            "No. Observations:               17000   AIC:                                  4.298e+05\n",
            "Df Residuals:                   16992   BIC:                                  4.299e+05\n",
            "Df Model:                           8                                                  \n",
            "Covariance Type:            nonrobust                                                  \n",
            "======================================================================================\n",
            "                         coef    std err          t      P>|t|      [0.025      0.975]\n",
            "--------------------------------------------------------------------------------------\n",
            "longitude          -2242.3547    119.100    -18.828      0.000   -2475.802   -2008.907\n",
            "latitude           -8474.2259    377.129    -22.470      0.000   -9213.438   -7735.013\n",
            "housing_median_age  1786.1485     49.565     36.036      0.000    1688.995    1883.301\n",
            "total_rooms          -15.3597      0.918    -16.723      0.000     -17.160     -13.559\n",
            "total_bedrooms        79.9623      8.246      9.697      0.000      63.799      96.125\n",
            "population           -39.9046      1.277    -31.238      0.000     -42.409     -37.401\n",
            "households           133.1703      8.918     14.932      0.000     115.689     150.651\n",
            "median_income       4.584e+04    381.200    120.249      0.000    4.51e+04    4.66e+04\n",
            "==============================================================================\n",
            "Omnibus:                     3565.084   Durbin-Watson:                   1.154\n",
            "Prob(Omnibus):                  0.000   Jarque-Bera (JB):            12369.583\n",
            "Skew:                           1.040   Prob(JB):                         0.00\n",
            "Kurtosis:                       6.624   Cond. No.                     3.00e+03\n",
            "==============================================================================\n",
            "\n",
            "Warnings:\n",
            "[1] Standard Errors assume that the covariance matrix of the errors is correctly specified.\n",
            "[2] The condition number is large,  3e+03. This might indicate that there are\n",
            "strong multicollinearity or other numerical problems.\n"
          ],
          "name": "stdout"
        }
      ]
    },
    {
      "cell_type": "code",
      "metadata": {
        "id": "ybUIKSdCL2J8"
      },
      "source": [
        "from sklearn.preprocessing import StandardScaler #reduce the mean of every column and divide by standard deviation"
      ],
      "execution_count": null,
      "outputs": []
    },
    {
      "cell_type": "code",
      "metadata": {
        "colab": {
          "base_uri": "https://localhost:8080/"
        },
        "id": "IEQH_l8zLmZM",
        "outputId": "0d21f950-12ec-47a0-bb24-7bae44f17832"
      },
      "source": [
        "X = data.drop([y], axis=1)\n",
        "scaler = StandardScaler()\n",
        "normalized_X = scaler.fit_transform(X)\n",
        "normalized_X = pd.DataFrame(normalized_X, columns=X.columns) #transform into dataframe and set X.columns to give the name of variables\n",
        "normalized_X['intercept'] = 1 # improve the R-squared\n",
        "\n",
        "modelo = sm.OLS(data[y], normalized_X)\n",
        "res = modelo.fit()\n",
        "print(res.summary())"
      ],
      "execution_count": null,
      "outputs": [
        {
          "output_type": "stream",
          "text": [
            "                            OLS Regression Results                            \n",
            "==============================================================================\n",
            "Dep. Variable:     median_house_value   R-squared:                       0.641\n",
            "Model:                            OLS   Adj. R-squared:                  0.641\n",
            "Method:                 Least Squares   F-statistic:                     3798.\n",
            "Date:                Thu, 10 Jun 2021   Prob (F-statistic):               0.00\n",
            "Time:                        18:52:40   Log-Likelihood:            -2.1365e+05\n",
            "No. Observations:               17000   AIC:                         4.273e+05\n",
            "Df Residuals:                   16991   BIC:                         4.274e+05\n",
            "Df Model:                           8                                         \n",
            "Covariance Type:            nonrobust                                         \n",
            "======================================================================================\n",
            "                         coef    std err          t      P>|t|      [0.025      0.975]\n",
            "--------------------------------------------------------------------------------------\n",
            "longitude           -8.65e+04   1583.169    -54.637      0.000   -8.96e+04   -8.34e+04\n",
            "latitude           -9.174e+04   1593.990    -57.556      0.000   -9.49e+04   -8.86e+04\n",
            "housing_median_age  1.448e+04    598.836     24.186      0.000    1.33e+04    1.57e+04\n",
            "total_rooms        -1.826e+04   1880.808     -9.711      0.000    -2.2e+04   -1.46e+04\n",
            "total_bedrooms      4.959e+04   3239.843     15.305      0.000    4.32e+04    5.59e+04\n",
            "population         -4.418e+04   1361.183    -32.456      0.000   -4.68e+04   -4.15e+04\n",
            "households          1.747e+04   3247.246      5.380      0.000    1.11e+04    2.38e+04\n",
            "median_income       7.729e+04    702.510    110.022      0.000    7.59e+04    7.87e+04\n",
            "intercept           2.073e+05    532.866    389.030      0.000    2.06e+05    2.08e+05\n",
            "==============================================================================\n",
            "Omnibus:                     4032.682   Durbin-Watson:                   1.162\n",
            "Prob(Omnibus):                  0.000   Jarque-Bera (JB):            15559.395\n",
            "Skew:                           1.141   Prob(JB):                         0.00\n",
            "Kurtosis:                       7.094   Cond. No.                         16.6\n",
            "==============================================================================\n",
            "\n",
            "Warnings:\n",
            "[1] Standard Errors assume that the covariance matrix of the errors is correctly specified.\n"
          ],
          "name": "stdout"
        }
      ]
    },
    {
      "cell_type": "markdown",
      "metadata": {
        "id": "KecqWXM4M5_p"
      },
      "source": [
        "# [Scikit-learn](https://scikit-learn.org/stable/)"
      ]
    },
    {
      "cell_type": "code",
      "metadata": {
        "colab": {
          "base_uri": "https://localhost:8080/"
        },
        "id": "0D_A5h9SNiD6",
        "outputId": "cfd4b36e-9ebd-4eca-e712-cdd95ade2855"
      },
      "source": [
        "data.shape"
      ],
      "execution_count": null,
      "outputs": [
        {
          "output_type": "execute_result",
          "data": {
            "text/plain": [
              "(17000, 9)"
            ]
          },
          "metadata": {
            "tags": []
          },
          "execution_count": 19
        }
      ]
    },
    {
      "cell_type": "code",
      "metadata": {
        "colab": {
          "base_uri": "https://localhost:8080/"
        },
        "id": "UjdHdCOUMLne",
        "outputId": "4ddb297d-347f-40d4-fa59-f16891bf383f"
      },
      "source": [
        "from sklearn.linear_model import LinearRegression\n",
        "from sklearn.model_selection import train_test_split\n",
        "\n",
        "Xtrain, Xval, ytrain, yval = train_test_split(X, data[y], test_size=0.3, random_state=0) #random_state=0 to keep the seed\n",
        "\n",
        "print(Xtrain.shape, Xval.shape, ytrain.shape, yval.shape)\n",
        "\n",
        "modelo = LinearRegression(normalize=True)\n",
        "modelo.fit(Xtrain, ytrain)\n",
        "\n",
        "p = modelo.predict(Xval)"
      ],
      "execution_count": null,
      "outputs": [
        {
          "output_type": "stream",
          "text": [
            "(11900, 8) (5100, 8) (11900,) (5100,)\n"
          ],
          "name": "stdout"
        }
      ]
    },
    {
      "cell_type": "code",
      "metadata": {
        "colab": {
          "base_uri": "https://localhost:8080/"
        },
        "id": "UfEui0HaNJZp",
        "outputId": "dc0f87de-5343-458d-a2fc-2d90cf09edd1"
      },
      "source": [
        "from sklearn.metrics import mean_squared_error\n",
        "np.sqrt(mean_squared_error(yval, p)) #first real data"
      ],
      "execution_count": null,
      "outputs": [
        {
          "output_type": "execute_result",
          "data": {
            "text/plain": [
              "69057.71585050465"
            ]
          },
          "metadata": {
            "tags": []
          },
          "execution_count": 54
        }
      ]
    },
    {
      "cell_type": "code",
      "metadata": {
        "colab": {
          "base_uri": "https://localhost:8080/"
        },
        "id": "PJ77r4xFOe3e",
        "outputId": "b6a9f851-db8f-4323-fa6c-bd4f008e4cdc"
      },
      "source": [
        "modelo.coef_"
      ],
      "execution_count": null,
      "outputs": [
        {
          "output_type": "execute_result",
          "data": {
            "text/plain": [
              "array([-4.29924725e+04, -4.27651880e+04,  1.17410488e+03, -8.43005986e+00,\n",
              "        1.18929331e+02, -3.58414446e+01,  3.86437859e+01,  4.04939678e+04])"
            ]
          },
          "metadata": {
            "tags": []
          },
          "execution_count": 55
        }
      ]
    },
    {
      "cell_type": "markdown",
      "metadata": {
        "id": "4V8_cKvTQEZK"
      },
      "source": [
        "# Scikit-learn standardizado"
      ]
    },
    {
      "cell_type": "code",
      "metadata": {
        "colab": {
          "base_uri": "https://localhost:8080/"
        },
        "id": "K6am9gf7QGSM",
        "outputId": "25ca4104-422a-4bb2-d788-986952140964"
      },
      "source": [
        "from sklearn.linear_model import LinearRegression\n",
        "from sklearn.model_selection import train_test_split\n",
        "\n",
        "\n",
        "Xtrain, Xval, ytrain, yval = train_test_split(X, data[y], test_size=0.3, random_state=0)\n",
        "print(Xtrain.shape, Xval.shape, ytrain.shape, yval.shape)\n",
        "\n",
        "scaler = StandardScaler()\n",
        "Xtrain_scaled = scaler.fit_transform(Xtrain)\n",
        "Xval_scaled = scaler.transform(Xval)\n",
        "\n",
        "modelo = LinearRegression(fit_intercept=True, normalize=False)\n",
        "modelo.fit(Xtrain_scaled, ytrain)\n",
        "\n",
        "p = modelo.predict(Xval_scaled)"
      ],
      "execution_count": null,
      "outputs": [
        {
          "output_type": "stream",
          "text": [
            "(11900, 8) (5100, 8) (11900,) (5100,)\n"
          ],
          "name": "stdout"
        }
      ]
    },
    {
      "cell_type": "code",
      "metadata": {
        "colab": {
          "base_uri": "https://localhost:8080/"
        },
        "id": "BaRC9DdcQUcS",
        "outputId": "1ab2ba89-1b30-4a2e-e18a-114fcce90a7b"
      },
      "source": [
        "from sklearn.metrics import mean_squared_error\n",
        "np.sqrt(mean_squared_error(yval, p))"
      ],
      "execution_count": null,
      "outputs": [
        {
          "output_type": "execute_result",
          "data": {
            "text/plain": [
              "69057.71585050465"
            ]
          },
          "metadata": {
            "tags": []
          },
          "execution_count": 98
        }
      ]
    },
    {
      "cell_type": "code",
      "metadata": {
        "colab": {
          "base_uri": "https://localhost:8080/"
        },
        "id": "iz8_jK6cQXBc",
        "outputId": "9d978a3d-f1b4-4e5d-d463-7fc32c29a28f"
      },
      "source": [
        "modelo.coef_"
      ],
      "execution_count": null,
      "outputs": [
        {
          "output_type": "execute_result",
          "data": {
            "text/plain": [
              "array([-86347.90780568, -91686.55531605,  14820.25508291, -18738.10696631,\n",
              "        50487.93188416, -42342.52251271,  14973.15005562,  77778.8185199 ])"
            ]
          },
          "metadata": {
            "tags": []
          },
          "execution_count": 99
        }
      ]
    },
    {
      "cell_type": "code",
      "metadata": {
        "id": "6L8CH6goW5pN"
      },
      "source": [
        ""
      ],
      "execution_count": null,
      "outputs": []
    }
  ]
}