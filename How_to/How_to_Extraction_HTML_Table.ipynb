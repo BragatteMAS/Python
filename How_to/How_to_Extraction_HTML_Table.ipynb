{
  "nbformat": 4,
  "nbformat_minor": 0,
  "metadata": {
    "colab": {
      "name": "How_to_Extraction_HTML_Table.ipynb",
      "provenance": [],
      "authorship_tag": "ABX9TyPD1qpEY+SnnKMJ9rwEn7QN",
      "include_colab_link": true
    },
    "kernelspec": {
      "name": "python3",
      "display_name": "Python 3"
    },
    "language_info": {
      "name": "python"
    }
  },
  "cells": [
    {
      "cell_type": "markdown",
      "metadata": {
        "id": "view-in-github",
        "colab_type": "text"
      },
      "source": [
        "<a href=\"https://colab.research.google.com/github/BragatteMAS/Python/blob/master/How_to/How_to_Extraction_HTML_Table.ipynb\" target=\"_parent\"><img src=\"https://colab.research.google.com/assets/colab-badge.svg\" alt=\"Open In Colab\"/></a>"
      ]
    },
    {
      "cell_type": "markdown",
      "metadata": {
        "id": "E6exhnO-yDwg"
      },
      "source": [
        "# Mineração de dados com pandas em tabelas HTML\n",
        "\n",
        "@Bragatte 202103231721 [REF](https://www.youtube.com/watch?v=0YX0_GZeQwU)actor"
      ]
    },
    {
      "cell_type": "code",
      "metadata": {
        "id": "iZ6idvGAxvVw"
      },
      "source": [
        "import pandas as pd"
      ],
      "execution_count": 8,
      "outputs": []
    },
    {
      "cell_type": "code",
      "metadata": {
        "id": "DW9uKQFIyUSo"
      },
      "source": [
        "url  = 'http://www.iedb.org/result_v3.php?cookie_id=ff2a72'"
      ],
      "execution_count": 28,
      "outputs": []
    },
    {
      "cell_type": "code",
      "metadata": {
        "id": "32sWAu9xzlLr"
      },
      "source": [
        "url1 = 'https://pt.wikipedia.org/wiki/Big_Brother_Brasil_21'"
      ],
      "execution_count": 30,
      "outputs": []
    },
    {
      "cell_type": "code",
      "metadata": {
        "colab": {
          "base_uri": "https://localhost:8080/",
          "height": 358
        },
        "id": "XR6Gemsu0ARh",
        "outputId": "a4945200-7690-4b26-d884-4ba2b0322a9e"
      },
      "source": [
        "# Call table from page - necessary HTML table check in F12\n",
        "html = pd.read_html(url)\n",
        "#If not have html table it is impossible apply the method"
      ],
      "execution_count": 29,
      "outputs": [
        {
          "output_type": "error",
          "ename": "ValueError",
          "evalue": "ignored",
          "traceback": [
            "\u001b[0;31m---------------------------------------------------------------------------\u001b[0m",
            "\u001b[0;31mValueError\u001b[0m                                Traceback (most recent call last)",
            "\u001b[0;32m<ipython-input-29-0f36546ace63>\u001b[0m in \u001b[0;36m<module>\u001b[0;34m()\u001b[0m\n\u001b[1;32m      1\u001b[0m \u001b[0;31m# Call table from page - necessary HTML table check in F12\u001b[0m\u001b[0;34m\u001b[0m\u001b[0;34m\u001b[0m\u001b[0;34m\u001b[0m\u001b[0m\n\u001b[0;32m----> 2\u001b[0;31m \u001b[0mhtml\u001b[0m \u001b[0;34m=\u001b[0m \u001b[0mpd\u001b[0m\u001b[0;34m.\u001b[0m\u001b[0mread_html\u001b[0m\u001b[0;34m(\u001b[0m\u001b[0murl\u001b[0m\u001b[0;34m)\u001b[0m\u001b[0;34m\u001b[0m\u001b[0;34m\u001b[0m\u001b[0m\n\u001b[0m",
            "\u001b[0;32m/usr/local/lib/python3.7/dist-packages/pandas/util/_decorators.py\u001b[0m in \u001b[0;36mwrapper\u001b[0;34m(*args, **kwargs)\u001b[0m\n\u001b[1;32m    294\u001b[0m                 )\n\u001b[1;32m    295\u001b[0m                 \u001b[0mwarnings\u001b[0m\u001b[0;34m.\u001b[0m\u001b[0mwarn\u001b[0m\u001b[0;34m(\u001b[0m\u001b[0mmsg\u001b[0m\u001b[0;34m,\u001b[0m \u001b[0mFutureWarning\u001b[0m\u001b[0;34m,\u001b[0m \u001b[0mstacklevel\u001b[0m\u001b[0;34m=\u001b[0m\u001b[0mstacklevel\u001b[0m\u001b[0;34m)\u001b[0m\u001b[0;34m\u001b[0m\u001b[0;34m\u001b[0m\u001b[0m\n\u001b[0;32m--> 296\u001b[0;31m             \u001b[0;32mreturn\u001b[0m \u001b[0mfunc\u001b[0m\u001b[0;34m(\u001b[0m\u001b[0;34m*\u001b[0m\u001b[0margs\u001b[0m\u001b[0;34m,\u001b[0m \u001b[0;34m**\u001b[0m\u001b[0mkwargs\u001b[0m\u001b[0;34m)\u001b[0m\u001b[0;34m\u001b[0m\u001b[0;34m\u001b[0m\u001b[0m\n\u001b[0m\u001b[1;32m    297\u001b[0m \u001b[0;34m\u001b[0m\u001b[0m\n\u001b[1;32m    298\u001b[0m         \u001b[0;32mreturn\u001b[0m \u001b[0mwrapper\u001b[0m\u001b[0;34m\u001b[0m\u001b[0;34m\u001b[0m\u001b[0m\n",
            "\u001b[0;32m/usr/local/lib/python3.7/dist-packages/pandas/io/html.py\u001b[0m in \u001b[0;36mread_html\u001b[0;34m(io, match, flavor, header, index_col, skiprows, attrs, parse_dates, thousands, encoding, decimal, converters, na_values, keep_default_na, displayed_only)\u001b[0m\n\u001b[1;32m   1099\u001b[0m         \u001b[0mna_values\u001b[0m\u001b[0;34m=\u001b[0m\u001b[0mna_values\u001b[0m\u001b[0;34m,\u001b[0m\u001b[0;34m\u001b[0m\u001b[0;34m\u001b[0m\u001b[0m\n\u001b[1;32m   1100\u001b[0m         \u001b[0mkeep_default_na\u001b[0m\u001b[0;34m=\u001b[0m\u001b[0mkeep_default_na\u001b[0m\u001b[0;34m,\u001b[0m\u001b[0;34m\u001b[0m\u001b[0;34m\u001b[0m\u001b[0m\n\u001b[0;32m-> 1101\u001b[0;31m         \u001b[0mdisplayed_only\u001b[0m\u001b[0;34m=\u001b[0m\u001b[0mdisplayed_only\u001b[0m\u001b[0;34m,\u001b[0m\u001b[0;34m\u001b[0m\u001b[0;34m\u001b[0m\u001b[0m\n\u001b[0m\u001b[1;32m   1102\u001b[0m     )\n",
            "\u001b[0;32m/usr/local/lib/python3.7/dist-packages/pandas/io/html.py\u001b[0m in \u001b[0;36m_parse\u001b[0;34m(flavor, io, match, attrs, encoding, displayed_only, **kwargs)\u001b[0m\n\u001b[1;32m    915\u001b[0m             \u001b[0;32mbreak\u001b[0m\u001b[0;34m\u001b[0m\u001b[0;34m\u001b[0m\u001b[0m\n\u001b[1;32m    916\u001b[0m     \u001b[0;32melse\u001b[0m\u001b[0;34m:\u001b[0m\u001b[0;34m\u001b[0m\u001b[0;34m\u001b[0m\u001b[0m\n\u001b[0;32m--> 917\u001b[0;31m         \u001b[0;32mraise\u001b[0m \u001b[0mretained\u001b[0m\u001b[0;34m\u001b[0m\u001b[0;34m\u001b[0m\u001b[0m\n\u001b[0m\u001b[1;32m    918\u001b[0m \u001b[0;34m\u001b[0m\u001b[0m\n\u001b[1;32m    919\u001b[0m     \u001b[0mret\u001b[0m \u001b[0;34m=\u001b[0m \u001b[0;34m[\u001b[0m\u001b[0;34m]\u001b[0m\u001b[0;34m\u001b[0m\u001b[0;34m\u001b[0m\u001b[0m\n",
            "\u001b[0;32m/usr/local/lib/python3.7/dist-packages/pandas/io/html.py\u001b[0m in \u001b[0;36m_parse\u001b[0;34m(flavor, io, match, attrs, encoding, displayed_only, **kwargs)\u001b[0m\n\u001b[1;32m    896\u001b[0m \u001b[0;34m\u001b[0m\u001b[0m\n\u001b[1;32m    897\u001b[0m         \u001b[0;32mtry\u001b[0m\u001b[0;34m:\u001b[0m\u001b[0;34m\u001b[0m\u001b[0;34m\u001b[0m\u001b[0m\n\u001b[0;32m--> 898\u001b[0;31m             \u001b[0mtables\u001b[0m \u001b[0;34m=\u001b[0m \u001b[0mp\u001b[0m\u001b[0;34m.\u001b[0m\u001b[0mparse_tables\u001b[0m\u001b[0;34m(\u001b[0m\u001b[0;34m)\u001b[0m\u001b[0;34m\u001b[0m\u001b[0;34m\u001b[0m\u001b[0m\n\u001b[0m\u001b[1;32m    899\u001b[0m         \u001b[0;32mexcept\u001b[0m \u001b[0mValueError\u001b[0m \u001b[0;32mas\u001b[0m \u001b[0mcaught\u001b[0m\u001b[0;34m:\u001b[0m\u001b[0;34m\u001b[0m\u001b[0;34m\u001b[0m\u001b[0m\n\u001b[1;32m    900\u001b[0m             \u001b[0;31m# if `io` is an io-like object, check if it's seekable\u001b[0m\u001b[0;34m\u001b[0m\u001b[0;34m\u001b[0m\u001b[0;34m\u001b[0m\u001b[0m\n",
            "\u001b[0;32m/usr/local/lib/python3.7/dist-packages/pandas/io/html.py\u001b[0m in \u001b[0;36mparse_tables\u001b[0;34m(self)\u001b[0m\n\u001b[1;32m    215\u001b[0m         \u001b[0mlist\u001b[0m \u001b[0mof\u001b[0m \u001b[0mparsed\u001b[0m \u001b[0;34m(\u001b[0m\u001b[0mheader\u001b[0m\u001b[0;34m,\u001b[0m \u001b[0mbody\u001b[0m\u001b[0;34m,\u001b[0m \u001b[0mfooter\u001b[0m\u001b[0;34m)\u001b[0m \u001b[0mtuples\u001b[0m \u001b[0;32mfrom\u001b[0m \u001b[0mtables\u001b[0m\u001b[0;34m.\u001b[0m\u001b[0;34m\u001b[0m\u001b[0;34m\u001b[0m\u001b[0m\n\u001b[1;32m    216\u001b[0m         \"\"\"\n\u001b[0;32m--> 217\u001b[0;31m         \u001b[0mtables\u001b[0m \u001b[0;34m=\u001b[0m \u001b[0mself\u001b[0m\u001b[0;34m.\u001b[0m\u001b[0m_parse_tables\u001b[0m\u001b[0;34m(\u001b[0m\u001b[0mself\u001b[0m\u001b[0;34m.\u001b[0m\u001b[0m_build_doc\u001b[0m\u001b[0;34m(\u001b[0m\u001b[0;34m)\u001b[0m\u001b[0;34m,\u001b[0m \u001b[0mself\u001b[0m\u001b[0;34m.\u001b[0m\u001b[0mmatch\u001b[0m\u001b[0;34m,\u001b[0m \u001b[0mself\u001b[0m\u001b[0;34m.\u001b[0m\u001b[0mattrs\u001b[0m\u001b[0;34m)\u001b[0m\u001b[0;34m\u001b[0m\u001b[0;34m\u001b[0m\u001b[0m\n\u001b[0m\u001b[1;32m    218\u001b[0m         \u001b[0;32mreturn\u001b[0m \u001b[0;34m(\u001b[0m\u001b[0mself\u001b[0m\u001b[0;34m.\u001b[0m\u001b[0m_parse_thead_tbody_tfoot\u001b[0m\u001b[0;34m(\u001b[0m\u001b[0mtable\u001b[0m\u001b[0;34m)\u001b[0m \u001b[0;32mfor\u001b[0m \u001b[0mtable\u001b[0m \u001b[0;32min\u001b[0m \u001b[0mtables\u001b[0m\u001b[0;34m)\u001b[0m\u001b[0;34m\u001b[0m\u001b[0;34m\u001b[0m\u001b[0m\n\u001b[1;32m    219\u001b[0m \u001b[0;34m\u001b[0m\u001b[0m\n",
            "\u001b[0;32m/usr/local/lib/python3.7/dist-packages/pandas/io/html.py\u001b[0m in \u001b[0;36m_parse_tables\u001b[0;34m(self, doc, match, attrs)\u001b[0m\n\u001b[1;32m    545\u001b[0m \u001b[0;34m\u001b[0m\u001b[0m\n\u001b[1;32m    546\u001b[0m         \u001b[0;32mif\u001b[0m \u001b[0;32mnot\u001b[0m \u001b[0mtables\u001b[0m\u001b[0;34m:\u001b[0m\u001b[0;34m\u001b[0m\u001b[0;34m\u001b[0m\u001b[0m\n\u001b[0;32m--> 547\u001b[0;31m             \u001b[0;32mraise\u001b[0m \u001b[0mValueError\u001b[0m\u001b[0;34m(\u001b[0m\u001b[0;34m\"No tables found\"\u001b[0m\u001b[0;34m)\u001b[0m\u001b[0;34m\u001b[0m\u001b[0;34m\u001b[0m\u001b[0m\n\u001b[0m\u001b[1;32m    548\u001b[0m \u001b[0;34m\u001b[0m\u001b[0m\n\u001b[1;32m    549\u001b[0m         \u001b[0mresult\u001b[0m \u001b[0;34m=\u001b[0m \u001b[0;34m[\u001b[0m\u001b[0;34m]\u001b[0m\u001b[0;34m\u001b[0m\u001b[0;34m\u001b[0m\u001b[0m\n",
            "\u001b[0;31mValueError\u001b[0m: No tables found"
          ]
        }
      ]
    },
    {
      "cell_type": "code",
      "metadata": {
        "id": "idRAEIrD0AWp"
      },
      "source": [
        "#Filter columns in HTML table\n",
        "html = pd.read_html(url1, match='Origem')"
      ],
      "execution_count": 36,
      "outputs": []
    },
    {
      "cell_type": "code",
      "metadata": {
        "id": "g1RVhN4E0AZd"
      },
      "source": [
        "bbb21 = html[0]"
      ],
      "execution_count": 35,
      "outputs": []
    },
    {
      "cell_type": "code",
      "metadata": {
        "colab": {
          "base_uri": "https://localhost:8080/",
          "height": 1000
        },
        "id": "ycH8b5Sf0AcR",
        "outputId": "ae3b7a13-fadf-409c-9f65-e2f781ae1275"
      },
      "source": [
        "bbb21 "
      ],
      "execution_count": 38,
      "outputs": [
        {
          "output_type": "execute_result",
          "data": {
            "text/html": [
              "<div>\n",
              "<style scoped>\n",
              "    .dataframe tbody tr th:only-of-type {\n",
              "        vertical-align: middle;\n",
              "    }\n",
              "\n",
              "    .dataframe tbody tr th {\n",
              "        vertical-align: top;\n",
              "    }\n",
              "\n",
              "    .dataframe thead th {\n",
              "        text-align: right;\n",
              "    }\n",
              "</style>\n",
              "<table border=\"1\" class=\"dataframe\">\n",
              "  <thead>\n",
              "    <tr style=\"text-align: right;\">\n",
              "      <th></th>\n",
              "      <th>Participante</th>\n",
              "      <th>Data denascimento</th>\n",
              "      <th>Ocupação</th>\n",
              "      <th>Origem</th>\n",
              "      <th>Resultado</th>\n",
              "      <th>Ref.</th>\n",
              "    </tr>\n",
              "  </thead>\n",
              "  <tbody>\n",
              "    <tr>\n",
              "      <th>0</th>\n",
              "      <td>Arthur Louzada Picoli</td>\n",
              "      <td>21/06/1994</td>\n",
              "      <td>Instrutor de crossfit</td>\n",
              "      <td>Conduru, Espírito Santo</td>\n",
              "      <td>NaN</td>\n",
              "      <td>[136]</td>\n",
              "    </tr>\n",
              "    <tr>\n",
              "      <th>1</th>\n",
              "      <td>Caio Farah Afiune</td>\n",
              "      <td>06/01/1989</td>\n",
              "      <td>Fazendeiro</td>\n",
              "      <td>Anápolis, Goiás</td>\n",
              "      <td>NaN</td>\n",
              "      <td>[137]</td>\n",
              "    </tr>\n",
              "    <tr>\n",
              "      <th>2</th>\n",
              "      <td>Camilla Jesus Santos de Lucas</td>\n",
              "      <td>13/10/1994</td>\n",
              "      <td>Influenciadora digital</td>\n",
              "      <td>Nova Iguaçu, Rio de Janeiro</td>\n",
              "      <td>NaN</td>\n",
              "      <td>[138]</td>\n",
              "    </tr>\n",
              "    <tr>\n",
              "      <th>3</th>\n",
              "      <td>Carla Carolina Moreira Diaz</td>\n",
              "      <td>28/11/1990</td>\n",
              "      <td>Atriz</td>\n",
              "      <td>São Paulo, São Paulo</td>\n",
              "      <td>NaN</td>\n",
              "      <td>[139]</td>\n",
              "    </tr>\n",
              "    <tr>\n",
              "      <th>4</th>\n",
              "      <td>Filipe Kartalian Ayrosa Galvão (Fiuk)</td>\n",
              "      <td>25/10/1990</td>\n",
              "      <td>Ator/Cantor</td>\n",
              "      <td>São Paulo, São Paulo</td>\n",
              "      <td>NaN</td>\n",
              "      <td>[140]</td>\n",
              "    </tr>\n",
              "    <tr>\n",
              "      <th>5</th>\n",
              "      <td>Gilberto José Nogueira Junior</td>\n",
              "      <td>14/07/1991</td>\n",
              "      <td>Doutorando em Economia</td>\n",
              "      <td>Jaboatão dos Guararapes, Pernambuco</td>\n",
              "      <td>NaN</td>\n",
              "      <td>[141]</td>\n",
              "    </tr>\n",
              "    <tr>\n",
              "      <th>6</th>\n",
              "      <td>João Luiz Pedrosa da Silva</td>\n",
              "      <td>09/10/1996</td>\n",
              "      <td>Professor de Geografia</td>\n",
              "      <td>Santos Dumont, Minas Gerais</td>\n",
              "      <td>NaN</td>\n",
              "      <td>[142]</td>\n",
              "    </tr>\n",
              "    <tr>\n",
              "      <th>7</th>\n",
              "      <td>Juliette Freire Feitosa</td>\n",
              "      <td>03/12/1989</td>\n",
              "      <td>Advogada/Maquiadora</td>\n",
              "      <td>Campina Grande, Paraíba</td>\n",
              "      <td>NaN</td>\n",
              "      <td>[143]</td>\n",
              "    </tr>\n",
              "    <tr>\n",
              "      <th>8</th>\n",
              "      <td>Viviane de Queiroz Pereira (Pocah)</td>\n",
              "      <td>17/10/1994</td>\n",
              "      <td>Cantora</td>\n",
              "      <td>Queimados, Rio de Janeiro</td>\n",
              "      <td>NaN</td>\n",
              "      <td>[144]</td>\n",
              "    </tr>\n",
              "    <tr>\n",
              "      <th>9</th>\n",
              "      <td>Rodolffo Matthaus da Silva Rios</td>\n",
              "      <td>24/08/1988</td>\n",
              "      <td>Cantor</td>\n",
              "      <td>Uruaçu, Goiás</td>\n",
              "      <td>NaN</td>\n",
              "      <td>[145]</td>\n",
              "    </tr>\n",
              "    <tr>\n",
              "      <th>10</th>\n",
              "      <td>Sarah Carolline Vieira de Andrade</td>\n",
              "      <td>22/06/1991</td>\n",
              "      <td>Consultora de marketing digital</td>\n",
              "      <td>Brasília, Distrito Federal</td>\n",
              "      <td>NaN</td>\n",
              "      <td>[146]</td>\n",
              "    </tr>\n",
              "    <tr>\n",
              "      <th>11</th>\n",
              "      <td>Thaís Faria Braz</td>\n",
              "      <td>25/01/1993</td>\n",
              "      <td>Cirurgiã-dentista</td>\n",
              "      <td>Luziânia, Goiás</td>\n",
              "      <td>NaN</td>\n",
              "      <td>[147]</td>\n",
              "    </tr>\n",
              "    <tr>\n",
              "      <th>12</th>\n",
              "      <td>Vitória Felício Moraes (Viih Tube)</td>\n",
              "      <td>18/08/2000</td>\n",
              "      <td>Atriz/YouTuber</td>\n",
              "      <td>Sorocaba, São Paulo</td>\n",
              "      <td>NaN</td>\n",
              "      <td>[148]</td>\n",
              "    </tr>\n",
              "    <tr>\n",
              "      <th>13</th>\n",
              "      <td>José Tiago Sabino Pereira (Projota)</td>\n",
              "      <td>11/04/1986</td>\n",
              "      <td>Cantor/Rapper</td>\n",
              "      <td>São Paulo, São Paulo</td>\n",
              "      <td>6º eliminadoem 16 de março de 2021</td>\n",
              "      <td>[149]</td>\n",
              "    </tr>\n",
              "    <tr>\n",
              "      <th>14</th>\n",
              "      <td>Lumena de Aleluia Santos</td>\n",
              "      <td>18/04/1991</td>\n",
              "      <td>Psicóloga/DJ</td>\n",
              "      <td>Salvador, Bahia</td>\n",
              "      <td>5ª eliminadaem 2 de março de 2021</td>\n",
              "      <td>[150]</td>\n",
              "    </tr>\n",
              "    <tr>\n",
              "      <th>15</th>\n",
              "      <td>Karoline dos Santos Oliveira (Karol Conká)</td>\n",
              "      <td>01/01/1986</td>\n",
              "      <td>Apresentadora/Cantora</td>\n",
              "      <td>Curitiba, Paraná</td>\n",
              "      <td>4ª eliminadaem 23 de fevereiro de 2021</td>\n",
              "      <td>[151]</td>\n",
              "    </tr>\n",
              "    <tr>\n",
              "      <th>16</th>\n",
              "      <td>Dilson Alves da Silva Neto (Nego Di)</td>\n",
              "      <td>01/06/1994</td>\n",
              "      <td>Comediante</td>\n",
              "      <td>Porto Alegre, Rio Grande do Sul</td>\n",
              "      <td>3º eliminadoem 16 de fevereiro de 2021</td>\n",
              "      <td>[152]</td>\n",
              "    </tr>\n",
              "    <tr>\n",
              "      <th>17</th>\n",
              "      <td>Arcrebiano de Araújo Silva</td>\n",
              "      <td>01/12/1991</td>\n",
              "      <td>Educador físico/Modelo</td>\n",
              "      <td>Vila Velha, Espírito Santo</td>\n",
              "      <td>2º eliminadoem 9 de fevereiro de 2021</td>\n",
              "      <td>[153]</td>\n",
              "    </tr>\n",
              "    <tr>\n",
              "      <th>18</th>\n",
              "      <td>Lucas Prata Penteado</td>\n",
              "      <td>23/11/1996</td>\n",
              "      <td>Ator</td>\n",
              "      <td>São Paulo, São Paulo</td>\n",
              "      <td>Desistenteem 7 de fevereiro de 2021</td>\n",
              "      <td>[154]</td>\n",
              "    </tr>\n",
              "    <tr>\n",
              "      <th>19</th>\n",
              "      <td>Kerline Farias Cardoso Leite</td>\n",
              "      <td>23/04/1992</td>\n",
              "      <td>Influenciadora digital/Modelo</td>\n",
              "      <td>Fortaleza, Ceará</td>\n",
              "      <td>1ª eliminadaem 2 de fevereiro de 2021</td>\n",
              "      <td>[155]</td>\n",
              "    </tr>\n",
              "  </tbody>\n",
              "</table>\n",
              "</div>"
            ],
            "text/plain": [
              "                                  Participante  ...   Ref.\n",
              "0                        Arthur Louzada Picoli  ...  [136]\n",
              "1                            Caio Farah Afiune  ...  [137]\n",
              "2                Camilla Jesus Santos de Lucas  ...  [138]\n",
              "3                  Carla Carolina Moreira Diaz  ...  [139]\n",
              "4        Filipe Kartalian Ayrosa Galvão (Fiuk)  ...  [140]\n",
              "5                Gilberto José Nogueira Junior  ...  [141]\n",
              "6                   João Luiz Pedrosa da Silva  ...  [142]\n",
              "7                      Juliette Freire Feitosa  ...  [143]\n",
              "8           Viviane de Queiroz Pereira (Pocah)  ...  [144]\n",
              "9              Rodolffo Matthaus da Silva Rios  ...  [145]\n",
              "10           Sarah Carolline Vieira de Andrade  ...  [146]\n",
              "11                            Thaís Faria Braz  ...  [147]\n",
              "12          Vitória Felício Moraes (Viih Tube)  ...  [148]\n",
              "13         José Tiago Sabino Pereira (Projota)  ...  [149]\n",
              "14                    Lumena de Aleluia Santos  ...  [150]\n",
              "15  Karoline dos Santos Oliveira (Karol Conká)  ...  [151]\n",
              "16        Dilson Alves da Silva Neto (Nego Di)  ...  [152]\n",
              "17                  Arcrebiano de Araújo Silva  ...  [153]\n",
              "18                        Lucas Prata Penteado  ...  [154]\n",
              "19                Kerline Farias Cardoso Leite  ...  [155]\n",
              "\n",
              "[20 rows x 6 columns]"
            ]
          },
          "metadata": {
            "tags": []
          },
          "execution_count": 38
        }
      ]
    }
  ]
}