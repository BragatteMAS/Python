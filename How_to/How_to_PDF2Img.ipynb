{
  "nbformat": 4,
  "nbformat_minor": 0,
  "metadata": {
    "colab": {
      "name": "How_to_PDF2Img.ipynb",
      "provenance": [],
      "authorship_tag": "ABX9TyMRx0132iIG6+fxqrkpQElS",
      "include_colab_link": true
    },
    "kernelspec": {
      "name": "python3",
      "display_name": "Python 3"
    },
    "language_info": {
      "name": "python"
    }
  },
  "cells": [
    {
      "cell_type": "markdown",
      "metadata": {
        "id": "view-in-github",
        "colab_type": "text"
      },
      "source": [
        "<a href=\"https://colab.research.google.com/github/BragatteMAS/Python/blob/master/How_to/How_to_PDF2Img.ipynb\" target=\"_parent\"><img src=\"https://colab.research.google.com/assets/colab-badge.svg\" alt=\"Open In Colab\"/></a>"
      ]
    },
    {
      "cell_type": "markdown",
      "metadata": {
        "id": "LjdJG_eqSR6N"
      },
      "source": [
        "# How to turn PDF into Images automatically\n",
        "@Bragatte [Ref](https://sulove-rbista.medium.com/automating-boring-stuff-with-python-real-life-edition-d9e95deaee70)actoring \n"
      ]
    },
    {
      "cell_type": "code",
      "metadata": {
        "id": "SydUlTAvSMW-"
      },
      "source": [
        "import fitz\n",
        "import os"
      ],
      "execution_count": null,
      "outputs": []
    },
    {
      "cell_type": "code",
      "metadata": {
        "id": "bjE8EMonSUhr"
      },
      "source": [
        "os.chdir('./Certificates)\n",
        "files = os.listdir('.')\n",
        "for file in files:\n",
        "    if file.endswith('.pdf'):\n",
        "        filename = file.split('.')[0]\n",
        "        doc = fitz.open(file)\n",
        "        page = doc.loadPage(0)\n",
        "        pix = page.getPixmap()\n",
        "        output = \"{}.png\".format(filename)\n",
        "        pix.writePNG(output)\n",
        "        os.remove(file)"
      ],
      "execution_count": null,
      "outputs": []
    }
  ]
}