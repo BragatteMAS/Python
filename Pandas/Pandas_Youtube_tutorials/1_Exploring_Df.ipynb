{
  "nbformat": 4,
  "nbformat_minor": 0,
  "metadata": {
    "colab": {
      "name": "1_Tutorial_Py_Programmer.ipynb",
      "provenance": [],
      "authorship_tag": "ABX9TyNNId2IRDF+J9uLQY21hmes",
      "include_colab_link": true
    },
    "kernelspec": {
      "name": "python3",
      "display_name": "Python 3"
    },
    "accelerator": "GPU"
  },
  "cells": [
    {
      "cell_type": "markdown",
      "metadata": {
        "id": "view-in-github",
        "colab_type": "text"
      },
      "source": [
        "<a href=\"https://colab.research.google.com/github/BragatteMAS/Pandas_skills/blob/master/Python_Programmer_Youtube_Channel_Tutorial/1_Exploring_Df.ipynb\" target=\"_parent\"><img src=\"https://colab.research.google.com/assets/colab-badge.svg\" alt=\"Open In Colab\"/></a>"
      ]
    },
    {
      "cell_type": "code",
      "metadata": {
        "id": "pUfh-MYZvNow",
        "colab_type": "code",
        "colab": {}
      },
      "source": [
        "import numpy as  np\n",
        "import pandas as pd\n",
        "import os\n",
        "import urllib\n",
        "%matplotlib inline"
      ],
      "execution_count": null,
      "outputs": []
    },
    {
      "cell_type": "code",
      "metadata": {
        "id": "yow1LC7PviCS",
        "colab_type": "code",
        "colab": {}
      },
      "source": [
        "url = \"https://covid19.who.int/WHO-COVID-19-global-data.csv\"\n",
        "file_path = os.path.join(\"data\",\"covid\")"
      ],
      "execution_count": 11,
      "outputs": []
    },
    {
      "cell_type": "code",
      "metadata": {
        "id": "S8P7MgwnviJZ",
        "colab_type": "code",
        "colab": {
          "base_uri": "https://localhost:8080/",
          "height": 51
        },
        "outputId": "191a9917-ad74-4846-eac9-5123c8513f4e"
      },
      "source": [
        "os.makedirs(file_path, exist_ok=True)\n",
        "csv_path = os.path.join(file_path, \"WHO-COVID-19-global-data.csv\")\n",
        "urllib.request.urlretrieve(url,csv_path)"
      ],
      "execution_count": 12,
      "outputs": [
        {
          "output_type": "execute_result",
          "data": {
            "text/plain": [
              "('data/covid/WHO-COVID-19-global-data.csv',\n",
              " <http.client.HTTPMessage at 0x7f25e249b7f0>)"
            ]
          },
          "metadata": {
            "tags": []
          },
          "execution_count": 12
        }
      ]
    },
    {
      "cell_type": "code",
      "metadata": {
        "id": "Zy59606OviLn",
        "colab_type": "code",
        "colab": {}
      },
      "source": [
        "df = pd.read_csv(csv_path) "
      ],
      "execution_count": 13,
      "outputs": []
    },
    {
      "cell_type": "code",
      "metadata": {
        "id": "eMVzrPi1viOX",
        "colab_type": "code",
        "colab": {
          "base_uri": "https://localhost:8080/",
          "height": 439
        },
        "outputId": "d976f15a-0aa2-4657-a3ef-003d1068f088"
      },
      "source": [
        "df"
      ],
      "execution_count": 14,
      "outputs": [
        {
          "output_type": "execute_result",
          "data": {
            "text/html": [
              "<div>\n",
              "<style scoped>\n",
              "    .dataframe tbody tr th:only-of-type {\n",
              "        vertical-align: middle;\n",
              "    }\n",
              "\n",
              "    .dataframe tbody tr th {\n",
              "        vertical-align: top;\n",
              "    }\n",
              "\n",
              "    .dataframe thead th {\n",
              "        text-align: right;\n",
              "    }\n",
              "</style>\n",
              "<table border=\"1\" class=\"dataframe\">\n",
              "  <thead>\n",
              "    <tr style=\"text-align: right;\">\n",
              "      <th></th>\n",
              "      <th>Date_reported</th>\n",
              "      <th>Country_code</th>\n",
              "      <th>Country</th>\n",
              "      <th>WHO_region</th>\n",
              "      <th>New_cases</th>\n",
              "      <th>Cumulative_cases</th>\n",
              "      <th>New_deaths</th>\n",
              "      <th>Cumulative_deaths</th>\n",
              "    </tr>\n",
              "  </thead>\n",
              "  <tbody>\n",
              "    <tr>\n",
              "      <th>0</th>\n",
              "      <td>2020-02-24</td>\n",
              "      <td>AF</td>\n",
              "      <td>Afghanistan</td>\n",
              "      <td>EMRO</td>\n",
              "      <td>1</td>\n",
              "      <td>1</td>\n",
              "      <td>0</td>\n",
              "      <td>0</td>\n",
              "    </tr>\n",
              "    <tr>\n",
              "      <th>1</th>\n",
              "      <td>2020-02-25</td>\n",
              "      <td>AF</td>\n",
              "      <td>Afghanistan</td>\n",
              "      <td>EMRO</td>\n",
              "      <td>0</td>\n",
              "      <td>1</td>\n",
              "      <td>0</td>\n",
              "      <td>0</td>\n",
              "    </tr>\n",
              "    <tr>\n",
              "      <th>2</th>\n",
              "      <td>2020-02-26</td>\n",
              "      <td>AF</td>\n",
              "      <td>Afghanistan</td>\n",
              "      <td>EMRO</td>\n",
              "      <td>0</td>\n",
              "      <td>1</td>\n",
              "      <td>0</td>\n",
              "      <td>0</td>\n",
              "    </tr>\n",
              "    <tr>\n",
              "      <th>3</th>\n",
              "      <td>2020-02-27</td>\n",
              "      <td>AF</td>\n",
              "      <td>Afghanistan</td>\n",
              "      <td>EMRO</td>\n",
              "      <td>0</td>\n",
              "      <td>1</td>\n",
              "      <td>0</td>\n",
              "      <td>0</td>\n",
              "    </tr>\n",
              "    <tr>\n",
              "      <th>4</th>\n",
              "      <td>2020-02-28</td>\n",
              "      <td>AF</td>\n",
              "      <td>Afghanistan</td>\n",
              "      <td>EMRO</td>\n",
              "      <td>0</td>\n",
              "      <td>1</td>\n",
              "      <td>0</td>\n",
              "      <td>0</td>\n",
              "    </tr>\n",
              "    <tr>\n",
              "      <th>...</th>\n",
              "      <td>...</td>\n",
              "      <td>...</td>\n",
              "      <td>...</td>\n",
              "      <td>...</td>\n",
              "      <td>...</td>\n",
              "      <td>...</td>\n",
              "      <td>...</td>\n",
              "      <td>...</td>\n",
              "    </tr>\n",
              "    <tr>\n",
              "      <th>29650</th>\n",
              "      <td>2020-07-17</td>\n",
              "      <td>ZW</td>\n",
              "      <td>Zimbabwe</td>\n",
              "      <td>AFRO</td>\n",
              "      <td>273</td>\n",
              "      <td>1362</td>\n",
              "      <td>3</td>\n",
              "      <td>23</td>\n",
              "    </tr>\n",
              "    <tr>\n",
              "      <th>29651</th>\n",
              "      <td>2020-07-18</td>\n",
              "      <td>ZW</td>\n",
              "      <td>Zimbabwe</td>\n",
              "      <td>AFRO</td>\n",
              "      <td>58</td>\n",
              "      <td>1420</td>\n",
              "      <td>1</td>\n",
              "      <td>24</td>\n",
              "    </tr>\n",
              "    <tr>\n",
              "      <th>29652</th>\n",
              "      <td>2020-07-19</td>\n",
              "      <td>ZW</td>\n",
              "      <td>Zimbabwe</td>\n",
              "      <td>AFRO</td>\n",
              "      <td>58</td>\n",
              "      <td>1478</td>\n",
              "      <td>1</td>\n",
              "      <td>25</td>\n",
              "    </tr>\n",
              "    <tr>\n",
              "      <th>29653</th>\n",
              "      <td>2020-07-20</td>\n",
              "      <td>ZW</td>\n",
              "      <td>Zimbabwe</td>\n",
              "      <td>AFRO</td>\n",
              "      <td>133</td>\n",
              "      <td>1611</td>\n",
              "      <td>0</td>\n",
              "      <td>25</td>\n",
              "    </tr>\n",
              "    <tr>\n",
              "      <th>29654</th>\n",
              "      <td>2020-07-21</td>\n",
              "      <td>ZW</td>\n",
              "      <td>Zimbabwe</td>\n",
              "      <td>AFRO</td>\n",
              "      <td>102</td>\n",
              "      <td>1713</td>\n",
              "      <td>1</td>\n",
              "      <td>26</td>\n",
              "    </tr>\n",
              "  </tbody>\n",
              "</table>\n",
              "<p>29655 rows × 8 columns</p>\n",
              "</div>"
            ],
            "text/plain": [
              "      Date_reported  Country_code  ...  New_deaths  Cumulative_deaths\n",
              "0        2020-02-24            AF  ...           0                  0\n",
              "1        2020-02-25            AF  ...           0                  0\n",
              "2        2020-02-26            AF  ...           0                  0\n",
              "3        2020-02-27            AF  ...           0                  0\n",
              "4        2020-02-28            AF  ...           0                  0\n",
              "...             ...           ...  ...         ...                ...\n",
              "29650    2020-07-17            ZW  ...           3                 23\n",
              "29651    2020-07-18            ZW  ...           1                 24\n",
              "29652    2020-07-19            ZW  ...           1                 25\n",
              "29653    2020-07-20            ZW  ...           0                 25\n",
              "29654    2020-07-21            ZW  ...           1                 26\n",
              "\n",
              "[29655 rows x 8 columns]"
            ]
          },
          "metadata": {
            "tags": []
          },
          "execution_count": 14
        }
      ]
    },
    {
      "cell_type": "code",
      "metadata": {
        "id": "wXcciyEXviUX",
        "colab_type": "code",
        "colab": {
          "base_uri": "https://localhost:8080/",
          "height": 34
        },
        "outputId": "a268b28a-20d0-4b24-855e-d6c4c536095f"
      },
      "source": [
        "df_index = df.index\n",
        "df_index"
      ],
      "execution_count": 19,
      "outputs": [
        {
          "output_type": "execute_result",
          "data": {
            "text/plain": [
              "RangeIndex(start=0, stop=29655, step=1)"
            ]
          },
          "metadata": {
            "tags": []
          },
          "execution_count": 19
        }
      ]
    },
    {
      "cell_type": "code",
      "metadata": {
        "id": "_fzJXxt8viXf",
        "colab_type": "code",
        "colab": {
          "base_uri": "https://localhost:8080/",
          "height": 68
        },
        "outputId": "4db90300-d482-49ce-9534-2a4cd23fc4a7"
      },
      "source": [
        "df_cols = df.columns\n",
        "df_cols"
      ],
      "execution_count": 21,
      "outputs": [
        {
          "output_type": "execute_result",
          "data": {
            "text/plain": [
              "Index(['Date_reported', ' Country_code', ' Country', ' WHO_region',\n",
              "       ' New_cases', ' Cumulative_cases', ' New_deaths', ' Cumulative_deaths'],\n",
              "      dtype='object')"
            ]
          },
          "metadata": {
            "tags": []
          },
          "execution_count": 21
        }
      ]
    },
    {
      "cell_type": "code",
      "metadata": {
        "id": "mZtFnbsiviao",
        "colab_type": "code",
        "colab": {
          "base_uri": "https://localhost:8080/",
          "height": 34
        },
        "outputId": "171876af-56f5-4247-ef65-f6ef8b2085e9"
      },
      "source": [
        "df_index.values"
      ],
      "execution_count": 22,
      "outputs": [
        {
          "output_type": "execute_result",
          "data": {
            "text/plain": [
              "array([    0,     1,     2, ..., 29652, 29653, 29654])"
            ]
          },
          "metadata": {
            "tags": []
          },
          "execution_count": 22
        }
      ]
    },
    {
      "cell_type": "code",
      "metadata": {
        "id": "nbcAyu1C1A_w",
        "colab_type": "code",
        "colab": {
          "base_uri": "https://localhost:8080/",
          "height": 136
        },
        "outputId": "d3c9ab0d-2851-4182-b174-75b6bf9c06f3"
      },
      "source": [
        "df.values"
      ],
      "execution_count": 23,
      "outputs": [
        {
          "output_type": "execute_result",
          "data": {
            "text/plain": [
              "array([['2020-02-24', 'AF', 'Afghanistan', ..., 1, 0, 0],\n",
              "       ['2020-02-25', 'AF', 'Afghanistan', ..., 1, 0, 0],\n",
              "       ['2020-02-26', 'AF', 'Afghanistan', ..., 1, 0, 0],\n",
              "       ...,\n",
              "       ['2020-07-19', 'ZW', 'Zimbabwe', ..., 1478, 1, 25],\n",
              "       ['2020-07-20', 'ZW', 'Zimbabwe', ..., 1611, 0, 25],\n",
              "       ['2020-07-21', 'ZW', 'Zimbabwe', ..., 1713, 1, 26]], dtype=object)"
            ]
          },
          "metadata": {
            "tags": []
          },
          "execution_count": 23
        }
      ]
    },
    {
      "cell_type": "code",
      "metadata": {
        "id": "aEkniCyc1BIk",
        "colab_type": "code",
        "colab": {
          "base_uri": "https://localhost:8080/",
          "height": 170
        },
        "outputId": "611168d9-6fc8-42d0-d761-523c657b114c"
      },
      "source": [
        "df.dtypes"
      ],
      "execution_count": 25,
      "outputs": [
        {
          "output_type": "execute_result",
          "data": {
            "text/plain": [
              "Date_reported         object\n",
              " Country_code         object\n",
              " Country              object\n",
              " WHO_region           object\n",
              " New_cases             int64\n",
              " Cumulative_cases      int64\n",
              " New_deaths            int64\n",
              " Cumulative_deaths     int64\n",
              "dtype: object"
            ]
          },
          "metadata": {
            "tags": []
          },
          "execution_count": 25
        }
      ]
    },
    {
      "cell_type": "code",
      "metadata": {
        "id": "UAeCKYmm1BLr",
        "colab_type": "code",
        "colab": {
          "base_uri": "https://localhost:8080/",
          "height": 34
        },
        "outputId": "639e21b4-98e4-45f2-8d57-e5cef4a20b4c"
      },
      "source": [
        "df.shape"
      ],
      "execution_count": 26,
      "outputs": [
        {
          "output_type": "execute_result",
          "data": {
            "text/plain": [
              "(29655, 8)"
            ]
          },
          "metadata": {
            "tags": []
          },
          "execution_count": 26
        }
      ]
    },
    {
      "cell_type": "code",
      "metadata": {
        "id": "nPFqaR1N1BOa",
        "colab_type": "code",
        "colab": {
          "base_uri": "https://localhost:8080/",
          "height": 204
        },
        "outputId": "663df410-32d4-40fa-c7d9-a6f7f6af41e7"
      },
      "source": [
        "df.head()"
      ],
      "execution_count": 27,
      "outputs": [
        {
          "output_type": "execute_result",
          "data": {
            "text/html": [
              "<div>\n",
              "<style scoped>\n",
              "    .dataframe tbody tr th:only-of-type {\n",
              "        vertical-align: middle;\n",
              "    }\n",
              "\n",
              "    .dataframe tbody tr th {\n",
              "        vertical-align: top;\n",
              "    }\n",
              "\n",
              "    .dataframe thead th {\n",
              "        text-align: right;\n",
              "    }\n",
              "</style>\n",
              "<table border=\"1\" class=\"dataframe\">\n",
              "  <thead>\n",
              "    <tr style=\"text-align: right;\">\n",
              "      <th></th>\n",
              "      <th>Date_reported</th>\n",
              "      <th>Country_code</th>\n",
              "      <th>Country</th>\n",
              "      <th>WHO_region</th>\n",
              "      <th>New_cases</th>\n",
              "      <th>Cumulative_cases</th>\n",
              "      <th>New_deaths</th>\n",
              "      <th>Cumulative_deaths</th>\n",
              "    </tr>\n",
              "  </thead>\n",
              "  <tbody>\n",
              "    <tr>\n",
              "      <th>0</th>\n",
              "      <td>2020-02-24</td>\n",
              "      <td>AF</td>\n",
              "      <td>Afghanistan</td>\n",
              "      <td>EMRO</td>\n",
              "      <td>1</td>\n",
              "      <td>1</td>\n",
              "      <td>0</td>\n",
              "      <td>0</td>\n",
              "    </tr>\n",
              "    <tr>\n",
              "      <th>1</th>\n",
              "      <td>2020-02-25</td>\n",
              "      <td>AF</td>\n",
              "      <td>Afghanistan</td>\n",
              "      <td>EMRO</td>\n",
              "      <td>0</td>\n",
              "      <td>1</td>\n",
              "      <td>0</td>\n",
              "      <td>0</td>\n",
              "    </tr>\n",
              "    <tr>\n",
              "      <th>2</th>\n",
              "      <td>2020-02-26</td>\n",
              "      <td>AF</td>\n",
              "      <td>Afghanistan</td>\n",
              "      <td>EMRO</td>\n",
              "      <td>0</td>\n",
              "      <td>1</td>\n",
              "      <td>0</td>\n",
              "      <td>0</td>\n",
              "    </tr>\n",
              "    <tr>\n",
              "      <th>3</th>\n",
              "      <td>2020-02-27</td>\n",
              "      <td>AF</td>\n",
              "      <td>Afghanistan</td>\n",
              "      <td>EMRO</td>\n",
              "      <td>0</td>\n",
              "      <td>1</td>\n",
              "      <td>0</td>\n",
              "      <td>0</td>\n",
              "    </tr>\n",
              "    <tr>\n",
              "      <th>4</th>\n",
              "      <td>2020-02-28</td>\n",
              "      <td>AF</td>\n",
              "      <td>Afghanistan</td>\n",
              "      <td>EMRO</td>\n",
              "      <td>0</td>\n",
              "      <td>1</td>\n",
              "      <td>0</td>\n",
              "      <td>0</td>\n",
              "    </tr>\n",
              "  </tbody>\n",
              "</table>\n",
              "</div>"
            ],
            "text/plain": [
              "  Date_reported  Country_code  ...  New_deaths  Cumulative_deaths\n",
              "0    2020-02-24            AF  ...           0                  0\n",
              "1    2020-02-25            AF  ...           0                  0\n",
              "2    2020-02-26            AF  ...           0                  0\n",
              "3    2020-02-27            AF  ...           0                  0\n",
              "4    2020-02-28            AF  ...           0                  0\n",
              "\n",
              "[5 rows x 8 columns]"
            ]
          },
          "metadata": {
            "tags": []
          },
          "execution_count": 27
        }
      ]
    },
    {
      "cell_type": "code",
      "metadata": {
        "id": "2KVDsLSi1BRP",
        "colab_type": "code",
        "colab": {
          "base_uri": "https://localhost:8080/",
          "height": 224
        },
        "outputId": "fc1fe505-ee11-4cd6-b97e-d5e0261d8dda"
      },
      "source": [
        "df.tail()"
      ],
      "execution_count": 28,
      "outputs": [
        {
          "output_type": "execute_result",
          "data": {
            "text/html": [
              "<div>\n",
              "<style scoped>\n",
              "    .dataframe tbody tr th:only-of-type {\n",
              "        vertical-align: middle;\n",
              "    }\n",
              "\n",
              "    .dataframe tbody tr th {\n",
              "        vertical-align: top;\n",
              "    }\n",
              "\n",
              "    .dataframe thead th {\n",
              "        text-align: right;\n",
              "    }\n",
              "</style>\n",
              "<table border=\"1\" class=\"dataframe\">\n",
              "  <thead>\n",
              "    <tr style=\"text-align: right;\">\n",
              "      <th></th>\n",
              "      <th>Date_reported</th>\n",
              "      <th>Country_code</th>\n",
              "      <th>Country</th>\n",
              "      <th>WHO_region</th>\n",
              "      <th>New_cases</th>\n",
              "      <th>Cumulative_cases</th>\n",
              "      <th>New_deaths</th>\n",
              "      <th>Cumulative_deaths</th>\n",
              "    </tr>\n",
              "  </thead>\n",
              "  <tbody>\n",
              "    <tr>\n",
              "      <th>29650</th>\n",
              "      <td>2020-07-17</td>\n",
              "      <td>ZW</td>\n",
              "      <td>Zimbabwe</td>\n",
              "      <td>AFRO</td>\n",
              "      <td>273</td>\n",
              "      <td>1362</td>\n",
              "      <td>3</td>\n",
              "      <td>23</td>\n",
              "    </tr>\n",
              "    <tr>\n",
              "      <th>29651</th>\n",
              "      <td>2020-07-18</td>\n",
              "      <td>ZW</td>\n",
              "      <td>Zimbabwe</td>\n",
              "      <td>AFRO</td>\n",
              "      <td>58</td>\n",
              "      <td>1420</td>\n",
              "      <td>1</td>\n",
              "      <td>24</td>\n",
              "    </tr>\n",
              "    <tr>\n",
              "      <th>29652</th>\n",
              "      <td>2020-07-19</td>\n",
              "      <td>ZW</td>\n",
              "      <td>Zimbabwe</td>\n",
              "      <td>AFRO</td>\n",
              "      <td>58</td>\n",
              "      <td>1478</td>\n",
              "      <td>1</td>\n",
              "      <td>25</td>\n",
              "    </tr>\n",
              "    <tr>\n",
              "      <th>29653</th>\n",
              "      <td>2020-07-20</td>\n",
              "      <td>ZW</td>\n",
              "      <td>Zimbabwe</td>\n",
              "      <td>AFRO</td>\n",
              "      <td>133</td>\n",
              "      <td>1611</td>\n",
              "      <td>0</td>\n",
              "      <td>25</td>\n",
              "    </tr>\n",
              "    <tr>\n",
              "      <th>29654</th>\n",
              "      <td>2020-07-21</td>\n",
              "      <td>ZW</td>\n",
              "      <td>Zimbabwe</td>\n",
              "      <td>AFRO</td>\n",
              "      <td>102</td>\n",
              "      <td>1713</td>\n",
              "      <td>1</td>\n",
              "      <td>26</td>\n",
              "    </tr>\n",
              "  </tbody>\n",
              "</table>\n",
              "</div>"
            ],
            "text/plain": [
              "      Date_reported  Country_code  ...  New_deaths  Cumulative_deaths\n",
              "29650    2020-07-17            ZW  ...           3                 23\n",
              "29651    2020-07-18            ZW  ...           1                 24\n",
              "29652    2020-07-19            ZW  ...           1                 25\n",
              "29653    2020-07-20            ZW  ...           0                 25\n",
              "29654    2020-07-21            ZW  ...           1                 26\n",
              "\n",
              "[5 rows x 8 columns]"
            ]
          },
          "metadata": {
            "tags": []
          },
          "execution_count": 28
        }
      ]
    },
    {
      "cell_type": "code",
      "metadata": {
        "id": "kHjmWjaM1BUg",
        "colab_type": "code",
        "colab": {
          "base_uri": "https://localhost:8080/",
          "height": 272
        },
        "outputId": "1a659387-d606-46da-a315-45e1d724602f"
      },
      "source": [
        "df.info()"
      ],
      "execution_count": 30,
      "outputs": [
        {
          "output_type": "stream",
          "text": [
            "<class 'pandas.core.frame.DataFrame'>\n",
            "RangeIndex: 29655 entries, 0 to 29654\n",
            "Data columns (total 8 columns):\n",
            " #   Column              Non-Null Count  Dtype \n",
            "---  ------              --------------  ----- \n",
            " 0   Date_reported       29655 non-null  object\n",
            " 1    Country_code       29525 non-null  object\n",
            " 2    Country            29655 non-null  object\n",
            " 3    WHO_region         29655 non-null  object\n",
            " 4    New_cases          29655 non-null  int64 \n",
            " 5    Cumulative_cases   29655 non-null  int64 \n",
            " 6    New_deaths         29655 non-null  int64 \n",
            " 7    Cumulative_deaths  29655 non-null  int64 \n",
            "dtypes: int64(4), object(4)\n",
            "memory usage: 1.8+ MB\n"
          ],
          "name": "stdout"
        }
      ]
    },
    {
      "cell_type": "code",
      "metadata": {
        "id": "HE8dAs8X2aBB",
        "colab_type": "code",
        "colab": {
          "base_uri": "https://localhost:8080/",
          "height": 297
        },
        "outputId": "ae01699a-7a8f-4330-f1e4-a9434a9b0187"
      },
      "source": [
        "df.describe()"
      ],
      "execution_count": 31,
      "outputs": [
        {
          "output_type": "execute_result",
          "data": {
            "text/html": [
              "<div>\n",
              "<style scoped>\n",
              "    .dataframe tbody tr th:only-of-type {\n",
              "        vertical-align: middle;\n",
              "    }\n",
              "\n",
              "    .dataframe tbody tr th {\n",
              "        vertical-align: top;\n",
              "    }\n",
              "\n",
              "    .dataframe thead th {\n",
              "        text-align: right;\n",
              "    }\n",
              "</style>\n",
              "<table border=\"1\" class=\"dataframe\">\n",
              "  <thead>\n",
              "    <tr style=\"text-align: right;\">\n",
              "      <th></th>\n",
              "      <th>New_cases</th>\n",
              "      <th>Cumulative_cases</th>\n",
              "      <th>New_deaths</th>\n",
              "      <th>Cumulative_deaths</th>\n",
              "    </tr>\n",
              "  </thead>\n",
              "  <tbody>\n",
              "    <tr>\n",
              "      <th>count</th>\n",
              "      <td>29655.000000</td>\n",
              "      <td>2.965500e+04</td>\n",
              "      <td>29655.000000</td>\n",
              "      <td>29655.000000</td>\n",
              "    </tr>\n",
              "    <tr>\n",
              "      <th>mean</th>\n",
              "      <td>490.240904</td>\n",
              "      <td>2.375698e+04</td>\n",
              "      <td>20.480796</td>\n",
              "      <td>1295.601787</td>\n",
              "    </tr>\n",
              "    <tr>\n",
              "      <th>std</th>\n",
              "      <td>2897.817256</td>\n",
              "      <td>1.402746e+05</td>\n",
              "      <td>125.154056</td>\n",
              "      <td>7425.461000</td>\n",
              "    </tr>\n",
              "    <tr>\n",
              "      <th>min</th>\n",
              "      <td>-29726.000000</td>\n",
              "      <td>1.000000e+00</td>\n",
              "      <td>-514.000000</td>\n",
              "      <td>0.000000</td>\n",
              "    </tr>\n",
              "    <tr>\n",
              "      <th>25%</th>\n",
              "      <td>0.000000</td>\n",
              "      <td>3.900000e+01</td>\n",
              "      <td>0.000000</td>\n",
              "      <td>0.000000</td>\n",
              "    </tr>\n",
              "    <tr>\n",
              "      <th>50%</th>\n",
              "      <td>6.000000</td>\n",
              "      <td>5.210000e+02</td>\n",
              "      <td>0.000000</td>\n",
              "      <td>10.000000</td>\n",
              "    </tr>\n",
              "    <tr>\n",
              "      <th>75%</th>\n",
              "      <td>100.000000</td>\n",
              "      <td>4.863500e+03</td>\n",
              "      <td>2.000000</td>\n",
              "      <td>104.000000</td>\n",
              "    </tr>\n",
              "    <tr>\n",
              "      <th>max</th>\n",
              "      <td>74354.000000</td>\n",
              "      <td>3.748248e+06</td>\n",
              "      <td>6409.000000</td>\n",
              "      <td>139964.000000</td>\n",
              "    </tr>\n",
              "  </tbody>\n",
              "</table>\n",
              "</div>"
            ],
            "text/plain": [
              "          New_cases   Cumulative_cases    New_deaths   Cumulative_deaths\n",
              "count  29655.000000       2.965500e+04  29655.000000        29655.000000\n",
              "mean     490.240904       2.375698e+04     20.480796         1295.601787\n",
              "std     2897.817256       1.402746e+05    125.154056         7425.461000\n",
              "min   -29726.000000       1.000000e+00   -514.000000            0.000000\n",
              "25%        0.000000       3.900000e+01      0.000000            0.000000\n",
              "50%        6.000000       5.210000e+02      0.000000           10.000000\n",
              "75%      100.000000       4.863500e+03      2.000000          104.000000\n",
              "max    74354.000000       3.748248e+06   6409.000000       139964.000000"
            ]
          },
          "metadata": {
            "tags": []
          },
          "execution_count": 31
        }
      ]
    },
    {
      "cell_type": "code",
      "metadata": {
        "id": "287jmta62aEG",
        "colab_type": "code",
        "colab": {
          "base_uri": "https://localhost:8080/",
          "height": 221
        },
        "outputId": "c31cdb26-ca5d-40e1-b4ed-05c78725dec4"
      },
      "source": [
        "df[\" Country\"]"
      ],
      "execution_count": 33,
      "outputs": [
        {
          "output_type": "execute_result",
          "data": {
            "text/plain": [
              "0        Afghanistan\n",
              "1        Afghanistan\n",
              "2        Afghanistan\n",
              "3        Afghanistan\n",
              "4        Afghanistan\n",
              "            ...     \n",
              "29650       Zimbabwe\n",
              "29651       Zimbabwe\n",
              "29652       Zimbabwe\n",
              "29653       Zimbabwe\n",
              "29654       Zimbabwe\n",
              "Name:  Country, Length: 29655, dtype: object"
            ]
          },
          "metadata": {
            "tags": []
          },
          "execution_count": 33
        }
      ]
    },
    {
      "cell_type": "code",
      "metadata": {
        "id": "djP2kAX02aGr",
        "colab_type": "code",
        "colab": {
          "base_uri": "https://localhost:8080/",
          "height": 901
        },
        "outputId": "2d76c5d4-1b25-4b69-945d-010db1fb78b8"
      },
      "source": [
        "df[\" Country\"].unique()"
      ],
      "execution_count": 35,
      "outputs": [
        {
          "output_type": "execute_result",
          "data": {
            "text/plain": [
              "array(['Afghanistan', 'Albania', 'Algeria', 'Andorra', 'Angola',\n",
              "       'Anguilla', 'Antigua and Barbuda', 'Argentina', 'Armenia', 'Aruba',\n",
              "       'Australia', 'Austria', 'Azerbaijan', 'Bahamas', 'Bahrain',\n",
              "       'Bangladesh', 'Barbados', 'Belarus', 'Belgium', 'Belize', 'Benin',\n",
              "       'Bermuda', 'Bhutan', 'Bolivia (Plurinational State of)',\n",
              "       'Bonaire, Sint Eustatius and Saba', 'Bosnia and Herzegovina',\n",
              "       'Botswana', 'Brazil', 'British Virgin Islands',\n",
              "       'Brunei Darussalam', 'Bulgaria', 'Burkina Faso', 'Burundi',\n",
              "       'Cabo Verde', 'Cambodia', 'Cameroon', 'Canada', 'Cayman Islands',\n",
              "       'Central African Republic', 'Chad', 'Chile', 'China', 'Colombia',\n",
              "       'Comoros', 'Congo', 'Costa Rica', 'Côte d’Ivoire', 'Croatia',\n",
              "       'Cuba', 'Curacao', 'Cyprus', 'Czechia',\n",
              "       'Democratic Republic of the Congo', 'Denmark', 'Djibouti',\n",
              "       'Dominica', 'Dominican Republic', 'Ecuador', 'Egypt',\n",
              "       'El Salvador', 'Equatorial Guinea', 'Eritrea', 'Estonia',\n",
              "       'Eswatini', 'Ethiopia', 'Falkland Islands (Malvinas)',\n",
              "       'Faroe Islands', 'Fiji', 'Finland', 'France', 'French Guiana',\n",
              "       'French Polynesia', 'Gabon', 'Gambia', 'Georgia', 'Germany',\n",
              "       'Ghana', 'Gibraltar', 'Greece', 'Greenland', 'Grenada',\n",
              "       'Guadeloupe', 'Guam', 'Guatemala', 'Guernsey', 'Guinea',\n",
              "       'Guinea-Bissau', 'Guyana', 'Haiti', 'Holy See', 'Honduras',\n",
              "       'Hungary', 'Iceland', 'India', 'Indonesia',\n",
              "       'Iran (Islamic Republic of)', 'Iraq', 'Ireland', 'Isle of Man',\n",
              "       'Israel', 'Italy', 'Jamaica', 'Japan', 'Jersey', 'Jordan',\n",
              "       'Kazakhstan', 'Kenya', 'Kosovo[1]', 'Kuwait', 'Kyrgyzstan',\n",
              "       \"Lao People's Democratic Republic\", 'Latvia', 'Lebanon', 'Lesotho',\n",
              "       'Liberia', 'Libya', 'Liechtenstein', 'Lithuania', 'Luxembourg',\n",
              "       'Madagascar', 'Malawi', 'Malaysia', 'Maldives', 'Mali', 'Malta',\n",
              "       'Martinique', 'Mauritania', 'Mauritius', 'Mayotte', 'Mexico',\n",
              "       'Monaco', 'Mongolia', 'Montenegro', 'Montserrat', 'Morocco',\n",
              "       'Mozambique', 'Myanmar', 'Namibia', 'Nepal', 'Netherlands',\n",
              "       'New Caledonia', 'New Zealand', 'Nicaragua', 'Niger', 'Nigeria',\n",
              "       'North Macedonia',\n",
              "       'Northern Mariana Islands (Commonwealth of the)', 'Norway',\n",
              "       'occupied Palestinian territory, including east Jerusalem', 'Oman',\n",
              "       'Other', 'Pakistan', 'Panama', 'Papua New Guinea', 'Paraguay',\n",
              "       'Peru', 'Philippines', 'Poland', 'Portugal', 'Puerto Rico',\n",
              "       'Qatar', 'Republic of Korea', 'Republic of Moldova', 'Réunion',\n",
              "       'Romania', 'Russian Federation', 'Rwanda', 'Saint Barthélemy',\n",
              "       'Saint Kitts and Nevis', 'Saint Lucia', 'Saint Martin',\n",
              "       'Saint Pierre and Miquelon', 'Saint Vincent and the Grenadines',\n",
              "       'San Marino', 'Sao Tome and Principe', 'Saudi Arabia', 'Senegal',\n",
              "       'Serbia', 'Seychelles', 'Sierra Leone', 'Singapore',\n",
              "       'Sint Maarten', 'Slovakia', 'Slovenia', 'Somalia', 'South Africa',\n",
              "       'South Sudan', 'Spain', 'Sri Lanka', 'Sudan', 'Suriname', 'Sweden',\n",
              "       'Switzerland', 'Syrian Arab Republic', 'Tajikistan', 'Thailand',\n",
              "       'The United Kingdom', 'Timor-Leste', 'Togo', 'Trinidad and Tobago',\n",
              "       'Tunisia', 'Turkey', 'Turks and Caicos Islands', 'Uganda',\n",
              "       'Ukraine', 'United Arab Emirates', 'United Republic of Tanzania',\n",
              "       'United States of America', 'United States Virgin Islands',\n",
              "       'Uruguay', 'Uzbekistan', 'Venezuela (Bolivarian Republic of)',\n",
              "       'Viet Nam', 'Yemen', 'Zambia', 'Zimbabwe'], dtype=object)"
            ]
          },
          "metadata": {
            "tags": []
          },
          "execution_count": 35
        }
      ]
    },
    {
      "cell_type": "code",
      "metadata": {
        "id": "csiNCM9I2aJe",
        "colab_type": "code",
        "colab": {
          "base_uri": "https://localhost:8080/",
          "height": 68
        },
        "outputId": "cec004d7-9e1c-4f14-c629-507d0eade80a"
      },
      "source": [
        "#Cleaning the blankspaces\n",
        "df.columns = [col.strip() for col in df.columns]\n",
        "df.columns"
      ],
      "execution_count": 36,
      "outputs": [
        {
          "output_type": "execute_result",
          "data": {
            "text/plain": [
              "Index(['Date_reported', 'Country_code', 'Country', 'WHO_region', 'New_cases',\n",
              "       'Cumulative_cases', 'New_deaths', 'Cumulative_deaths'],\n",
              "      dtype='object')"
            ]
          },
          "metadata": {
            "tags": []
          },
          "execution_count": 36
        }
      ]
    },
    {
      "cell_type": "code",
      "metadata": {
        "id": "FQthvVji2aMI",
        "colab_type": "code",
        "colab": {
          "base_uri": "https://localhost:8080/",
          "height": 221
        },
        "outputId": "e66a4e32-7a7d-467f-f402-2f1acd4634dd"
      },
      "source": [
        "df.Country #wtihiut dotspaces coulf acess without brackets the column info"
      ],
      "execution_count": 37,
      "outputs": [
        {
          "output_type": "execute_result",
          "data": {
            "text/plain": [
              "0        Afghanistan\n",
              "1        Afghanistan\n",
              "2        Afghanistan\n",
              "3        Afghanistan\n",
              "4        Afghanistan\n",
              "            ...     \n",
              "29650       Zimbabwe\n",
              "29651       Zimbabwe\n",
              "29652       Zimbabwe\n",
              "29653       Zimbabwe\n",
              "29654       Zimbabwe\n",
              "Name: Country, Length: 29655, dtype: object"
            ]
          },
          "metadata": {
            "tags": []
          },
          "execution_count": 37
        }
      ]
    },
    {
      "cell_type": "code",
      "metadata": {
        "id": "-TYialmj1BXz",
        "colab_type": "code",
        "colab": {
          "base_uri": "https://localhost:8080/",
          "height": 102
        },
        "outputId": "5118ee56-0782-4663-c3bc-878cee2c4089"
      },
      "source": [
        "df.loc[1:4, \"Country\"]"
      ],
      "execution_count": 38,
      "outputs": [
        {
          "output_type": "execute_result",
          "data": {
            "text/plain": [
              "1    Afghanistan\n",
              "2    Afghanistan\n",
              "3    Afghanistan\n",
              "4    Afghanistan\n",
              "Name: Country, dtype: object"
            ]
          },
          "metadata": {
            "tags": []
          },
          "execution_count": 38
        }
      ]
    },
    {
      "cell_type": "code",
      "metadata": {
        "id": "ke719U4Yvid3",
        "colab_type": "code",
        "colab": {
          "base_uri": "https://localhost:8080/",
          "height": 297
        },
        "outputId": "a051c8a3-a8e2-44a6-c5c3-a24cc1cc3d3c"
      },
      "source": [
        "df.loc[1:8, [\"Country\",\"New_cases\"]]"
      ],
      "execution_count": 39,
      "outputs": [
        {
          "output_type": "execute_result",
          "data": {
            "text/html": [
              "<div>\n",
              "<style scoped>\n",
              "    .dataframe tbody tr th:only-of-type {\n",
              "        vertical-align: middle;\n",
              "    }\n",
              "\n",
              "    .dataframe tbody tr th {\n",
              "        vertical-align: top;\n",
              "    }\n",
              "\n",
              "    .dataframe thead th {\n",
              "        text-align: right;\n",
              "    }\n",
              "</style>\n",
              "<table border=\"1\" class=\"dataframe\">\n",
              "  <thead>\n",
              "    <tr style=\"text-align: right;\">\n",
              "      <th></th>\n",
              "      <th>Country</th>\n",
              "      <th>New_cases</th>\n",
              "    </tr>\n",
              "  </thead>\n",
              "  <tbody>\n",
              "    <tr>\n",
              "      <th>1</th>\n",
              "      <td>Afghanistan</td>\n",
              "      <td>0</td>\n",
              "    </tr>\n",
              "    <tr>\n",
              "      <th>2</th>\n",
              "      <td>Afghanistan</td>\n",
              "      <td>0</td>\n",
              "    </tr>\n",
              "    <tr>\n",
              "      <th>3</th>\n",
              "      <td>Afghanistan</td>\n",
              "      <td>0</td>\n",
              "    </tr>\n",
              "    <tr>\n",
              "      <th>4</th>\n",
              "      <td>Afghanistan</td>\n",
              "      <td>0</td>\n",
              "    </tr>\n",
              "    <tr>\n",
              "      <th>5</th>\n",
              "      <td>Afghanistan</td>\n",
              "      <td>0</td>\n",
              "    </tr>\n",
              "    <tr>\n",
              "      <th>6</th>\n",
              "      <td>Afghanistan</td>\n",
              "      <td>0</td>\n",
              "    </tr>\n",
              "    <tr>\n",
              "      <th>7</th>\n",
              "      <td>Afghanistan</td>\n",
              "      <td>0</td>\n",
              "    </tr>\n",
              "    <tr>\n",
              "      <th>8</th>\n",
              "      <td>Afghanistan</td>\n",
              "      <td>0</td>\n",
              "    </tr>\n",
              "  </tbody>\n",
              "</table>\n",
              "</div>"
            ],
            "text/plain": [
              "       Country  New_cases\n",
              "1  Afghanistan          0\n",
              "2  Afghanistan          0\n",
              "3  Afghanistan          0\n",
              "4  Afghanistan          0\n",
              "5  Afghanistan          0\n",
              "6  Afghanistan          0\n",
              "7  Afghanistan          0\n",
              "8  Afghanistan          0"
            ]
          },
          "metadata": {
            "tags": []
          },
          "execution_count": 39
        }
      ]
    },
    {
      "cell_type": "code",
      "metadata": {
        "id": "uewBnVEBvihf",
        "colab_type": "code",
        "colab": {
          "base_uri": "https://localhost:8080/",
          "height": 221
        },
        "outputId": "b4bd998d-13bb-4773-8d1f-6027da05b953"
      },
      "source": [
        "df.Country == 'United States of America'"
      ],
      "execution_count": 40,
      "outputs": [
        {
          "output_type": "execute_result",
          "data": {
            "text/plain": [
              "0        False\n",
              "1        False\n",
              "2        False\n",
              "3        False\n",
              "4        False\n",
              "         ...  \n",
              "29650    False\n",
              "29651    False\n",
              "29652    False\n",
              "29653    False\n",
              "29654    False\n",
              "Name: Country, Length: 29655, dtype: bool"
            ]
          },
          "metadata": {
            "tags": []
          },
          "execution_count": 40
        }
      ]
    },
    {
      "cell_type": "code",
      "metadata": {
        "id": "GMNfTqhn3hLT",
        "colab_type": "code",
        "colab": {
          "base_uri": "https://localhost:8080/",
          "height": 949
        },
        "outputId": "9cf0cc58-e745-4817-c807-e7ad4f0d2744"
      },
      "source": [
        "df[df.Country == \"United States of America\"]"
      ],
      "execution_count": 41,
      "outputs": [
        {
          "output_type": "execute_result",
          "data": {
            "text/html": [
              "<div>\n",
              "<style scoped>\n",
              "    .dataframe tbody tr th:only-of-type {\n",
              "        vertical-align: middle;\n",
              "    }\n",
              "\n",
              "    .dataframe tbody tr th {\n",
              "        vertical-align: top;\n",
              "    }\n",
              "\n",
              "    .dataframe thead th {\n",
              "        text-align: right;\n",
              "    }\n",
              "</style>\n",
              "<table border=\"1\" class=\"dataframe\">\n",
              "  <thead>\n",
              "    <tr style=\"text-align: right;\">\n",
              "      <th></th>\n",
              "      <th>Date_reported</th>\n",
              "      <th>Country_code</th>\n",
              "      <th>Country</th>\n",
              "      <th>WHO_region</th>\n",
              "      <th>New_cases</th>\n",
              "      <th>Cumulative_cases</th>\n",
              "      <th>New_deaths</th>\n",
              "      <th>Cumulative_deaths</th>\n",
              "    </tr>\n",
              "  </thead>\n",
              "  <tbody>\n",
              "    <tr>\n",
              "      <th>28421</th>\n",
              "      <td>2020-01-20</td>\n",
              "      <td>US</td>\n",
              "      <td>United States of America</td>\n",
              "      <td>AMRO</td>\n",
              "      <td>1</td>\n",
              "      <td>1</td>\n",
              "      <td>0</td>\n",
              "      <td>0</td>\n",
              "    </tr>\n",
              "    <tr>\n",
              "      <th>28422</th>\n",
              "      <td>2020-01-21</td>\n",
              "      <td>US</td>\n",
              "      <td>United States of America</td>\n",
              "      <td>AMRO</td>\n",
              "      <td>0</td>\n",
              "      <td>1</td>\n",
              "      <td>0</td>\n",
              "      <td>0</td>\n",
              "    </tr>\n",
              "    <tr>\n",
              "      <th>28423</th>\n",
              "      <td>2020-01-22</td>\n",
              "      <td>US</td>\n",
              "      <td>United States of America</td>\n",
              "      <td>AMRO</td>\n",
              "      <td>0</td>\n",
              "      <td>1</td>\n",
              "      <td>0</td>\n",
              "      <td>0</td>\n",
              "    </tr>\n",
              "    <tr>\n",
              "      <th>28424</th>\n",
              "      <td>2020-01-23</td>\n",
              "      <td>US</td>\n",
              "      <td>United States of America</td>\n",
              "      <td>AMRO</td>\n",
              "      <td>0</td>\n",
              "      <td>1</td>\n",
              "      <td>0</td>\n",
              "      <td>0</td>\n",
              "    </tr>\n",
              "    <tr>\n",
              "      <th>28425</th>\n",
              "      <td>2020-01-24</td>\n",
              "      <td>US</td>\n",
              "      <td>United States of America</td>\n",
              "      <td>AMRO</td>\n",
              "      <td>1</td>\n",
              "      <td>2</td>\n",
              "      <td>0</td>\n",
              "      <td>0</td>\n",
              "    </tr>\n",
              "    <tr>\n",
              "      <th>...</th>\n",
              "      <td>...</td>\n",
              "      <td>...</td>\n",
              "      <td>...</td>\n",
              "      <td>...</td>\n",
              "      <td>...</td>\n",
              "      <td>...</td>\n",
              "      <td>...</td>\n",
              "      <td>...</td>\n",
              "    </tr>\n",
              "    <tr>\n",
              "      <th>28600</th>\n",
              "      <td>2020-07-17</td>\n",
              "      <td>US</td>\n",
              "      <td>United States of America</td>\n",
              "      <td>AMRO</td>\n",
              "      <td>67165</td>\n",
              "      <td>3472659</td>\n",
              "      <td>946</td>\n",
              "      <td>136753</td>\n",
              "    </tr>\n",
              "    <tr>\n",
              "      <th>28601</th>\n",
              "      <td>2020-07-18</td>\n",
              "      <td>US</td>\n",
              "      <td>United States of America</td>\n",
              "      <td>AMRO</td>\n",
              "      <td>71484</td>\n",
              "      <td>3544143</td>\n",
              "      <td>921</td>\n",
              "      <td>137674</td>\n",
              "    </tr>\n",
              "    <tr>\n",
              "      <th>28602</th>\n",
              "      <td>2020-07-19</td>\n",
              "      <td>US</td>\n",
              "      <td>United States of America</td>\n",
              "      <td>AMRO</td>\n",
              "      <td>74354</td>\n",
              "      <td>3618497</td>\n",
              "      <td>917</td>\n",
              "      <td>138591</td>\n",
              "    </tr>\n",
              "    <tr>\n",
              "      <th>28603</th>\n",
              "      <td>2020-07-20</td>\n",
              "      <td>US</td>\n",
              "      <td>United States of America</td>\n",
              "      <td>AMRO</td>\n",
              "      <td>66963</td>\n",
              "      <td>3685460</td>\n",
              "      <td>877</td>\n",
              "      <td>139468</td>\n",
              "    </tr>\n",
              "    <tr>\n",
              "      <th>28604</th>\n",
              "      <td>2020-07-21</td>\n",
              "      <td>US</td>\n",
              "      <td>United States of America</td>\n",
              "      <td>AMRO</td>\n",
              "      <td>62788</td>\n",
              "      <td>3748248</td>\n",
              "      <td>496</td>\n",
              "      <td>139964</td>\n",
              "    </tr>\n",
              "  </tbody>\n",
              "</table>\n",
              "<p>184 rows × 8 columns</p>\n",
              "</div>"
            ],
            "text/plain": [
              "      Date_reported Country_code  ... New_deaths Cumulative_deaths\n",
              "28421    2020-01-20           US  ...          0                 0\n",
              "28422    2020-01-21           US  ...          0                 0\n",
              "28423    2020-01-22           US  ...          0                 0\n",
              "28424    2020-01-23           US  ...          0                 0\n",
              "28425    2020-01-24           US  ...          0                 0\n",
              "...             ...          ...  ...        ...               ...\n",
              "28600    2020-07-17           US  ...        946            136753\n",
              "28601    2020-07-18           US  ...        921            137674\n",
              "28602    2020-07-19           US  ...        917            138591\n",
              "28603    2020-07-20           US  ...        877            139468\n",
              "28604    2020-07-21           US  ...        496            139964\n",
              "\n",
              "[184 rows x 8 columns]"
            ]
          },
          "metadata": {
            "tags": []
          },
          "execution_count": 41
        }
      ]
    },
    {
      "cell_type": "code",
      "metadata": {
        "id": "hBY2TFok3hOg",
        "colab_type": "code",
        "colab": {
          "base_uri": "https://localhost:8080/",
          "height": 694
        },
        "outputId": "d6d36cf1-8fe8-4871-cc6d-91340fa90a25"
      },
      "source": [
        "df[df.New_deaths > 1000]"
      ],
      "execution_count": 42,
      "outputs": [
        {
          "output_type": "execute_result",
          "data": {
            "text/html": [
              "<div>\n",
              "<style scoped>\n",
              "    .dataframe tbody tr th:only-of-type {\n",
              "        vertical-align: middle;\n",
              "    }\n",
              "\n",
              "    .dataframe tbody tr th {\n",
              "        vertical-align: top;\n",
              "    }\n",
              "\n",
              "    .dataframe thead th {\n",
              "        text-align: right;\n",
              "    }\n",
              "</style>\n",
              "<table border=\"1\" class=\"dataframe\">\n",
              "  <thead>\n",
              "    <tr style=\"text-align: right;\">\n",
              "      <th></th>\n",
              "      <th>Date_reported</th>\n",
              "      <th>Country_code</th>\n",
              "      <th>Country</th>\n",
              "      <th>WHO_region</th>\n",
              "      <th>New_cases</th>\n",
              "      <th>Cumulative_cases</th>\n",
              "      <th>New_deaths</th>\n",
              "      <th>Cumulative_deaths</th>\n",
              "    </tr>\n",
              "  </thead>\n",
              "  <tbody>\n",
              "    <tr>\n",
              "      <th>3761</th>\n",
              "      <td>2020-05-21</td>\n",
              "      <td>BR</td>\n",
              "      <td>Brazil</td>\n",
              "      <td>AMRO</td>\n",
              "      <td>17408</td>\n",
              "      <td>271628</td>\n",
              "      <td>1179</td>\n",
              "      <td>17971</td>\n",
              "    </tr>\n",
              "    <tr>\n",
              "      <th>3763</th>\n",
              "      <td>2020-05-23</td>\n",
              "      <td>BR</td>\n",
              "      <td>Brazil</td>\n",
              "      <td>AMRO</td>\n",
              "      <td>18508</td>\n",
              "      <td>310087</td>\n",
              "      <td>1188</td>\n",
              "      <td>20047</td>\n",
              "    </tr>\n",
              "    <tr>\n",
              "      <th>3764</th>\n",
              "      <td>2020-05-24</td>\n",
              "      <td>BR</td>\n",
              "      <td>Brazil</td>\n",
              "      <td>AMRO</td>\n",
              "      <td>20803</td>\n",
              "      <td>330890</td>\n",
              "      <td>1001</td>\n",
              "      <td>21048</td>\n",
              "    </tr>\n",
              "    <tr>\n",
              "      <th>3768</th>\n",
              "      <td>2020-05-28</td>\n",
              "      <td>BR</td>\n",
              "      <td>Brazil</td>\n",
              "      <td>AMRO</td>\n",
              "      <td>16324</td>\n",
              "      <td>391222</td>\n",
              "      <td>1039</td>\n",
              "      <td>24512</td>\n",
              "    </tr>\n",
              "    <tr>\n",
              "      <th>3769</th>\n",
              "      <td>2020-05-29</td>\n",
              "      <td>BR</td>\n",
              "      <td>Brazil</td>\n",
              "      <td>AMRO</td>\n",
              "      <td>20599</td>\n",
              "      <td>411821</td>\n",
              "      <td>1086</td>\n",
              "      <td>25598</td>\n",
              "    </tr>\n",
              "    <tr>\n",
              "      <th>...</th>\n",
              "      <td>...</td>\n",
              "      <td>...</td>\n",
              "      <td>...</td>\n",
              "      <td>...</td>\n",
              "      <td>...</td>\n",
              "      <td>...</td>\n",
              "      <td>...</td>\n",
              "      <td>...</td>\n",
              "    </tr>\n",
              "    <tr>\n",
              "      <th>28557</th>\n",
              "      <td>2020-06-04</td>\n",
              "      <td>US</td>\n",
              "      <td>United States of America</td>\n",
              "      <td>AMRO</td>\n",
              "      <td>24890</td>\n",
              "      <td>1823220</td>\n",
              "      <td>1043</td>\n",
              "      <td>106051</td>\n",
              "    </tr>\n",
              "    <tr>\n",
              "      <th>28559</th>\n",
              "      <td>2020-06-06</td>\n",
              "      <td>US</td>\n",
              "      <td>United States of America</td>\n",
              "      <td>AMRO</td>\n",
              "      <td>20069</td>\n",
              "      <td>1857872</td>\n",
              "      <td>1035</td>\n",
              "      <td>107911</td>\n",
              "    </tr>\n",
              "    <tr>\n",
              "      <th>28560</th>\n",
              "      <td>2020-06-07</td>\n",
              "      <td>US</td>\n",
              "      <td>United States of America</td>\n",
              "      <td>AMRO</td>\n",
              "      <td>28922</td>\n",
              "      <td>1886794</td>\n",
              "      <td>1127</td>\n",
              "      <td>109038</td>\n",
              "    </tr>\n",
              "    <tr>\n",
              "      <th>28564</th>\n",
              "      <td>2020-06-11</td>\n",
              "      <td>US</td>\n",
              "      <td>United States of America</td>\n",
              "      <td>AMRO</td>\n",
              "      <td>17235</td>\n",
              "      <td>1968331</td>\n",
              "      <td>1208</td>\n",
              "      <td>111978</td>\n",
              "    </tr>\n",
              "    <tr>\n",
              "      <th>28580</th>\n",
              "      <td>2020-06-27</td>\n",
              "      <td>US</td>\n",
              "      <td>United States of America</td>\n",
              "      <td>AMRO</td>\n",
              "      <td>40526</td>\n",
              "      <td>2407590</td>\n",
              "      <td>2516</td>\n",
              "      <td>124161</td>\n",
              "    </tr>\n",
              "  </tbody>\n",
              "</table>\n",
              "<p>110 rows × 8 columns</p>\n",
              "</div>"
            ],
            "text/plain": [
              "      Date_reported Country_code  ... New_deaths Cumulative_deaths\n",
              "3761     2020-05-21           BR  ...       1179             17971\n",
              "3763     2020-05-23           BR  ...       1188             20047\n",
              "3764     2020-05-24           BR  ...       1001             21048\n",
              "3768     2020-05-28           BR  ...       1039             24512\n",
              "3769     2020-05-29           BR  ...       1086             25598\n",
              "...             ...          ...  ...        ...               ...\n",
              "28557    2020-06-04           US  ...       1043            106051\n",
              "28559    2020-06-06           US  ...       1035            107911\n",
              "28560    2020-06-07           US  ...       1127            109038\n",
              "28564    2020-06-11           US  ...       1208            111978\n",
              "28580    2020-06-27           US  ...       2516            124161\n",
              "\n",
              "[110 rows x 8 columns]"
            ]
          },
          "metadata": {
            "tags": []
          },
          "execution_count": 42
        }
      ]
    },
    {
      "cell_type": "code",
      "metadata": {
        "id": "SL4G5gkh3hRn",
        "colab_type": "code",
        "colab": {
          "base_uri": "https://localhost:8080/",
          "height": 419
        },
        "outputId": "f11a247e-ad4d-4dc1-868e-e571c09daada"
      },
      "source": [
        "df.loc[df.New_deaths > 1000, [\"New_deaths\", \"Country\"]]"
      ],
      "execution_count": 43,
      "outputs": [
        {
          "output_type": "execute_result",
          "data": {
            "text/html": [
              "<div>\n",
              "<style scoped>\n",
              "    .dataframe tbody tr th:only-of-type {\n",
              "        vertical-align: middle;\n",
              "    }\n",
              "\n",
              "    .dataframe tbody tr th {\n",
              "        vertical-align: top;\n",
              "    }\n",
              "\n",
              "    .dataframe thead th {\n",
              "        text-align: right;\n",
              "    }\n",
              "</style>\n",
              "<table border=\"1\" class=\"dataframe\">\n",
              "  <thead>\n",
              "    <tr style=\"text-align: right;\">\n",
              "      <th></th>\n",
              "      <th>New_deaths</th>\n",
              "      <th>Country</th>\n",
              "    </tr>\n",
              "  </thead>\n",
              "  <tbody>\n",
              "    <tr>\n",
              "      <th>3761</th>\n",
              "      <td>1179</td>\n",
              "      <td>Brazil</td>\n",
              "    </tr>\n",
              "    <tr>\n",
              "      <th>3763</th>\n",
              "      <td>1188</td>\n",
              "      <td>Brazil</td>\n",
              "    </tr>\n",
              "    <tr>\n",
              "      <th>3764</th>\n",
              "      <td>1001</td>\n",
              "      <td>Brazil</td>\n",
              "    </tr>\n",
              "    <tr>\n",
              "      <th>3768</th>\n",
              "      <td>1039</td>\n",
              "      <td>Brazil</td>\n",
              "    </tr>\n",
              "    <tr>\n",
              "      <th>3769</th>\n",
              "      <td>1086</td>\n",
              "      <td>Brazil</td>\n",
              "    </tr>\n",
              "    <tr>\n",
              "      <th>...</th>\n",
              "      <td>...</td>\n",
              "      <td>...</td>\n",
              "    </tr>\n",
              "    <tr>\n",
              "      <th>28557</th>\n",
              "      <td>1043</td>\n",
              "      <td>United States of America</td>\n",
              "    </tr>\n",
              "    <tr>\n",
              "      <th>28559</th>\n",
              "      <td>1035</td>\n",
              "      <td>United States of America</td>\n",
              "    </tr>\n",
              "    <tr>\n",
              "      <th>28560</th>\n",
              "      <td>1127</td>\n",
              "      <td>United States of America</td>\n",
              "    </tr>\n",
              "    <tr>\n",
              "      <th>28564</th>\n",
              "      <td>1208</td>\n",
              "      <td>United States of America</td>\n",
              "    </tr>\n",
              "    <tr>\n",
              "      <th>28580</th>\n",
              "      <td>2516</td>\n",
              "      <td>United States of America</td>\n",
              "    </tr>\n",
              "  </tbody>\n",
              "</table>\n",
              "<p>110 rows × 2 columns</p>\n",
              "</div>"
            ],
            "text/plain": [
              "       New_deaths                   Country\n",
              "3761         1179                    Brazil\n",
              "3763         1188                    Brazil\n",
              "3764         1001                    Brazil\n",
              "3768         1039                    Brazil\n",
              "3769         1086                    Brazil\n",
              "...           ...                       ...\n",
              "28557        1043  United States of America\n",
              "28559        1035  United States of America\n",
              "28560        1127  United States of America\n",
              "28564        1208  United States of America\n",
              "28580        2516  United States of America\n",
              "\n",
              "[110 rows x 2 columns]"
            ]
          },
          "metadata": {
            "tags": []
          },
          "execution_count": 43
        }
      ]
    },
    {
      "cell_type": "code",
      "metadata": {
        "id": "xF24HT8D3hUw",
        "colab_type": "code",
        "colab": {
          "base_uri": "https://localhost:8080/",
          "height": 1000
        },
        "outputId": "e5380800-b72f-4a78-dac4-f6022b262b07"
      },
      "source": [
        "df.loc[(df.New_deaths > 1000) & (df.Country_code == \"US\"), [\"Date_reported\", \"Country\", \"New_cases\", \"New_deaths\",\"Cumulative_deaths\"]]"
      ],
      "execution_count": 45,
      "outputs": [
        {
          "output_type": "execute_result",
          "data": {
            "text/html": [
              "<div>\n",
              "<style scoped>\n",
              "    .dataframe tbody tr th:only-of-type {\n",
              "        vertical-align: middle;\n",
              "    }\n",
              "\n",
              "    .dataframe tbody tr th {\n",
              "        vertical-align: top;\n",
              "    }\n",
              "\n",
              "    .dataframe thead th {\n",
              "        text-align: right;\n",
              "    }\n",
              "</style>\n",
              "<table border=\"1\" class=\"dataframe\">\n",
              "  <thead>\n",
              "    <tr style=\"text-align: right;\">\n",
              "      <th></th>\n",
              "      <th>Date_reported</th>\n",
              "      <th>Country</th>\n",
              "      <th>New_cases</th>\n",
              "      <th>New_deaths</th>\n",
              "      <th>Cumulative_deaths</th>\n",
              "    </tr>\n",
              "  </thead>\n",
              "  <tbody>\n",
              "    <tr>\n",
              "      <th>28496</th>\n",
              "      <td>2020-04-04</td>\n",
              "      <td>United States of America</td>\n",
              "      <td>28103</td>\n",
              "      <td>1061</td>\n",
              "      <td>5854</td>\n",
              "    </tr>\n",
              "    <tr>\n",
              "      <th>28497</th>\n",
              "      <td>2020-04-05</td>\n",
              "      <td>United States of America</td>\n",
              "      <td>32105</td>\n",
              "      <td>1166</td>\n",
              "      <td>7020</td>\n",
              "    </tr>\n",
              "    <tr>\n",
              "      <th>28498</th>\n",
              "      <td>2020-04-06</td>\n",
              "      <td>United States of America</td>\n",
              "      <td>33510</td>\n",
              "      <td>1338</td>\n",
              "      <td>8358</td>\n",
              "    </tr>\n",
              "    <tr>\n",
              "      <th>28499</th>\n",
              "      <td>2020-04-07</td>\n",
              "      <td>United States of America</td>\n",
              "      <td>26493</td>\n",
              "      <td>1201</td>\n",
              "      <td>9559</td>\n",
              "    </tr>\n",
              "    <tr>\n",
              "      <th>28500</th>\n",
              "      <td>2020-04-08</td>\n",
              "      <td>United States of America</td>\n",
              "      <td>29510</td>\n",
              "      <td>1286</td>\n",
              "      <td>10845</td>\n",
              "    </tr>\n",
              "    <tr>\n",
              "      <th>28501</th>\n",
              "      <td>2020-04-09</td>\n",
              "      <td>United States of America</td>\n",
              "      <td>31709</td>\n",
              "      <td>1895</td>\n",
              "      <td>12740</td>\n",
              "    </tr>\n",
              "    <tr>\n",
              "      <th>28502</th>\n",
              "      <td>2020-04-10</td>\n",
              "      <td>United States of America</td>\n",
              "      <td>30859</td>\n",
              "      <td>1925</td>\n",
              "      <td>14665</td>\n",
              "    </tr>\n",
              "    <tr>\n",
              "      <th>28503</th>\n",
              "      <td>2020-04-11</td>\n",
              "      <td>United States of America</td>\n",
              "      <td>35386</td>\n",
              "      <td>1931</td>\n",
              "      <td>16596</td>\n",
              "    </tr>\n",
              "    <tr>\n",
              "      <th>28504</th>\n",
              "      <td>2020-04-12</td>\n",
              "      <td>United States of America</td>\n",
              "      <td>31606</td>\n",
              "      <td>1920</td>\n",
              "      <td>18516</td>\n",
              "    </tr>\n",
              "    <tr>\n",
              "      <th>28505</th>\n",
              "      <td>2020-04-13</td>\n",
              "      <td>United States of America</td>\n",
              "      <td>31633</td>\n",
              "      <td>1928</td>\n",
              "      <td>20444</td>\n",
              "    </tr>\n",
              "    <tr>\n",
              "      <th>28506</th>\n",
              "      <td>2020-04-14</td>\n",
              "      <td>United States of America</td>\n",
              "      <td>29308</td>\n",
              "      <td>1528</td>\n",
              "      <td>21972</td>\n",
              "    </tr>\n",
              "    <tr>\n",
              "      <th>28507</th>\n",
              "      <td>2020-04-15</td>\n",
              "      <td>United States of America</td>\n",
              "      <td>24446</td>\n",
              "      <td>1504</td>\n",
              "      <td>23476</td>\n",
              "    </tr>\n",
              "    <tr>\n",
              "      <th>28508</th>\n",
              "      <td>2020-04-16</td>\n",
              "      <td>United States of America</td>\n",
              "      <td>25802</td>\n",
              "      <td>2395</td>\n",
              "      <td>25871</td>\n",
              "    </tr>\n",
              "    <tr>\n",
              "      <th>28509</th>\n",
              "      <td>2020-04-17</td>\n",
              "      <td>United States of America</td>\n",
              "      <td>28711</td>\n",
              "      <td>6409</td>\n",
              "      <td>32280</td>\n",
              "    </tr>\n",
              "    <tr>\n",
              "      <th>28510</th>\n",
              "      <td>2020-04-18</td>\n",
              "      <td>United States of America</td>\n",
              "      <td>32549</td>\n",
              "      <td>2018</td>\n",
              "      <td>34298</td>\n",
              "    </tr>\n",
              "    <tr>\n",
              "      <th>28511</th>\n",
              "      <td>2020-04-19</td>\n",
              "      <td>United States of America</td>\n",
              "      <td>30023</td>\n",
              "      <td>2438</td>\n",
              "      <td>36736</td>\n",
              "    </tr>\n",
              "    <tr>\n",
              "      <th>28512</th>\n",
              "      <td>2020-04-20</td>\n",
              "      <td>United States of America</td>\n",
              "      <td>28252</td>\n",
              "      <td>1776</td>\n",
              "      <td>38512</td>\n",
              "    </tr>\n",
              "    <tr>\n",
              "      <th>28513</th>\n",
              "      <td>2020-04-21</td>\n",
              "      <td>United States of America</td>\n",
              "      <td>27668</td>\n",
              "      <td>1801</td>\n",
              "      <td>40313</td>\n",
              "    </tr>\n",
              "    <tr>\n",
              "      <th>28514</th>\n",
              "      <td>2020-04-22</td>\n",
              "      <td>United States of America</td>\n",
              "      <td>25634</td>\n",
              "      <td>2154</td>\n",
              "      <td>42467</td>\n",
              "    </tr>\n",
              "    <tr>\n",
              "      <th>28515</th>\n",
              "      <td>2020-04-23</td>\n",
              "      <td>United States of America</td>\n",
              "      <td>24019</td>\n",
              "      <td>2575</td>\n",
              "      <td>45042</td>\n",
              "    </tr>\n",
              "    <tr>\n",
              "      <th>28516</th>\n",
              "      <td>2020-04-24</td>\n",
              "      <td>United States of America</td>\n",
              "      <td>29127</td>\n",
              "      <td>2390</td>\n",
              "      <td>47432</td>\n",
              "    </tr>\n",
              "    <tr>\n",
              "      <th>28517</th>\n",
              "      <td>2020-04-25</td>\n",
              "      <td>United States of America</td>\n",
              "      <td>30719</td>\n",
              "      <td>1742</td>\n",
              "      <td>49174</td>\n",
              "    </tr>\n",
              "    <tr>\n",
              "      <th>28518</th>\n",
              "      <td>2020-04-26</td>\n",
              "      <td>United States of America</td>\n",
              "      <td>38509</td>\n",
              "      <td>2151</td>\n",
              "      <td>51325</td>\n",
              "    </tr>\n",
              "    <tr>\n",
              "      <th>28519</th>\n",
              "      <td>2020-04-27</td>\n",
              "      <td>United States of America</td>\n",
              "      <td>32417</td>\n",
              "      <td>1964</td>\n",
              "      <td>53289</td>\n",
              "    </tr>\n",
              "    <tr>\n",
              "      <th>28520</th>\n",
              "      <td>2020-04-28</td>\n",
              "      <td>United States of America</td>\n",
              "      <td>29218</td>\n",
              "      <td>1109</td>\n",
              "      <td>54398</td>\n",
              "    </tr>\n",
              "    <tr>\n",
              "      <th>28521</th>\n",
              "      <td>2020-04-29</td>\n",
              "      <td>United States of America</td>\n",
              "      <td>22541</td>\n",
              "      <td>1322</td>\n",
              "      <td>55720</td>\n",
              "    </tr>\n",
              "    <tr>\n",
              "      <th>28522</th>\n",
              "      <td>2020-04-30</td>\n",
              "      <td>United States of America</td>\n",
              "      <td>20517</td>\n",
              "      <td>2010</td>\n",
              "      <td>57730</td>\n",
              "    </tr>\n",
              "    <tr>\n",
              "      <th>28523</th>\n",
              "      <td>2020-05-01</td>\n",
              "      <td>United States of America</td>\n",
              "      <td>31379</td>\n",
              "      <td>2902</td>\n",
              "      <td>60632</td>\n",
              "    </tr>\n",
              "    <tr>\n",
              "      <th>28524</th>\n",
              "      <td>2020-05-02</td>\n",
              "      <td>United States of America</td>\n",
              "      <td>31774</td>\n",
              "      <td>2005</td>\n",
              "      <td>62637</td>\n",
              "    </tr>\n",
              "    <tr>\n",
              "      <th>28525</th>\n",
              "      <td>2020-05-03</td>\n",
              "      <td>United States of America</td>\n",
              "      <td>26753</td>\n",
              "      <td>5000</td>\n",
              "      <td>67637</td>\n",
              "    </tr>\n",
              "    <tr>\n",
              "      <th>28529</th>\n",
              "      <td>2020-05-07</td>\n",
              "      <td>United States of America</td>\n",
              "      <td>22267</td>\n",
              "      <td>2475</td>\n",
              "      <td>70556</td>\n",
              "    </tr>\n",
              "    <tr>\n",
              "      <th>28530</th>\n",
              "      <td>2020-05-08</td>\n",
              "      <td>United States of America</td>\n",
              "      <td>22119</td>\n",
              "      <td>1968</td>\n",
              "      <td>72524</td>\n",
              "    </tr>\n",
              "    <tr>\n",
              "      <th>28531</th>\n",
              "      <td>2020-05-09</td>\n",
              "      <td>United States of America</td>\n",
              "      <td>30204</td>\n",
              "      <td>2840</td>\n",
              "      <td>75364</td>\n",
              "    </tr>\n",
              "    <tr>\n",
              "      <th>28532</th>\n",
              "      <td>2020-05-10</td>\n",
              "      <td>United States of America</td>\n",
              "      <td>25870</td>\n",
              "      <td>1552</td>\n",
              "      <td>76916</td>\n",
              "    </tr>\n",
              "    <tr>\n",
              "      <th>28533</th>\n",
              "      <td>2020-05-11</td>\n",
              "      <td>United States of America</td>\n",
              "      <td>26642</td>\n",
              "      <td>1736</td>\n",
              "      <td>78652</td>\n",
              "    </tr>\n",
              "    <tr>\n",
              "      <th>28535</th>\n",
              "      <td>2020-05-13</td>\n",
              "      <td>United States of America</td>\n",
              "      <td>18044</td>\n",
              "      <td>1061</td>\n",
              "      <td>80695</td>\n",
              "    </tr>\n",
              "    <tr>\n",
              "      <th>28536</th>\n",
              "      <td>2020-05-14</td>\n",
              "      <td>United States of America</td>\n",
              "      <td>21424</td>\n",
              "      <td>1424</td>\n",
              "      <td>82119</td>\n",
              "    </tr>\n",
              "    <tr>\n",
              "      <th>28537</th>\n",
              "      <td>2020-05-15</td>\n",
              "      <td>United States of America</td>\n",
              "      <td>20840</td>\n",
              "      <td>1700</td>\n",
              "      <td>83819</td>\n",
              "    </tr>\n",
              "    <tr>\n",
              "      <th>28538</th>\n",
              "      <td>2020-05-16</td>\n",
              "      <td>United States of America</td>\n",
              "      <td>27090</td>\n",
              "      <td>2041</td>\n",
              "      <td>85860</td>\n",
              "    </tr>\n",
              "    <tr>\n",
              "      <th>28539</th>\n",
              "      <td>2020-05-17</td>\n",
              "      <td>United States of America</td>\n",
              "      <td>22813</td>\n",
              "      <td>1320</td>\n",
              "      <td>87180</td>\n",
              "    </tr>\n",
              "    <tr>\n",
              "      <th>28540</th>\n",
              "      <td>2020-05-18</td>\n",
              "      <td>United States of America</td>\n",
              "      <td>31967</td>\n",
              "      <td>1394</td>\n",
              "      <td>88574</td>\n",
              "    </tr>\n",
              "    <tr>\n",
              "      <th>28543</th>\n",
              "      <td>2020-05-21</td>\n",
              "      <td>United States of America</td>\n",
              "      <td>23310</td>\n",
              "      <td>1324</td>\n",
              "      <td>91527</td>\n",
              "    </tr>\n",
              "    <tr>\n",
              "      <th>28544</th>\n",
              "      <td>2020-05-22</td>\n",
              "      <td>United States of America</td>\n",
              "      <td>22787</td>\n",
              "      <td>1396</td>\n",
              "      <td>92923</td>\n",
              "    </tr>\n",
              "    <tr>\n",
              "      <th>28545</th>\n",
              "      <td>2020-05-23</td>\n",
              "      <td>United States of America</td>\n",
              "      <td>20475</td>\n",
              "      <td>1088</td>\n",
              "      <td>94011</td>\n",
              "    </tr>\n",
              "    <tr>\n",
              "      <th>28546</th>\n",
              "      <td>2020-05-24</td>\n",
              "      <td>United States of America</td>\n",
              "      <td>24151</td>\n",
              "      <td>1852</td>\n",
              "      <td>95863</td>\n",
              "    </tr>\n",
              "    <tr>\n",
              "      <th>28547</th>\n",
              "      <td>2020-05-25</td>\n",
              "      <td>United States of America</td>\n",
              "      <td>26158</td>\n",
              "      <td>1046</td>\n",
              "      <td>96909</td>\n",
              "    </tr>\n",
              "    <tr>\n",
              "      <th>28551</th>\n",
              "      <td>2020-05-29</td>\n",
              "      <td>United States of America</td>\n",
              "      <td>19606</td>\n",
              "      <td>1415</td>\n",
              "      <td>100304</td>\n",
              "    </tr>\n",
              "    <tr>\n",
              "      <th>28552</th>\n",
              "      <td>2020-05-30</td>\n",
              "      <td>United States of America</td>\n",
              "      <td>21214</td>\n",
              "      <td>1263</td>\n",
              "      <td>101567</td>\n",
              "    </tr>\n",
              "    <tr>\n",
              "      <th>28553</th>\n",
              "      <td>2020-05-31</td>\n",
              "      <td>United States of America</td>\n",
              "      <td>17962</td>\n",
              "      <td>1073</td>\n",
              "      <td>102640</td>\n",
              "    </tr>\n",
              "    <tr>\n",
              "      <th>28557</th>\n",
              "      <td>2020-06-04</td>\n",
              "      <td>United States of America</td>\n",
              "      <td>24890</td>\n",
              "      <td>1043</td>\n",
              "      <td>106051</td>\n",
              "    </tr>\n",
              "    <tr>\n",
              "      <th>28559</th>\n",
              "      <td>2020-06-06</td>\n",
              "      <td>United States of America</td>\n",
              "      <td>20069</td>\n",
              "      <td>1035</td>\n",
              "      <td>107911</td>\n",
              "    </tr>\n",
              "    <tr>\n",
              "      <th>28560</th>\n",
              "      <td>2020-06-07</td>\n",
              "      <td>United States of America</td>\n",
              "      <td>28922</td>\n",
              "      <td>1127</td>\n",
              "      <td>109038</td>\n",
              "    </tr>\n",
              "    <tr>\n",
              "      <th>28564</th>\n",
              "      <td>2020-06-11</td>\n",
              "      <td>United States of America</td>\n",
              "      <td>17235</td>\n",
              "      <td>1208</td>\n",
              "      <td>111978</td>\n",
              "    </tr>\n",
              "    <tr>\n",
              "      <th>28580</th>\n",
              "      <td>2020-06-27</td>\n",
              "      <td>United States of America</td>\n",
              "      <td>40526</td>\n",
              "      <td>2516</td>\n",
              "      <td>124161</td>\n",
              "    </tr>\n",
              "  </tbody>\n",
              "</table>\n",
              "</div>"
            ],
            "text/plain": [
              "      Date_reported                   Country  ...  New_deaths  Cumulative_deaths\n",
              "28496    2020-04-04  United States of America  ...        1061               5854\n",
              "28497    2020-04-05  United States of America  ...        1166               7020\n",
              "28498    2020-04-06  United States of America  ...        1338               8358\n",
              "28499    2020-04-07  United States of America  ...        1201               9559\n",
              "28500    2020-04-08  United States of America  ...        1286              10845\n",
              "28501    2020-04-09  United States of America  ...        1895              12740\n",
              "28502    2020-04-10  United States of America  ...        1925              14665\n",
              "28503    2020-04-11  United States of America  ...        1931              16596\n",
              "28504    2020-04-12  United States of America  ...        1920              18516\n",
              "28505    2020-04-13  United States of America  ...        1928              20444\n",
              "28506    2020-04-14  United States of America  ...        1528              21972\n",
              "28507    2020-04-15  United States of America  ...        1504              23476\n",
              "28508    2020-04-16  United States of America  ...        2395              25871\n",
              "28509    2020-04-17  United States of America  ...        6409              32280\n",
              "28510    2020-04-18  United States of America  ...        2018              34298\n",
              "28511    2020-04-19  United States of America  ...        2438              36736\n",
              "28512    2020-04-20  United States of America  ...        1776              38512\n",
              "28513    2020-04-21  United States of America  ...        1801              40313\n",
              "28514    2020-04-22  United States of America  ...        2154              42467\n",
              "28515    2020-04-23  United States of America  ...        2575              45042\n",
              "28516    2020-04-24  United States of America  ...        2390              47432\n",
              "28517    2020-04-25  United States of America  ...        1742              49174\n",
              "28518    2020-04-26  United States of America  ...        2151              51325\n",
              "28519    2020-04-27  United States of America  ...        1964              53289\n",
              "28520    2020-04-28  United States of America  ...        1109              54398\n",
              "28521    2020-04-29  United States of America  ...        1322              55720\n",
              "28522    2020-04-30  United States of America  ...        2010              57730\n",
              "28523    2020-05-01  United States of America  ...        2902              60632\n",
              "28524    2020-05-02  United States of America  ...        2005              62637\n",
              "28525    2020-05-03  United States of America  ...        5000              67637\n",
              "28529    2020-05-07  United States of America  ...        2475              70556\n",
              "28530    2020-05-08  United States of America  ...        1968              72524\n",
              "28531    2020-05-09  United States of America  ...        2840              75364\n",
              "28532    2020-05-10  United States of America  ...        1552              76916\n",
              "28533    2020-05-11  United States of America  ...        1736              78652\n",
              "28535    2020-05-13  United States of America  ...        1061              80695\n",
              "28536    2020-05-14  United States of America  ...        1424              82119\n",
              "28537    2020-05-15  United States of America  ...        1700              83819\n",
              "28538    2020-05-16  United States of America  ...        2041              85860\n",
              "28539    2020-05-17  United States of America  ...        1320              87180\n",
              "28540    2020-05-18  United States of America  ...        1394              88574\n",
              "28543    2020-05-21  United States of America  ...        1324              91527\n",
              "28544    2020-05-22  United States of America  ...        1396              92923\n",
              "28545    2020-05-23  United States of America  ...        1088              94011\n",
              "28546    2020-05-24  United States of America  ...        1852              95863\n",
              "28547    2020-05-25  United States of America  ...        1046              96909\n",
              "28551    2020-05-29  United States of America  ...        1415             100304\n",
              "28552    2020-05-30  United States of America  ...        1263             101567\n",
              "28553    2020-05-31  United States of America  ...        1073             102640\n",
              "28557    2020-06-04  United States of America  ...        1043             106051\n",
              "28559    2020-06-06  United States of America  ...        1035             107911\n",
              "28560    2020-06-07  United States of America  ...        1127             109038\n",
              "28564    2020-06-11  United States of America  ...        1208             111978\n",
              "28580    2020-06-27  United States of America  ...        2516             124161\n",
              "\n",
              "[54 rows x 5 columns]"
            ]
          },
          "metadata": {
            "tags": []
          },
          "execution_count": 45
        }
      ]
    },
    {
      "cell_type": "code",
      "metadata": {
        "id": "xyHAnTzM3hX_",
        "colab_type": "code",
        "colab": {
          "base_uri": "https://localhost:8080/",
          "height": 51
        },
        "outputId": "9f0a8f9c-93cb-4d8b-f758-2e4c81e3a0f1"
      },
      "source": [
        "df.loc[df.Country_code == 'US' , ['New_cases'] ].max()"
      ],
      "execution_count": 48,
      "outputs": [
        {
          "output_type": "execute_result",
          "data": {
            "text/plain": [
              "New_cases    74354\n",
              "dtype: int64"
            ]
          },
          "metadata": {
            "tags": []
          },
          "execution_count": 48
        }
      ]
    },
    {
      "cell_type": "code",
      "metadata": {
        "id": "EDNF8qId3hcQ",
        "colab_type": "code",
        "colab": {
          "base_uri": "https://localhost:8080/",
          "height": 51
        },
        "outputId": "7d95414f-2ae0-4314-f959-15150d7c7cfe"
      },
      "source": [
        "df.loc[df.Country_code == \"US\", [\"New_cases\"] ].min ()"
      ],
      "execution_count": 49,
      "outputs": [
        {
          "output_type": "execute_result",
          "data": {
            "text/plain": [
              "New_cases    0\n",
              "dtype: int64"
            ]
          },
          "metadata": {
            "tags": []
          },
          "execution_count": 49
        }
      ]
    },
    {
      "cell_type": "code",
      "metadata": {
        "id": "6vWffjy73hf_",
        "colab_type": "code",
        "colab": {
          "base_uri": "https://localhost:8080/",
          "height": 51
        },
        "outputId": "102d9aee-1719-4092-acd0-dbb1c5daae46"
      },
      "source": [
        "df.loc[df.Country_code == \"US\", [\"New_cases\"] ].sum()"
      ],
      "execution_count": 50,
      "outputs": [
        {
          "output_type": "execute_result",
          "data": {
            "text/plain": [
              "New_cases    3748248\n",
              "dtype: int64"
            ]
          },
          "metadata": {
            "tags": []
          },
          "execution_count": 50
        }
      ]
    },
    {
      "cell_type": "code",
      "metadata": {
        "id": "vvJeyR8F3hjf",
        "colab_type": "code",
        "colab": {
          "base_uri": "https://localhost:8080/",
          "height": 51
        },
        "outputId": "c7005309-2312-462b-ab10-13026de9c391"
      },
      "source": [
        "df.loc[df.Country_code == \"US\", [\"New_deaths\"] ].sum()"
      ],
      "execution_count": 51,
      "outputs": [
        {
          "output_type": "execute_result",
          "data": {
            "text/plain": [
              "New_deaths    139964\n",
              "dtype: int64"
            ]
          },
          "metadata": {
            "tags": []
          },
          "execution_count": 51
        }
      ]
    },
    {
      "cell_type": "code",
      "metadata": {
        "id": "stjtBhEv3hnH",
        "colab_type": "code",
        "colab": {
          "base_uri": "https://localhost:8080/",
          "height": 51
        },
        "outputId": "8d9cfd55-f226-4dc8-9dda-c15bdbdb98cd"
      },
      "source": [
        "df.loc[df.Country_code == 'US' , ['Cumulative_cases'] ].max()"
      ],
      "execution_count": 52,
      "outputs": [
        {
          "output_type": "execute_result",
          "data": {
            "text/plain": [
              "Cumulative_cases    3748248\n",
              "dtype: int64"
            ]
          },
          "metadata": {
            "tags": []
          },
          "execution_count": 52
        }
      ]
    },
    {
      "cell_type": "code",
      "metadata": {
        "id": "isx052Lx3hqo",
        "colab_type": "code",
        "colab": {
          "base_uri": "https://localhost:8080/",
          "height": 34
        },
        "outputId": "8bce1571-9bb6-4a87-fb8f-821211ed842a"
      },
      "source": [
        "df.New_deaths.idxmax()"
      ],
      "execution_count": 54,
      "outputs": [
        {
          "output_type": "execute_result",
          "data": {
            "text/plain": [
              "28509"
            ]
          },
          "metadata": {
            "tags": []
          },
          "execution_count": 54
        }
      ]
    },
    {
      "cell_type": "code",
      "metadata": {
        "id": "rarYDrFv3hto",
        "colab_type": "code",
        "colab": {
          "base_uri": "https://localhost:8080/",
          "height": 119
        },
        "outputId": "3cd97bea-a4e5-41df-9612-d990a97f2d86"
      },
      "source": [
        "df.loc[df.New_deaths .idxmax(), [\"Date_reported\", \"Country\", \"New_cases\", \"New_deaths\",\"Cumulative_deaths\"]]"
      ],
      "execution_count": 58,
      "outputs": [
        {
          "output_type": "execute_result",
          "data": {
            "text/plain": [
              "Date_reported                      2020-04-17\n",
              "Country              United States of America\n",
              "New_cases                               28711\n",
              "New_deaths                               6409\n",
              "Cumulative_deaths                       32280\n",
              "Name: 28509, dtype: object"
            ]
          },
          "metadata": {
            "tags": []
          },
          "execution_count": 58
        }
      ]
    },
    {
      "cell_type": "code",
      "metadata": {
        "id": "RfQY0epP3hw6",
        "colab_type": "code",
        "colab": {
          "base_uri": "https://localhost:8080/",
          "height": 791
        },
        "outputId": "84805f72-f389-4fb2-9497-09a6365bea9d"
      },
      "source": [
        "df[df.New_deaths < 0]"
      ],
      "execution_count": 60,
      "outputs": [
        {
          "output_type": "execute_result",
          "data": {
            "text/html": [
              "<div>\n",
              "<style scoped>\n",
              "    .dataframe tbody tr th:only-of-type {\n",
              "        vertical-align: middle;\n",
              "    }\n",
              "\n",
              "    .dataframe tbody tr th {\n",
              "        vertical-align: top;\n",
              "    }\n",
              "\n",
              "    .dataframe thead th {\n",
              "        text-align: right;\n",
              "    }\n",
              "</style>\n",
              "<table border=\"1\" class=\"dataframe\">\n",
              "  <thead>\n",
              "    <tr style=\"text-align: right;\">\n",
              "      <th></th>\n",
              "      <th>Date_reported</th>\n",
              "      <th>Country_code</th>\n",
              "      <th>Country</th>\n",
              "      <th>WHO_region</th>\n",
              "      <th>New_cases</th>\n",
              "      <th>Cumulative_cases</th>\n",
              "      <th>New_deaths</th>\n",
              "      <th>Cumulative_deaths</th>\n",
              "    </tr>\n",
              "  </thead>\n",
              "  <tbody>\n",
              "    <tr>\n",
              "      <th>1485</th>\n",
              "      <td>2020-06-04</td>\n",
              "      <td>AU</td>\n",
              "      <td>Australia</td>\n",
              "      <td>WPRO</td>\n",
              "      <td>8</td>\n",
              "      <td>7229</td>\n",
              "      <td>-1</td>\n",
              "      <td>102</td>\n",
              "    </tr>\n",
              "    <tr>\n",
              "      <th>4334</th>\n",
              "      <td>2020-07-13</td>\n",
              "      <td>BF</td>\n",
              "      <td>Burkina Faso</td>\n",
              "      <td>AFRO</td>\n",
              "      <td>13</td>\n",
              "      <td>1033</td>\n",
              "      <td>-1</td>\n",
              "      <td>53</td>\n",
              "    </tr>\n",
              "    <tr>\n",
              "      <th>6098</th>\n",
              "      <td>2020-06-09</td>\n",
              "      <td>CG</td>\n",
              "      <td>Congo</td>\n",
              "      <td>AFRO</td>\n",
              "      <td>0</td>\n",
              "      <td>683</td>\n",
              "      <td>-2</td>\n",
              "      <td>20</td>\n",
              "    </tr>\n",
              "    <tr>\n",
              "      <th>6884</th>\n",
              "      <td>2020-05-14</td>\n",
              "      <td>CY</td>\n",
              "      <td>Cyprus</td>\n",
              "      <td>EURO</td>\n",
              "      <td>2</td>\n",
              "      <td>905</td>\n",
              "      <td>-6</td>\n",
              "      <td>17</td>\n",
              "    </tr>\n",
              "    <tr>\n",
              "      <th>7031</th>\n",
              "      <td>2020-05-19</td>\n",
              "      <td>CZ</td>\n",
              "      <td>Czechia</td>\n",
              "      <td>EURO</td>\n",
              "      <td>111</td>\n",
              "      <td>8586</td>\n",
              "      <td>-1</td>\n",
              "      <td>297</td>\n",
              "    </tr>\n",
              "    <tr>\n",
              "      <th>7078</th>\n",
              "      <td>2020-07-05</td>\n",
              "      <td>CZ</td>\n",
              "      <td>Czechia</td>\n",
              "      <td>EURO</td>\n",
              "      <td>121</td>\n",
              "      <td>12440</td>\n",
              "      <td>-1</td>\n",
              "      <td>351</td>\n",
              "    </tr>\n",
              "    <tr>\n",
              "      <th>7079</th>\n",
              "      <td>2020-07-06</td>\n",
              "      <td>CZ</td>\n",
              "      <td>Czechia</td>\n",
              "      <td>EURO</td>\n",
              "      <td>75</td>\n",
              "      <td>12515</td>\n",
              "      <td>-3</td>\n",
              "      <td>348</td>\n",
              "    </tr>\n",
              "    <tr>\n",
              "      <th>7303</th>\n",
              "      <td>2020-05-13</td>\n",
              "      <td>DK</td>\n",
              "      <td>Denmark</td>\n",
              "      <td>EURO</td>\n",
              "      <td>78</td>\n",
              "      <td>10591</td>\n",
              "      <td>-6</td>\n",
              "      <td>527</td>\n",
              "    </tr>\n",
              "    <tr>\n",
              "      <th>9507</th>\n",
              "      <td>2020-05-20</td>\n",
              "      <td>FR</td>\n",
              "      <td>France</td>\n",
              "      <td>EURO</td>\n",
              "      <td>462</td>\n",
              "      <td>140959</td>\n",
              "      <td>-218</td>\n",
              "      <td>27972</td>\n",
              "    </tr>\n",
              "    <tr>\n",
              "      <th>11191</th>\n",
              "      <td>2020-07-06</td>\n",
              "      <td>GP</td>\n",
              "      <td>Guadeloupe</td>\n",
              "      <td>AMRO</td>\n",
              "      <td>0</td>\n",
              "      <td>184</td>\n",
              "      <td>-2</td>\n",
              "      <td>14</td>\n",
              "    </tr>\n",
              "    <tr>\n",
              "      <th>11385</th>\n",
              "      <td>2020-05-05</td>\n",
              "      <td>GT</td>\n",
              "      <td>Guatemala</td>\n",
              "      <td>AMRO</td>\n",
              "      <td>15</td>\n",
              "      <td>703</td>\n",
              "      <td>-2</td>\n",
              "      <td>17</td>\n",
              "    </tr>\n",
              "    <tr>\n",
              "      <th>11709</th>\n",
              "      <td>2020-07-04</td>\n",
              "      <td>GN</td>\n",
              "      <td>Guinea</td>\n",
              "      <td>AFRO</td>\n",
              "      <td>71</td>\n",
              "      <td>5521</td>\n",
              "      <td>-13</td>\n",
              "      <td>33</td>\n",
              "    </tr>\n",
              "    <tr>\n",
              "      <th>13355</th>\n",
              "      <td>2020-05-26</td>\n",
              "      <td>IE</td>\n",
              "      <td>Ireland</td>\n",
              "      <td>EURO</td>\n",
              "      <td>59</td>\n",
              "      <td>24698</td>\n",
              "      <td>-2</td>\n",
              "      <td>1606</td>\n",
              "    </tr>\n",
              "    <tr>\n",
              "      <th>13833</th>\n",
              "      <td>2020-06-25</td>\n",
              "      <td>IT</td>\n",
              "      <td>Italy</td>\n",
              "      <td>EURO</td>\n",
              "      <td>577</td>\n",
              "      <td>239410</td>\n",
              "      <td>-31</td>\n",
              "      <td>34644</td>\n",
              "    </tr>\n",
              "    <tr>\n",
              "      <th>17561</th>\n",
              "      <td>2020-06-16</td>\n",
              "      <td>YT</td>\n",
              "      <td>Mayotte</td>\n",
              "      <td>AFRO</td>\n",
              "      <td>28</td>\n",
              "      <td>2310</td>\n",
              "      <td>-1</td>\n",
              "      <td>28</td>\n",
              "    </tr>\n",
              "    <tr>\n",
              "      <th>21821</th>\n",
              "      <td>2020-05-05</td>\n",
              "      <td>PR</td>\n",
              "      <td>Puerto Rico</td>\n",
              "      <td>AMRO</td>\n",
              "      <td>35</td>\n",
              "      <td>1843</td>\n",
              "      <td>-43</td>\n",
              "      <td>54</td>\n",
              "    </tr>\n",
              "    <tr>\n",
              "      <th>23887</th>\n",
              "      <td>2020-05-10</td>\n",
              "      <td>ST</td>\n",
              "      <td>Sao Tome and Principe</td>\n",
              "      <td>AFRO</td>\n",
              "      <td>-43</td>\n",
              "      <td>165</td>\n",
              "      <td>-1</td>\n",
              "      <td>4</td>\n",
              "    </tr>\n",
              "    <tr>\n",
              "      <th>25519</th>\n",
              "      <td>2020-05-23</td>\n",
              "      <td>SS</td>\n",
              "      <td>South Sudan</td>\n",
              "      <td>AFRO</td>\n",
              "      <td>0</td>\n",
              "      <td>473</td>\n",
              "      <td>-1</td>\n",
              "      <td>5</td>\n",
              "    </tr>\n",
              "    <tr>\n",
              "      <th>28527</th>\n",
              "      <td>2020-05-05</td>\n",
              "      <td>US</td>\n",
              "      <td>United States of America</td>\n",
              "      <td>AMRO</td>\n",
              "      <td>29266</td>\n",
              "      <td>1154985</td>\n",
              "      <td>-514</td>\n",
              "      <td>67279</td>\n",
              "    </tr>\n",
              "    <tr>\n",
              "      <th>29632</th>\n",
              "      <td>2020-06-29</td>\n",
              "      <td>ZW</td>\n",
              "      <td>Zimbabwe</td>\n",
              "      <td>AFRO</td>\n",
              "      <td>0</td>\n",
              "      <td>567</td>\n",
              "      <td>-1</td>\n",
              "      <td>6</td>\n",
              "    </tr>\n",
              "  </tbody>\n",
              "</table>\n",
              "</div>"
            ],
            "text/plain": [
              "      Date_reported Country_code  ... New_deaths Cumulative_deaths\n",
              "1485     2020-06-04           AU  ...         -1               102\n",
              "4334     2020-07-13           BF  ...         -1                53\n",
              "6098     2020-06-09           CG  ...         -2                20\n",
              "6884     2020-05-14           CY  ...         -6                17\n",
              "7031     2020-05-19           CZ  ...         -1               297\n",
              "7078     2020-07-05           CZ  ...         -1               351\n",
              "7079     2020-07-06           CZ  ...         -3               348\n",
              "7303     2020-05-13           DK  ...         -6               527\n",
              "9507     2020-05-20           FR  ...       -218             27972\n",
              "11191    2020-07-06           GP  ...         -2                14\n",
              "11385    2020-05-05           GT  ...         -2                17\n",
              "11709    2020-07-04           GN  ...        -13                33\n",
              "13355    2020-05-26           IE  ...         -2              1606\n",
              "13833    2020-06-25           IT  ...        -31             34644\n",
              "17561    2020-06-16           YT  ...         -1                28\n",
              "21821    2020-05-05           PR  ...        -43                54\n",
              "23887    2020-05-10           ST  ...         -1                 4\n",
              "25519    2020-05-23           SS  ...         -1                 5\n",
              "28527    2020-05-05           US  ...       -514             67279\n",
              "29632    2020-06-29           ZW  ...         -1                 6\n",
              "\n",
              "[20 rows x 8 columns]"
            ]
          },
          "metadata": {
            "tags": []
          },
          "execution_count": 60
        }
      ]
    },
    {
      "cell_type": "code",
      "metadata": {
        "id": "4OwbuM8N3h0n",
        "colab_type": "code",
        "colab": {
          "base_uri": "https://localhost:8080/",
          "height": 439
        },
        "outputId": "2a77d207-1a56-42bc-d734-c1a3c56b68ff"
      },
      "source": [
        "df['pct_cases'] = (df['New_cases'] / df['Cumulative_cases']) * 100\n",
        "df"
      ],
      "execution_count": 61,
      "outputs": [
        {
          "output_type": "execute_result",
          "data": {
            "text/html": [
              "<div>\n",
              "<style scoped>\n",
              "    .dataframe tbody tr th:only-of-type {\n",
              "        vertical-align: middle;\n",
              "    }\n",
              "\n",
              "    .dataframe tbody tr th {\n",
              "        vertical-align: top;\n",
              "    }\n",
              "\n",
              "    .dataframe thead th {\n",
              "        text-align: right;\n",
              "    }\n",
              "</style>\n",
              "<table border=\"1\" class=\"dataframe\">\n",
              "  <thead>\n",
              "    <tr style=\"text-align: right;\">\n",
              "      <th></th>\n",
              "      <th>Date_reported</th>\n",
              "      <th>Country_code</th>\n",
              "      <th>Country</th>\n",
              "      <th>WHO_region</th>\n",
              "      <th>New_cases</th>\n",
              "      <th>Cumulative_cases</th>\n",
              "      <th>New_deaths</th>\n",
              "      <th>Cumulative_deaths</th>\n",
              "      <th>pct_cases</th>\n",
              "    </tr>\n",
              "  </thead>\n",
              "  <tbody>\n",
              "    <tr>\n",
              "      <th>0</th>\n",
              "      <td>2020-02-24</td>\n",
              "      <td>AF</td>\n",
              "      <td>Afghanistan</td>\n",
              "      <td>EMRO</td>\n",
              "      <td>1</td>\n",
              "      <td>1</td>\n",
              "      <td>0</td>\n",
              "      <td>0</td>\n",
              "      <td>100.000000</td>\n",
              "    </tr>\n",
              "    <tr>\n",
              "      <th>1</th>\n",
              "      <td>2020-02-25</td>\n",
              "      <td>AF</td>\n",
              "      <td>Afghanistan</td>\n",
              "      <td>EMRO</td>\n",
              "      <td>0</td>\n",
              "      <td>1</td>\n",
              "      <td>0</td>\n",
              "      <td>0</td>\n",
              "      <td>0.000000</td>\n",
              "    </tr>\n",
              "    <tr>\n",
              "      <th>2</th>\n",
              "      <td>2020-02-26</td>\n",
              "      <td>AF</td>\n",
              "      <td>Afghanistan</td>\n",
              "      <td>EMRO</td>\n",
              "      <td>0</td>\n",
              "      <td>1</td>\n",
              "      <td>0</td>\n",
              "      <td>0</td>\n",
              "      <td>0.000000</td>\n",
              "    </tr>\n",
              "    <tr>\n",
              "      <th>3</th>\n",
              "      <td>2020-02-27</td>\n",
              "      <td>AF</td>\n",
              "      <td>Afghanistan</td>\n",
              "      <td>EMRO</td>\n",
              "      <td>0</td>\n",
              "      <td>1</td>\n",
              "      <td>0</td>\n",
              "      <td>0</td>\n",
              "      <td>0.000000</td>\n",
              "    </tr>\n",
              "    <tr>\n",
              "      <th>4</th>\n",
              "      <td>2020-02-28</td>\n",
              "      <td>AF</td>\n",
              "      <td>Afghanistan</td>\n",
              "      <td>EMRO</td>\n",
              "      <td>0</td>\n",
              "      <td>1</td>\n",
              "      <td>0</td>\n",
              "      <td>0</td>\n",
              "      <td>0.000000</td>\n",
              "    </tr>\n",
              "    <tr>\n",
              "      <th>...</th>\n",
              "      <td>...</td>\n",
              "      <td>...</td>\n",
              "      <td>...</td>\n",
              "      <td>...</td>\n",
              "      <td>...</td>\n",
              "      <td>...</td>\n",
              "      <td>...</td>\n",
              "      <td>...</td>\n",
              "      <td>...</td>\n",
              "    </tr>\n",
              "    <tr>\n",
              "      <th>29650</th>\n",
              "      <td>2020-07-17</td>\n",
              "      <td>ZW</td>\n",
              "      <td>Zimbabwe</td>\n",
              "      <td>AFRO</td>\n",
              "      <td>273</td>\n",
              "      <td>1362</td>\n",
              "      <td>3</td>\n",
              "      <td>23</td>\n",
              "      <td>20.044053</td>\n",
              "    </tr>\n",
              "    <tr>\n",
              "      <th>29651</th>\n",
              "      <td>2020-07-18</td>\n",
              "      <td>ZW</td>\n",
              "      <td>Zimbabwe</td>\n",
              "      <td>AFRO</td>\n",
              "      <td>58</td>\n",
              "      <td>1420</td>\n",
              "      <td>1</td>\n",
              "      <td>24</td>\n",
              "      <td>4.084507</td>\n",
              "    </tr>\n",
              "    <tr>\n",
              "      <th>29652</th>\n",
              "      <td>2020-07-19</td>\n",
              "      <td>ZW</td>\n",
              "      <td>Zimbabwe</td>\n",
              "      <td>AFRO</td>\n",
              "      <td>58</td>\n",
              "      <td>1478</td>\n",
              "      <td>1</td>\n",
              "      <td>25</td>\n",
              "      <td>3.924222</td>\n",
              "    </tr>\n",
              "    <tr>\n",
              "      <th>29653</th>\n",
              "      <td>2020-07-20</td>\n",
              "      <td>ZW</td>\n",
              "      <td>Zimbabwe</td>\n",
              "      <td>AFRO</td>\n",
              "      <td>133</td>\n",
              "      <td>1611</td>\n",
              "      <td>0</td>\n",
              "      <td>25</td>\n",
              "      <td>8.255742</td>\n",
              "    </tr>\n",
              "    <tr>\n",
              "      <th>29654</th>\n",
              "      <td>2020-07-21</td>\n",
              "      <td>ZW</td>\n",
              "      <td>Zimbabwe</td>\n",
              "      <td>AFRO</td>\n",
              "      <td>102</td>\n",
              "      <td>1713</td>\n",
              "      <td>1</td>\n",
              "      <td>26</td>\n",
              "      <td>5.954466</td>\n",
              "    </tr>\n",
              "  </tbody>\n",
              "</table>\n",
              "<p>29655 rows × 9 columns</p>\n",
              "</div>"
            ],
            "text/plain": [
              "      Date_reported Country_code  ... Cumulative_deaths   pct_cases\n",
              "0        2020-02-24           AF  ...                 0  100.000000\n",
              "1        2020-02-25           AF  ...                 0    0.000000\n",
              "2        2020-02-26           AF  ...                 0    0.000000\n",
              "3        2020-02-27           AF  ...                 0    0.000000\n",
              "4        2020-02-28           AF  ...                 0    0.000000\n",
              "...             ...          ...  ...               ...         ...\n",
              "29650    2020-07-17           ZW  ...                23   20.044053\n",
              "29651    2020-07-18           ZW  ...                24    4.084507\n",
              "29652    2020-07-19           ZW  ...                25    3.924222\n",
              "29653    2020-07-20           ZW  ...                25    8.255742\n",
              "29654    2020-07-21           ZW  ...                26    5.954466\n",
              "\n",
              "[29655 rows x 9 columns]"
            ]
          },
          "metadata": {
            "tags": []
          },
          "execution_count": 61
        }
      ]
    },
    {
      "cell_type": "code",
      "metadata": {
        "id": "i1FH9F__3h4H",
        "colab_type": "code",
        "colab": {}
      },
      "source": [
        ""
      ],
      "execution_count": null,
      "outputs": []
    },
    {
      "cell_type": "markdown",
      "metadata": {
        "id": "WFDroomTwuV4",
        "colab_type": "text"
      },
      "source": [
        "[Pandas_Py_tutorial](https://www.youtube.com/watch?v=MYU9W34dZh0&feature=em-uploademail)"
      ]
    }
  ]
}