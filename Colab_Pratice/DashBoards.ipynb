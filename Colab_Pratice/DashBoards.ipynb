{
  "nbformat": 4,
  "nbformat_minor": 0,
  "metadata": {
    "colab": {
      "name": "DashBoards",
      "provenance": [],
      "collapsed_sections": [
        "hqrgusV7CyS8",
        "KtqMv-fRC4O8",
        "QyCR7YyTPYKK"
      ],
      "authorship_tag": "ABX9TyMqKBVrcCgyLMHvyjmA00Qo",
      "include_colab_link": true
    },
    "kernelspec": {
      "name": "python3",
      "display_name": "Python 3"
    }
  },
  "cells": [
    {
      "cell_type": "markdown",
      "metadata": {
        "id": "view-in-github",
        "colab_type": "text"
      },
      "source": [
        "<a href=\"https://colab.research.google.com/github/BragatteMAS/Python_Learning/blob/master/Colab_Pratice/DashBoards.ipynb\" target=\"_parent\"><img src=\"https://colab.research.google.com/assets/colab-badge.svg\" alt=\"Open In Colab\"/></a>"
      ]
    },
    {
      "cell_type": "markdown",
      "metadata": {
        "id": "hqrgusV7CyS8",
        "colab_type": "text"
      },
      "source": [
        "# Dash"
      ]
    },
    {
      "cell_type": "code",
      "metadata": {
        "id": "7Dzc0_m2OQrx",
        "colab_type": "code",
        "colab": {}
      },
      "source": [
        "!pip install dash==1.4.1  # The core dash backend\n",
        "!pip install dash-daq==0.2.1"
      ],
      "execution_count": null,
      "outputs": []
    },
    {
      "cell_type": "code",
      "metadata": {
        "id": "bKO39QwwOKrL",
        "colab_type": "code",
        "colab": {}
      },
      "source": [
        "# -*- coding: utf-8 -*-\n",
        "\n",
        "# Run this app with `python app.py` and\n",
        "# visit http://127.0.0.1:8050/ in your web browser.\n",
        "\n",
        "\n",
        "import dash\n",
        "import dash_core_components as dcc\n",
        "import dash_html_components as html\n",
        "import plotly.express as pxapp.run_server(mode='external')\n",
        "import pandas as pd\n",
        "\n",
        "external_stylesheets = ['https://codepen.io/chriddyp/pen/bWLwgP.css']\n",
        "\n",
        "\n",
        "app = dash.Dash(__name__, external_stylesheets=external_stylesheets)\n",
        "\n",
        "# assume you have a \"long-form\" data frame\n",
        "# see https://plotly.com/python/px-arguments/ for more options\n",
        "df = pd.DataFrame({\n",
        "    \"Fruit\": [\"Apples\", \"Oranges\", \"Bananas\", \"Apples\", \"Oranges\", \"Bananas\"],\n",
        "    \"Amount\": [4, 1, 2, 2, 4, 5],\n",
        "    \"City\": [\"SF\", \"SF\", \"SF\", \"Montreal\", \"Montreal\", \"Montreal\"]\n",
        "})\n",
        "\n",
        "fig = px.bar(df, x=\"Fruit\", y=\"Amount\", color=\"City\", barmode=\"group\")\n",
        "\n",
        "app.layout = html.Div(children=[\n",
        "    html.H1(children='Hello Dash'),\n",
        "\n",
        "    html.Div(children='''\n",
        "\n",
        "        Dash: A web application framework for Python.\n",
        "    '''),\n",
        "\n",
        "    dcc.Graph(\n",
        "        id='example-graph',\n",
        "        figure=fig\n",
        "    )\n",
        "])\n",
        "\n",
        "if __name__ == '__main__':\n",
        "    app.run_server(debug=False)"
      ],
      "execution_count": null,
      "outputs": []
    },
    {
      "cell_type": "markdown",
      "metadata": {
        "id": "KtqMv-fRC4O8",
        "colab_type": "text"
      },
      "source": [
        "# Jupyter Dash"
      ]
    },
    {
      "cell_type": "code",
      "metadata": {
        "id": "7sCXwv9QDBt8",
        "colab_type": "code",
        "colab": {}
      },
      "source": [
        "!pip install jupyter-dash"
      ],
      "execution_count": null,
      "outputs": []
    },
    {
      "cell_type": "code",
      "metadata": {
        "id": "4ancAil-DBzk",
        "colab_type": "code",
        "colab": {}
      },
      "source": [
        "import plotly.express as px\n",
        "from jupyter_dash import JupyterDash\n",
        "import dash_core_components as dcc\n",
        "import dash_html_components as html\n",
        "from dash.dependencies import Input, Output# Load Data"
      ],
      "execution_count": null,
      "outputs": []
    },
    {
      "cell_type": "code",
      "metadata": {
        "id": "R7z68VuuDB5Y",
        "colab_type": "code",
        "colab": {}
      },
      "source": [
        "df = px.data.tips()# Build App\n",
        "app = JupyterDash(__name__)\n",
        "app.layout = html.Div([\n",
        "    html.H1(\"Bragatte deploy ML App Colab ngrok Demo\"),\n",
        "    dcc.Graph(id='graph'),\n",
        "    html.Label([\n",
        "        \"colorscale\",\n",
        "        dcc.Dropdown(\n",
        "            id='colorscale-dropdown', clearable=False,\n",
        "            value='plasma', options=[\n",
        "                {'label': c, 'value': c}\n",
        "                for c in px.colors.named_colorscales()\n",
        "            ])\n",
        "    ]),\n",
        "])# Define callback to update graph\n",
        "@app.callback(\n",
        "    Output('graph', 'figure'),\n",
        "    [Input(\"colorscale-dropdown\", \"value\")]\n",
        ")\n",
        "def update_figure(colorscale):\n",
        "    return px.scatter(\n",
        "        df, x=\"total_bill\", y=\"tip\", color=\"size\",\n",
        "        color_continuous_scale=colorscale,\n",
        "        render_mode=\"webgl\", title=\"Tips\"\n",
        "    )# Run app and display result inline in the notebook"
      ],
      "execution_count": null,
      "outputs": []
    },
    {
      "cell_type": "code",
      "metadata": {
        "id": "7-peNEvyDB2n",
        "colab_type": "code",
        "colab": {}
      },
      "source": [
        "app.run_server(mode='external')"
      ],
      "execution_count": null,
      "outputs": []
    },
    {
      "cell_type": "markdown",
      "metadata": {
        "id": "QyCR7YyTPYKK",
        "colab_type": "text"
      },
      "source": [
        "# Criar URL pública para acesso através do [ngrok](https://dashboard.ngrok.com/get-started/setup) - [Vídeo tutorial](https://www.youtube.com/watch?v=AkEnjJ5yWV0)"
      ]
    },
    {
      "cell_type": "code",
      "metadata": {
        "id": "q0g1XLIODBws",
        "colab_type": "code",
        "colab": {
          "base_uri": "https://localhost:8080/",
          "height": 0
        },
        "outputId": "2a66b54f-bcca-4ef6-e1ed-92a1ce8f48f3"
      },
      "source": [
        "! pip install pyngrok\n",
        "#https://dashboard.ngrok.com/get-started/setup"
      ],
      "execution_count": 1,
      "outputs": [
        {
          "output_type": "stream",
          "text": [
            "Requirement already satisfied: pyngrok in /usr/local/lib/python3.6/dist-packages (4.1.8)\n",
            "Requirement already satisfied: future in /usr/local/lib/python3.6/dist-packages (from pyngrok) (0.16.0)\n",
            "Requirement already satisfied: PyYAML in /usr/local/lib/python3.6/dist-packages (from pyngrok) (3.13)\n"
          ],
          "name": "stdout"
        }
      ]
    },
    {
      "cell_type": "code",
      "metadata": {
        "id": "HL-ldJ7WDBq8",
        "colab_type": "code",
        "colab": {
          "base_uri": "https://localhost:8080/",
          "height": 0
        },
        "outputId": "0f8dbdb7-cab2-4c8f-e50c-5f2699f52c4a"
      },
      "source": [
        "! ngrok authtoken 1fh0Og2crH9ldooHNzZMCzzgmJe_tr4gYiho5NxH7nmp63ME"
      ],
      "execution_count": 2,
      "outputs": [
        {
          "output_type": "stream",
          "text": [
            "Authtoken saved to configuration file: /root/.ngrok2/ngrok.yml\n"
          ],
          "name": "stdout"
        }
      ]
    },
    {
      "cell_type": "code",
      "metadata": {
        "id": "IE0t8qxjEeEe",
        "colab_type": "code",
        "colab": {}
      },
      "source": [
        "from pyngrok import ngrok\n",
        "\n",
        "# Open a HTTP tunnel on the default port 80\n",
        "public_url = ngrok.connect(port = '8050')"
      ],
      "execution_count": 3,
      "outputs": []
    },
    {
      "cell_type": "code",
      "metadata": {
        "id": "HOMR09uYEeLE",
        "colab_type": "code",
        "colab": {
          "base_uri": "https://localhost:8080/",
          "height": 0
        },
        "outputId": "86ea6758-d610-4276-c537-5a839663f093"
      },
      "source": [
        "public_url"
      ],
      "execution_count": 4,
      "outputs": [
        {
          "output_type": "execute_result",
          "data": {
            "application/vnd.google.colaboratory.intrinsic+json": {
              "type": "string"
            },
            "text/plain": [
              "'http://545188575c31.ngrok.io'"
            ]
          },
          "metadata": {
            "tags": []
          },
          "execution_count": 4
        }
      ]
    },
    {
      "cell_type": "code",
      "metadata": {
        "id": "uIppIuk4Etjd",
        "colab_type": "code",
        "colab": {}
      },
      "source": [
        "ngrok.kill()"
      ],
      "execution_count": 20,
      "outputs": []
    }
  ]
}