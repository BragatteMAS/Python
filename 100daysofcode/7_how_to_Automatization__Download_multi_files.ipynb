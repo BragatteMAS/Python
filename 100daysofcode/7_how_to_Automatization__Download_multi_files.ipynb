{
  "nbformat": 4,
  "nbformat_minor": 0,
  "metadata": {
    "colab": {
      "name": "Automatization__Download_multi_files.ipynb",
      "provenance": [],
      "authorship_tag": "ABX9TyNHYt2hnK+Fq/uz257l8b4k",
      "include_colab_link": true
    },
    "kernelspec": {
      "name": "python3",
      "display_name": "Python 3"
    }
  },
  "cells": [
    {
      "cell_type": "markdown",
      "metadata": {
        "id": "view-in-github",
        "colab_type": "text"
      },
      "source": [
        "<a href=\"https://colab.research.google.com/github/BragatteMAS/Python_Learning/blob/master/100daysofcode/7_how_to_Automatization__Download_multi_files.ipynb\" target=\"_parent\"><img src=\"https://colab.research.google.com/assets/colab-badge.svg\" alt=\"Open In Colab\"/></a>"
      ]
    },
    {
      "cell_type": "markdown",
      "metadata": {
        "id": "Cgzefan3IiSM"
      },
      "source": [
        ""
      ]
    },
    {
      "cell_type": "code",
      "metadata": {
        "id": "SN6AMPdhITZ2"
      },
      "source": [
        "'''\r\n",
        "100daysofcode\r\n",
        "\"How to Automatization__Download_multi_files\"\r\n",
        "create by  @bragatte ^202101162317\r\n",
        "Day 7\r\n",
        "[Ref]()\r\n",
        "'''"
      ],
      "execution_count": null,
      "outputs": []
    },
    {
      "cell_type": "code",
      "metadata": {
        "id": "Vky2jtWwZnyX",
        "colab": {
          "base_uri": "https://localhost:8080/",
          "height": 122
        },
        "outputId": "9983e3f8-8a42-48d0-a2bd-1822fbe1217a"
      },
      "source": [
        "!pip install requests"
      ],
      "execution_count": null,
      "outputs": [
        {
          "output_type": "stream",
          "text": [
            "Requirement already satisfied: requests in /usr/local/lib/python3.6/dist-packages (2.23.0)\n",
            "Requirement already satisfied: chardet<4,>=3.0.2 in /usr/local/lib/python3.6/dist-packages (from requests) (3.0.4)\n",
            "Requirement already satisfied: certifi>=2017.4.17 in /usr/local/lib/python3.6/dist-packages (from requests) (2020.6.20)\n",
            "Requirement already satisfied: idna<3,>=2.5 in /usr/local/lib/python3.6/dist-packages (from requests) (2.10)\n",
            "Requirement already satisfied: urllib3!=1.25.0,!=1.25.1,<1.26,>=1.21.1 in /usr/local/lib/python3.6/dist-packages (from requests) (1.24.3)\n"
          ],
          "name": "stdout"
        }
      ]
    },
    {
      "cell_type": "code",
      "metadata": {
        "id": "ZsCsW4ZTZ7Ge"
      },
      "source": [
        "import os\n",
        "import requests"
      ],
      "execution_count": null,
      "outputs": []
    },
    {
      "cell_type": "code",
      "metadata": {
        "id": "8w2clPwZZ7Dw"
      },
      "source": [
        "def download_file(url, adress):\n",
        "    #request to server\n",
        "    answer = requests.get(url)\n",
        "    if answer.status_code == requests.codes.ok:\n",
        "        with open(adress, 'wb') as new_file:\n",
        "            new_file.write(answer.content)\n",
        "        print(f\"Download finished. Save in: {adress}\")\n",
        "    else:\n",
        "        answer.raise_for_status()"
      ],
      "execution_count": null,
      "outputs": []
    },
    {
      "cell_type": "code",
      "metadata": {
        "id": "sq40BNgIZ7A5",
        "colab": {
          "base_uri": "https://localhost:8080/",
          "height": 34
        },
        "outputId": "3413e591-8070-42f9-d660-38483270fdc9"
      },
      "source": [
        "if __name__== \"__main__\":\n",
        "    download_file('https://math.mit.edu/classes/18.745/Notes/Lecture_1_Notes.pdf', 'test.pdf')"
      ],
      "execution_count": null,
      "outputs": [
        {
          "output_type": "stream",
          "text": [
            "Download finished. Save in: test.pdf\n"
          ],
          "name": "stdout"
        }
      ]
    },
    {
      "cell_type": "code",
      "metadata": {
        "id": "CWdVFwkLZ6-J",
        "colab": {
          "base_uri": "https://localhost:8080/",
          "height": 442
        },
        "outputId": "76dee021-3816-4995-cd3c-9a3511f1e97d"
      },
      "source": [
        "#Alternative change only the variation into url\n",
        "if __name__== \"__main__\":\n",
        "    base_url = \"https://math.mit.edu/classes/18.745/Notes/Lecture_{}_Notes.pdf\"\n",
        "    output_dir = 'output'\n",
        "    for i in range (1, 26):\n",
        "        file_name = os.path.join(output_dir, f'Class_notes_{i}.pdf')\n",
        "        download_file(base_url.format(i), file_name) "
      ],
      "execution_count": null,
      "outputs": [
        {
          "output_type": "stream",
          "text": [
            "Download finished. Save in: output/Class_notes_1.pdf\n",
            "Download finished. Save in: output/Class_notes_2.pdf\n",
            "Download finished. Save in: output/Class_notes_3.pdf\n",
            "Download finished. Save in: output/Class_notes_4.pdf\n",
            "Download finished. Save in: output/Class_notes_5.pdf\n",
            "Download finished. Save in: output/Class_notes_6.pdf\n",
            "Download finished. Save in: output/Class_notes_7.pdf\n",
            "Download finished. Save in: output/Class_notes_8.pdf\n",
            "Download finished. Save in: output/Class_notes_9.pdf\n",
            "Download finished. Save in: output/Class_notes_10.pdf\n",
            "Download finished. Save in: output/Class_notes_11.pdf\n",
            "Download finished. Save in: output/Class_notes_12.pdf\n",
            "Download finished. Save in: output/Class_notes_13.pdf\n",
            "Download finished. Save in: output/Class_notes_14.pdf\n",
            "Download finished. Save in: output/Class_notes_15.pdf\n",
            "Download finished. Save in: output/Class_notes_16.pdf\n",
            "Download finished. Save in: output/Class_notes_17.pdf\n",
            "Download finished. Save in: output/Class_notes_18.pdf\n",
            "Download finished. Save in: output/Class_notes_19.pdf\n",
            "Download finished. Save in: output/Class_notes_20.pdf\n",
            "Download finished. Save in: output/Class_notes_21.pdf\n",
            "Download finished. Save in: output/Class_notes_22.pdf\n",
            "Download finished. Save in: output/Class_notes_23.pdf\n",
            "Download finished. Save in: output/Class_notes_24.pdf\n",
            "Download finished. Save in: output/Class_notes_25.pdf\n"
          ],
          "name": "stdout"
        }
      ]
    },
    {
      "cell_type": "markdown",
      "metadata": {
        "id": "3UUzk1Cna21i"
      },
      "source": [
        "[Ref](https://www.youtube.com/watch?v=qx2LGtKzjxk&feature=em-uploademail)"
      ]
    }
  ]
}