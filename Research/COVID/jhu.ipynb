{
 "cells": [
  {
   "cell_type": "code",
   "execution_count": 1,
   "metadata": {},
   "outputs": [],
   "source": [
    "import pandas as pd\n",
    "import datetime"
   ]
  },
  {
   "cell_type": "code",
   "execution_count": 2,
   "metadata": {},
   "outputs": [],
   "source": [
    "def get_covid_data_jhu(dt_ini, dt_fim, us_columns = True, country = None):\n",
    "    \n",
    "    date_range = pd.date_range(start = dt_ini, end = dt_fim).to_list()\n",
    "    string_range = [str(d.date().strftime(\"%m-%d-%Y\")) for d in date_range]\n",
    "    \n",
    "    full_data_list = []\n",
    "    for dat in string_range:\n",
    "        url = f\"https://raw.githubusercontent.com/CSSEGISandData/COVID-19/master/csse_covid_19_data/csse_covid_19_daily_reports/{dat}.csv\"\n",
    "        current_data = pd.read_csv(url)\n",
    "        full_data_list.append(current_data)\n",
    "    \n",
    "    full_df = pd.concat(full_data_list)\n",
    "    \n",
    "    if country:\n",
    "        full_df = full_df[full_df['Country_Region'].isin(country)]\n",
    "        \n",
    "    if not us_columns:\n",
    "        full_df.drop(full_df.columns[0:3], axis = 1, inplace = True)\n",
    "        \n",
    "    return full_df"
   ]
  },
  {
   "cell_type": "code",
   "execution_count": 3,
   "metadata": {},
   "outputs": [
    {
     "data": {
      "text/plain": [
       "<function __main__.get_covid_data_jhu(dt_ini, dt_fim, us_columns=True, country=None)>"
      ]
     },
     "execution_count": 3,
     "metadata": {},
     "output_type": "execute_result"
    }
   ],
   "source": [
    "get_covid_data_jhu"
   ]
  },
  {
   "cell_type": "code",
   "execution_count": 4,
   "metadata": {},
   "outputs": [
    {
     "data": {
      "text/html": [
       "<div>\n",
       "<style scoped>\n",
       "    .dataframe tbody tr th:only-of-type {\n",
       "        vertical-align: middle;\n",
       "    }\n",
       "\n",
       "    .dataframe tbody tr th {\n",
       "        vertical-align: top;\n",
       "    }\n",
       "\n",
       "    .dataframe thead th {\n",
       "        text-align: right;\n",
       "    }\n",
       "</style>\n",
       "<table border=\"1\" class=\"dataframe\">\n",
       "  <thead>\n",
       "    <tr style=\"text-align: right;\">\n",
       "      <th></th>\n",
       "      <th>FIPS</th>\n",
       "      <th>Admin2</th>\n",
       "      <th>Province_State</th>\n",
       "      <th>Country_Region</th>\n",
       "      <th>Last_Update</th>\n",
       "      <th>Lat</th>\n",
       "      <th>Long_</th>\n",
       "      <th>Confirmed</th>\n",
       "      <th>Deaths</th>\n",
       "      <th>Recovered</th>\n",
       "      <th>Active</th>\n",
       "      <th>Combined_Key</th>\n",
       "      <th>Incident_Rate</th>\n",
       "      <th>Case_Fatality_Ratio</th>\n",
       "    </tr>\n",
       "  </thead>\n",
       "  <tbody>\n",
       "    <tr>\n",
       "      <th>41</th>\n",
       "      <td>NaN</td>\n",
       "      <td>NaN</td>\n",
       "      <td>Acre</td>\n",
       "      <td>Brazil</td>\n",
       "      <td>2021-02-22 05:24:21</td>\n",
       "      <td>-9.0238</td>\n",
       "      <td>-70.8120</td>\n",
       "      <td>54786</td>\n",
       "      <td>963</td>\n",
       "      <td>46016.0</td>\n",
       "      <td>7807.0</td>\n",
       "      <td>Acre, Brazil</td>\n",
       "      <td>6212.022428</td>\n",
       "      <td>1.757748</td>\n",
       "    </tr>\n",
       "    <tr>\n",
       "      <th>42</th>\n",
       "      <td>NaN</td>\n",
       "      <td>NaN</td>\n",
       "      <td>Alagoas</td>\n",
       "      <td>Brazil</td>\n",
       "      <td>2021-02-22 05:24:21</td>\n",
       "      <td>-9.5713</td>\n",
       "      <td>-36.7820</td>\n",
       "      <td>128192</td>\n",
       "      <td>2932</td>\n",
       "      <td>122264.0</td>\n",
       "      <td>2996.0</td>\n",
       "      <td>Alagoas, Brazil</td>\n",
       "      <td>3841.123380</td>\n",
       "      <td>2.287194</td>\n",
       "    </tr>\n",
       "    <tr>\n",
       "      <th>43</th>\n",
       "      <td>NaN</td>\n",
       "      <td>NaN</td>\n",
       "      <td>Amapa</td>\n",
       "      <td>Brazil</td>\n",
       "      <td>2021-02-22 05:24:21</td>\n",
       "      <td>0.9020</td>\n",
       "      <td>-52.0030</td>\n",
       "      <td>82015</td>\n",
       "      <td>1121</td>\n",
       "      <td>59917.0</td>\n",
       "      <td>20977.0</td>\n",
       "      <td>Amapa, Brazil</td>\n",
       "      <td>9697.527937</td>\n",
       "      <td>1.366823</td>\n",
       "    </tr>\n",
       "    <tr>\n",
       "      <th>44</th>\n",
       "      <td>NaN</td>\n",
       "      <td>NaN</td>\n",
       "      <td>Amazonas</td>\n",
       "      <td>Brazil</td>\n",
       "      <td>2021-02-22 05:24:21</td>\n",
       "      <td>-3.4168</td>\n",
       "      <td>-65.8561</td>\n",
       "      <td>306003</td>\n",
       "      <td>10462</td>\n",
       "      <td>260097.0</td>\n",
       "      <td>35444.0</td>\n",
       "      <td>Amazonas, Brazil</td>\n",
       "      <td>7383.178630</td>\n",
       "      <td>3.418921</td>\n",
       "    </tr>\n",
       "    <tr>\n",
       "      <th>45</th>\n",
       "      <td>NaN</td>\n",
       "      <td>NaN</td>\n",
       "      <td>Bahia</td>\n",
       "      <td>Brazil</td>\n",
       "      <td>2021-02-22 05:24:21</td>\n",
       "      <td>-12.5797</td>\n",
       "      <td>-41.7007</td>\n",
       "      <td>653335</td>\n",
       "      <td>11191</td>\n",
       "      <td>625441.0</td>\n",
       "      <td>16703.0</td>\n",
       "      <td>Bahia, Brazil</td>\n",
       "      <td>4392.739788</td>\n",
       "      <td>1.712904</td>\n",
       "    </tr>\n",
       "  </tbody>\n",
       "</table>\n",
       "</div>"
      ],
      "text/plain": [
       "    FIPS Admin2 Province_State Country_Region          Last_Update      Lat  \\\n",
       "41   NaN    NaN           Acre         Brazil  2021-02-22 05:24:21  -9.0238   \n",
       "42   NaN    NaN        Alagoas         Brazil  2021-02-22 05:24:21  -9.5713   \n",
       "43   NaN    NaN          Amapa         Brazil  2021-02-22 05:24:21   0.9020   \n",
       "44   NaN    NaN       Amazonas         Brazil  2021-02-22 05:24:21  -3.4168   \n",
       "45   NaN    NaN          Bahia         Brazil  2021-02-22 05:24:21 -12.5797   \n",
       "\n",
       "      Long_  Confirmed  Deaths  Recovered   Active      Combined_Key  \\\n",
       "41 -70.8120      54786     963    46016.0   7807.0      Acre, Brazil   \n",
       "42 -36.7820     128192    2932   122264.0   2996.0   Alagoas, Brazil   \n",
       "43 -52.0030      82015    1121    59917.0  20977.0     Amapa, Brazil   \n",
       "44 -65.8561     306003   10462   260097.0  35444.0  Amazonas, Brazil   \n",
       "45 -41.7007     653335   11191   625441.0  16703.0     Bahia, Brazil   \n",
       "\n",
       "    Incident_Rate  Case_Fatality_Ratio  \n",
       "41    6212.022428             1.757748  \n",
       "42    3841.123380             2.287194  \n",
       "43    9697.527937             1.366823  \n",
       "44    7383.178630             3.418921  \n",
       "45    4392.739788             1.712904  "
      ]
     },
     "execution_count": 4,
     "metadata": {},
     "output_type": "execute_result"
    }
   ],
   "source": [
    "df_secwave = get_covid_data_jhu(\"2021-02-21\", \"2021-06-20\", us_columns = True, country = ['Brazil'])\n",
    "df_secwave.head()"
   ]
  },
  {
   "cell_type": "markdown",
   "metadata": {},
   "source": [
    "## Moving mean for second wave"
   ]
  },
  {
   "cell_type": "code",
   "execution_count": 8,
   "metadata": {},
   "outputs": [],
   "source": [
    "comparison_interval = []"
   ]
  }
 ],
 "metadata": {
  "interpreter": {
   "hash": "0cb9cabe2ae93ad4c9aca2ade7fff2fe49bbec27924e94a91176d07385399583"
  },
  "kernelspec": {
   "display_name": "Python 3.8.10 64-bit ('base': conda)",
   "language": "python",
   "name": "python3"
  },
  "language_info": {
   "codemirror_mode": {
    "name": "ipython",
    "version": 3
   },
   "file_extension": ".py",
   "mimetype": "text/x-python",
   "name": "python",
   "nbconvert_exporter": "python",
   "pygments_lexer": "ipython3",
   "version": "3.8.10"
  },
  "orig_nbformat": 4
 },
 "nbformat": 4,
 "nbformat_minor": 2
}
