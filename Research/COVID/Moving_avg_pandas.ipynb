{
 "cells": [
  {
   "cell_type": "markdown",
   "metadata": {},
   "source": [
    "# Rolling_avg with pandas\n",
    "@Bragatte [Ref](https://www.youtube.com/watch?v=rrVgT6Q8CMM)actoring"
   ]
  },
  {
   "cell_type": "code",
   "execution_count": null,
   "metadata": {},
   "outputs": [],
   "source": [
    "!pip install yfinance"
   ]
  },
  {
   "cell_type": "code",
   "execution_count": 4,
   "metadata": {},
   "outputs": [],
   "source": [
    "import yfinance as yf\n",
    "import matplotlib.pyplot as plt\n",
    "import numpy as np\n",
    "import math\n"
   ]
  },
  {
   "cell_type": "code",
   "execution_count": 8,
   "metadata": {},
   "outputs": [
    {
     "name": "stdout",
     "output_type": "stream",
     "text": [
      "[*********************100%***********************]  1 of 1 completed\n"
     ]
    }
   ],
   "source": [
    "data = yf.download('^GSPC', start='2016-11-01', end='2021-11-01')"
   ]
  },
  {
   "cell_type": "code",
   "execution_count": 9,
   "metadata": {},
   "outputs": [],
   "source": [
    "def crossover_sinal(data):\n",
    "    #criar sinais de compra e venda\n",
    "    data['SMA15'] = data['Close'].rolling(window=15).mean() #média móvel\n",
    "    data['SMA50'] = data['Close'].rolling(window=50).mean() #média móvel\n",
    "\n",
    "    data['Anterior'] = data['SMA15'].shift(1) - data['SMA50'].shift(1)\n",
    "    data['Atual'] = data['SMA15'] - data['SMA50']\n",
    "\n",
    "    data.loc[(data['Anterior'] < 0) & (data['Atual'] > 0), 'Compra'] = data['Close']\n",
    "    data.loc[(data['Anterior'] > 0) & (data['Atual'] < 0), 'Venda'] = data['Close']\n",
    "\n",
    "    columns = ['Close','SMA15','SMA50','Compra','Venda']\n",
    "\n",
    "    return data[columns]"
   ]
  },
  {
   "cell_type": "code",
   "execution_count": 11,
   "metadata": {},
   "outputs": [
    {
     "data": {
      "text/html": [
       "<div>\n",
       "<style scoped>\n",
       "    .dataframe tbody tr th:only-of-type {\n",
       "        vertical-align: middle;\n",
       "    }\n",
       "\n",
       "    .dataframe tbody tr th {\n",
       "        vertical-align: top;\n",
       "    }\n",
       "\n",
       "    .dataframe thead th {\n",
       "        text-align: right;\n",
       "    }\n",
       "</style>\n",
       "<table border=\"1\" class=\"dataframe\">\n",
       "  <thead>\n",
       "    <tr style=\"text-align: right;\">\n",
       "      <th></th>\n",
       "      <th>Close</th>\n",
       "      <th>SMA15</th>\n",
       "      <th>SMA50</th>\n",
       "      <th>Compra</th>\n",
       "      <th>Venda</th>\n",
       "    </tr>\n",
       "    <tr>\n",
       "      <th>Date</th>\n",
       "      <th></th>\n",
       "      <th></th>\n",
       "      <th></th>\n",
       "      <th></th>\n",
       "      <th></th>\n",
       "    </tr>\n",
       "  </thead>\n",
       "  <tbody>\n",
       "    <tr>\n",
       "      <th>2021-10-25</th>\n",
       "      <td>4566.479980</td>\n",
       "      <td>4445.938574</td>\n",
       "      <td>4447.426162</td>\n",
       "      <td>NaN</td>\n",
       "      <td>NaN</td>\n",
       "    </tr>\n",
       "    <tr>\n",
       "      <th>2021-10-26</th>\n",
       "      <td>4574.790039</td>\n",
       "      <td>4461.209896</td>\n",
       "      <td>4449.327764</td>\n",
       "      <td>4574.790039</td>\n",
       "      <td>NaN</td>\n",
       "    </tr>\n",
       "    <tr>\n",
       "      <th>2021-10-27</th>\n",
       "      <td>4551.680176</td>\n",
       "      <td>4473.751921</td>\n",
       "      <td>4451.399766</td>\n",
       "      <td>NaN</td>\n",
       "      <td>NaN</td>\n",
       "    </tr>\n",
       "    <tr>\n",
       "      <th>2021-10-28</th>\n",
       "      <td>4596.419922</td>\n",
       "      <td>4486.862598</td>\n",
       "      <td>4455.322764</td>\n",
       "      <td>NaN</td>\n",
       "      <td>NaN</td>\n",
       "    </tr>\n",
       "    <tr>\n",
       "      <th>2021-10-29</th>\n",
       "      <td>4605.379883</td>\n",
       "      <td>4501.131934</td>\n",
       "      <td>4459.314365</td>\n",
       "      <td>NaN</td>\n",
       "      <td>NaN</td>\n",
       "    </tr>\n",
       "  </tbody>\n",
       "</table>\n",
       "</div>"
      ],
      "text/plain": [
       "                  Close        SMA15        SMA50       Compra  Venda\n",
       "Date                                                                 \n",
       "2021-10-25  4566.479980  4445.938574  4447.426162          NaN    NaN\n",
       "2021-10-26  4574.790039  4461.209896  4449.327764  4574.790039    NaN\n",
       "2021-10-27  4551.680176  4473.751921  4451.399766          NaN    NaN\n",
       "2021-10-28  4596.419922  4486.862598  4455.322764          NaN    NaN\n",
       "2021-10-29  4605.379883  4501.131934  4459.314365          NaN    NaN"
      ]
     },
     "execution_count": 11,
     "metadata": {},
     "output_type": "execute_result"
    }
   ],
   "source": [
    "output_df = crossover_sinal(data)\n",
    "output_df.tail()"
   ]
  },
  {
   "cell_type": "code",
   "execution_count": 13,
   "metadata": {},
   "outputs": [],
   "source": [
    "filtered_data = output_df.loc[(output_df.index<'2020-01-01') & (output_df.index>'2019-01-01')]"
   ]
  },
  {
   "cell_type": "code",
   "execution_count": 16,
   "metadata": {},
   "outputs": [
    {
     "data": {
      "text/plain": [
       "Text(0, 0.5, 'Data')"
      ]
     },
     "execution_count": 16,
     "metadata": {},
     "output_type": "execute_result"
    },
    {
     "data": {
      "image/png": "[encoded data removed]",
      "text/plain": [
       "<Figure size 432x288 with 1 Axes>"
      ]
     },
     "metadata": {
      "needs_background": "light"
     },
     "output_type": "display_data"
    }
   ],
   "source": [
    "fig, ax = plt.subplots()\n",
    "\n",
    "#Adicionar info\n",
    "ax.plot(filtered_data.index, filtered_data['Close'], label='Fechou', alpha=0.5)\n",
    "ax.plot(filtered_data.index, filtered_data['SMA15'], label='MMS15',color='orange')\n",
    "ax.plot(filtered_data.index, filtered_data['SMA50'], label='MMS50',color='brown')\n",
    "\n",
    "#Adicionar linhas de compra e venda\n",
    "ax.scatter(filtered_data.index, filtered_data['Compra'], label='Compra', marker='^',color='green')\n",
    "ax.scatter(filtered_data.index, filtered_data['Venda'], label='Venda', marker='v',color='red')\n",
    "\n",
    "#formatar\n",
    "fig.autofmt_xdate()\n",
    "ax.legend()\n",
    "\n",
    "#label adicionais\n",
    "ax.yaxis.set_major_formatter('${x:}')\n",
    "ax.set_title('Estrategia Médias Móveis')\n",
    "ax.set_ylabel('Data')"
   ]
  },
  {
   "cell_type": "markdown",
   "metadata": {},
   "source": [
    "[Ref1](https://www.ti-enxame.com/pt/python/media-movel-pandas/827849410/)"
   ]
  }
 ],
 "metadata": {
  "interpreter": {
   "hash": "0cb9cabe2ae93ad4c9aca2ade7fff2fe49bbec27924e94a91176d07385399583"
  },
  "kernelspec": {
   "display_name": "Python 3.8.10 64-bit ('base': conda)",
   "language": "python",
   "name": "python3"
  },
  "language_info": {
   "codemirror_mode": {
    "name": "ipython",
    "version": 3
   },
   "file_extension": ".py",
   "mimetype": "text/x-python",
   "name": "python",
   "nbconvert_exporter": "python",
   "pygments_lexer": "ipython3",
   "version": "3.8.10"
  },
  "orig_nbformat": 4
 },
 "nbformat": 4,
 "nbformat_minor": 2
}
